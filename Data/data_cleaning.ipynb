{
 "cells": [
  {
   "cell_type": "markdown",
   "id": "3314f0c6",
   "metadata": {},
   "source": [
    "Some work were followed by the advice of https://nik-davis.github.io/posts/2019/steam-data-cleaning/\n",
    "\n",
    "... and based on the information on the dataset some decisions are made"
   ]
  },
  {
   "cell_type": "code",
   "execution_count": 223,
   "id": "ee13717c",
   "metadata": {},
   "outputs": [],
   "source": [
    "# loaded required libraries\n",
    "\n",
    "import pandas as pd\n",
    "import numpy as np\n",
    "import json\n",
    "from ast import literal_eval\n",
    "import re"
   ]
  },
  {
   "cell_type": "markdown",
   "id": "18ffe42b",
   "metadata": {},
   "source": [
    "## Import and clean the steam store data"
   ]
  },
  {
   "cell_type": "code",
   "execution_count": 224,
   "id": "3714007c",
   "metadata": {},
   "outputs": [],
   "source": [
    "steam_basic = pd.read_json(\"steam_11_2022/steam_games.json\", orient = 'index')"
   ]
  },
  {
   "cell_type": "code",
   "execution_count": 225,
   "id": "c2b1e1c5",
   "metadata": {},
   "outputs": [],
   "source": [
    "steam_basic = steam_basic.reset_index(drop=True)"
   ]
  },
  {
   "cell_type": "code",
   "execution_count": 226,
   "id": "a2c3b9b9",
   "metadata": {},
   "outputs": [
    {
     "data": {
      "text/html": [
       "<div>\n",
       "<style scoped>\n",
       "    .dataframe tbody tr th:only-of-type {\n",
       "        vertical-align: middle;\n",
       "    }\n",
       "\n",
       "    .dataframe tbody tr th {\n",
       "        vertical-align: top;\n",
       "    }\n",
       "\n",
       "    .dataframe thead th {\n",
       "        text-align: right;\n",
       "    }\n",
       "</style>\n",
       "<table border=\"1\" class=\"dataframe\">\n",
       "  <thead>\n",
       "    <tr style=\"text-align: right;\">\n",
       "      <th></th>\n",
       "      <th>appid</th>\n",
       "      <th>name</th>\n",
       "      <th>short_description</th>\n",
       "      <th>developer</th>\n",
       "      <th>publisher</th>\n",
       "      <th>genre</th>\n",
       "      <th>tags</th>\n",
       "      <th>type</th>\n",
       "      <th>categories</th>\n",
       "      <th>owners</th>\n",
       "      <th>...</th>\n",
       "      <th>price</th>\n",
       "      <th>initialprice</th>\n",
       "      <th>discount</th>\n",
       "      <th>ccu</th>\n",
       "      <th>languages</th>\n",
       "      <th>platforms</th>\n",
       "      <th>release_date</th>\n",
       "      <th>required_age</th>\n",
       "      <th>website</th>\n",
       "      <th>header_image</th>\n",
       "    </tr>\n",
       "  </thead>\n",
       "  <tbody>\n",
       "    <tr>\n",
       "      <th>0</th>\n",
       "      <td>10</td>\n",
       "      <td>Counter-Strike</td>\n",
       "      <td>Play the world's number 1 online action game. ...</td>\n",
       "      <td>Valve</td>\n",
       "      <td>Valve</td>\n",
       "      <td>Action</td>\n",
       "      <td>{'Action': 5426, 'FPS': 4831, 'Multiplayer': 3...</td>\n",
       "      <td>game</td>\n",
       "      <td>[Multi-player, Valve Anti-Cheat enabled, Onlin...</td>\n",
       "      <td>10,000,000 .. 20,000,000</td>\n",
       "      <td>...</td>\n",
       "      <td>999</td>\n",
       "      <td>999</td>\n",
       "      <td>0</td>\n",
       "      <td>13990</td>\n",
       "      <td>English, French, German, Italian, Spanish - Sp...</td>\n",
       "      <td>{'windows': True, 'mac': True, 'linux': True}</td>\n",
       "      <td>2000/11/1</td>\n",
       "      <td>0</td>\n",
       "      <td></td>\n",
       "      <td>https://cdn.akamai.steamstatic.com/steam/apps/...</td>\n",
       "    </tr>\n",
       "    <tr>\n",
       "      <th>1</th>\n",
       "      <td>1000000</td>\n",
       "      <td>ASCENXION</td>\n",
       "      <td>ASCENXION is a 2D shoot 'em up game where you ...</td>\n",
       "      <td>IndigoBlue Game Studio</td>\n",
       "      <td>PsychoFlux Entertainment</td>\n",
       "      <td>Action, Adventure, Indie</td>\n",
       "      <td>{'Shoot 'Em Up': 186, 'Metroidvania': 181, 'Bu...</td>\n",
       "      <td>game</td>\n",
       "      <td>[Single-player, Partial Controller Support, St...</td>\n",
       "      <td>0 .. 20,000</td>\n",
       "      <td>...</td>\n",
       "      <td>999</td>\n",
       "      <td>999</td>\n",
       "      <td>0</td>\n",
       "      <td>0</td>\n",
       "      <td>English, Korean, Simplified Chinese</td>\n",
       "      <td>{'windows': True, 'mac': False, 'linux': False}</td>\n",
       "      <td>2021/05/14</td>\n",
       "      <td>0</td>\n",
       "      <td></td>\n",
       "      <td>https://cdn.akamai.steamstatic.com/steam/apps/...</td>\n",
       "    </tr>\n",
       "    <tr>\n",
       "      <th>2</th>\n",
       "      <td>1000010</td>\n",
       "      <td>Crown Trick</td>\n",
       "      <td>Enter a labyrinth that moves as you move, wher...</td>\n",
       "      <td>NEXT Studios</td>\n",
       "      <td>Team17, NEXT Studios</td>\n",
       "      <td>Adventure, Indie, RPG, Strategy</td>\n",
       "      <td>{'Rogue-like': 268, 'Turn-Based Combat': 254, ...</td>\n",
       "      <td>game</td>\n",
       "      <td>[Single-player, Partial Controller Support, St...</td>\n",
       "      <td>200,000 .. 500,000</td>\n",
       "      <td>...</td>\n",
       "      <td>599</td>\n",
       "      <td>1999</td>\n",
       "      <td>70</td>\n",
       "      <td>99</td>\n",
       "      <td>Simplified Chinese, English, Japanese, Traditi...</td>\n",
       "      <td>{'windows': True, 'mac': False, 'linux': False}</td>\n",
       "      <td>2020/10/16</td>\n",
       "      <td>0</td>\n",
       "      <td></td>\n",
       "      <td>https://cdn.akamai.steamstatic.com/steam/apps/...</td>\n",
       "    </tr>\n",
       "  </tbody>\n",
       "</table>\n",
       "<p>3 rows × 22 columns</p>\n",
       "</div>"
      ],
      "text/plain": [
       "     appid            name                                  short_description  \\\n",
       "0       10  Counter-Strike  Play the world's number 1 online action game. ...   \n",
       "1  1000000       ASCENXION  ASCENXION is a 2D shoot 'em up game where you ...   \n",
       "2  1000010     Crown Trick  Enter a labyrinth that moves as you move, wher...   \n",
       "\n",
       "                developer                 publisher  \\\n",
       "0                   Valve                     Valve   \n",
       "1  IndigoBlue Game Studio  PsychoFlux Entertainment   \n",
       "2            NEXT Studios      Team17, NEXT Studios   \n",
       "\n",
       "                             genre  \\\n",
       "0                           Action   \n",
       "1         Action, Adventure, Indie   \n",
       "2  Adventure, Indie, RPG, Strategy   \n",
       "\n",
       "                                                tags  type  \\\n",
       "0  {'Action': 5426, 'FPS': 4831, 'Multiplayer': 3...  game   \n",
       "1  {'Shoot 'Em Up': 186, 'Metroidvania': 181, 'Bu...  game   \n",
       "2  {'Rogue-like': 268, 'Turn-Based Combat': 254, ...  game   \n",
       "\n",
       "                                          categories  \\\n",
       "0  [Multi-player, Valve Anti-Cheat enabled, Onlin...   \n",
       "1  [Single-player, Partial Controller Support, St...   \n",
       "2  [Single-player, Partial Controller Support, St...   \n",
       "\n",
       "                     owners  ...  price  initialprice  discount    ccu  \\\n",
       "0  10,000,000 .. 20,000,000  ...    999           999         0  13990   \n",
       "1               0 .. 20,000  ...    999           999         0      0   \n",
       "2        200,000 .. 500,000  ...    599          1999        70     99   \n",
       "\n",
       "                                           languages  \\\n",
       "0  English, French, German, Italian, Spanish - Sp...   \n",
       "1                English, Korean, Simplified Chinese   \n",
       "2  Simplified Chinese, English, Japanese, Traditi...   \n",
       "\n",
       "                                         platforms release_date required_age  \\\n",
       "0    {'windows': True, 'mac': True, 'linux': True}    2000/11/1            0   \n",
       "1  {'windows': True, 'mac': False, 'linux': False}   2021/05/14            0   \n",
       "2  {'windows': True, 'mac': False, 'linux': False}   2020/10/16            0   \n",
       "\n",
       "  website                                       header_image  \n",
       "0          https://cdn.akamai.steamstatic.com/steam/apps/...  \n",
       "1          https://cdn.akamai.steamstatic.com/steam/apps/...  \n",
       "2          https://cdn.akamai.steamstatic.com/steam/apps/...  \n",
       "\n",
       "[3 rows x 22 columns]"
      ]
     },
     "execution_count": 226,
     "metadata": {},
     "output_type": "execute_result"
    }
   ],
   "source": [
    "steam_basic.head(3)"
   ]
  },
  {
   "cell_type": "markdown",
   "id": "5b8cfe2d",
   "metadata": {},
   "source": [
    "## Combine the two data\n",
    "\n",
    "Now we have 2 datasets... - we need to combine them\n",
    "\n",
    "the reason why we didnt combine them in the developer and requirement is..."
   ]
  },
  {
   "cell_type": "code",
   "execution_count": 227,
   "id": "6f488c93",
   "metadata": {},
   "outputs": [
    {
     "data": {
      "text/plain": [
       "(55691, 22)"
      ]
     },
     "execution_count": 227,
     "metadata": {},
     "output_type": "execute_result"
    }
   ],
   "source": [
    "steam_basic.shape"
   ]
  },
  {
   "cell_type": "code",
   "execution_count": 228,
   "id": "ec614388",
   "metadata": {},
   "outputs": [],
   "source": [
    "steam_csv = pd.read_csv('steam_dlc/steam.csv')"
   ]
  },
  {
   "cell_type": "code",
   "execution_count": 229,
   "id": "3c26375c",
   "metadata": {},
   "outputs": [
    {
     "data": {
      "text/plain": [
       "(102504, 26)"
      ]
     },
     "execution_count": 229,
     "metadata": {},
     "output_type": "execute_result"
    }
   ],
   "source": [
    "steam_csv.shape"
   ]
  },
  {
   "cell_type": "markdown",
   "id": "875622be",
   "metadata": {},
   "source": [
    "The *steam_basic* contains games only on the Steam Store website. The *steam_csv* data table contains additional dlc information. Although the first one only contain games on the steam store, it is the most updated version of the all the games available on the store by November 2022. Since we also need dlc information, that is why we acquired another dataset which is the second one.\n",
    "\n",
    "DLC means Downloadable Content. They are not games but additional contents downloadable for the \"parent\" game. Also, since the second datasets contain information far more than the first dataset, we would like to combine those two sets of data. Our ER diagram is built **upon 2 main data tables**, one is **steam game info data table**, another is **dlc info table**. They both contains similar basic information: name, release_date, etc. However, dlc table would contain additional information of its \"parent game name\" and \"parent game id\". **Parent game id serves as the foreign key to the steam game info data table**. \n",
    "\n",
    "**What we are doing in the following:**\n",
    "1. Keep the whole steam_basic table, extract appid, name, release_date, tag_lists, and developer to be the steam_game pandas dataframe. Clean this data.\n",
    "\n",
    "2. Split the DLC out of steam_csv to be DLC table, containing attribures of name, release_date, tag_lists, and developer to be the dlc pandas dataframe. Clean this data. \n",
    "\n",
    "3. On dlc, add attributes parent_id, parent_name. Parent_id serves as the foreign key referring to the appid of the steam_game table. This means that the referred game in the steam_game table is the parent game for each dlc. \n",
    "\n",
    "4. Clean the two datasets to be in the same data format."
   ]
  },
  {
   "cell_type": "code",
   "execution_count": 230,
   "id": "1834869f",
   "metadata": {},
   "outputs": [
    {
     "data": {
      "text/html": [
       "<div>\n",
       "<style scoped>\n",
       "    .dataframe tbody tr th:only-of-type {\n",
       "        vertical-align: middle;\n",
       "    }\n",
       "\n",
       "    .dataframe tbody tr th {\n",
       "        vertical-align: top;\n",
       "    }\n",
       "\n",
       "    .dataframe thead th {\n",
       "        text-align: right;\n",
       "    }\n",
       "</style>\n",
       "<table border=\"1\" class=\"dataframe\">\n",
       "  <thead>\n",
       "    <tr style=\"text-align: right;\">\n",
       "      <th></th>\n",
       "      <th>appid</th>\n",
       "      <th>name</th>\n",
       "      <th>short_description</th>\n",
       "      <th>developer</th>\n",
       "      <th>publisher</th>\n",
       "      <th>genre</th>\n",
       "      <th>tags</th>\n",
       "      <th>type</th>\n",
       "      <th>categories</th>\n",
       "      <th>owners</th>\n",
       "      <th>...</th>\n",
       "      <th>price</th>\n",
       "      <th>initialprice</th>\n",
       "      <th>discount</th>\n",
       "      <th>ccu</th>\n",
       "      <th>languages</th>\n",
       "      <th>platforms</th>\n",
       "      <th>release_date</th>\n",
       "      <th>required_age</th>\n",
       "      <th>website</th>\n",
       "      <th>header_image</th>\n",
       "    </tr>\n",
       "  </thead>\n",
       "  <tbody>\n",
       "    <tr>\n",
       "      <th>0</th>\n",
       "      <td>10</td>\n",
       "      <td>Counter-Strike</td>\n",
       "      <td>Play the world's number 1 online action game. ...</td>\n",
       "      <td>Valve</td>\n",
       "      <td>Valve</td>\n",
       "      <td>Action</td>\n",
       "      <td>{'Action': 5426, 'FPS': 4831, 'Multiplayer': 3...</td>\n",
       "      <td>game</td>\n",
       "      <td>[Multi-player, Valve Anti-Cheat enabled, Onlin...</td>\n",
       "      <td>10,000,000 .. 20,000,000</td>\n",
       "      <td>...</td>\n",
       "      <td>999</td>\n",
       "      <td>999</td>\n",
       "      <td>0</td>\n",
       "      <td>13990</td>\n",
       "      <td>English, French, German, Italian, Spanish - Sp...</td>\n",
       "      <td>{'windows': True, 'mac': True, 'linux': True}</td>\n",
       "      <td>2000/11/1</td>\n",
       "      <td>0</td>\n",
       "      <td></td>\n",
       "      <td>https://cdn.akamai.steamstatic.com/steam/apps/...</td>\n",
       "    </tr>\n",
       "    <tr>\n",
       "      <th>1</th>\n",
       "      <td>1000000</td>\n",
       "      <td>ASCENXION</td>\n",
       "      <td>ASCENXION is a 2D shoot 'em up game where you ...</td>\n",
       "      <td>IndigoBlue Game Studio</td>\n",
       "      <td>PsychoFlux Entertainment</td>\n",
       "      <td>Action, Adventure, Indie</td>\n",
       "      <td>{'Shoot 'Em Up': 186, 'Metroidvania': 181, 'Bu...</td>\n",
       "      <td>game</td>\n",
       "      <td>[Single-player, Partial Controller Support, St...</td>\n",
       "      <td>0 .. 20,000</td>\n",
       "      <td>...</td>\n",
       "      <td>999</td>\n",
       "      <td>999</td>\n",
       "      <td>0</td>\n",
       "      <td>0</td>\n",
       "      <td>English, Korean, Simplified Chinese</td>\n",
       "      <td>{'windows': True, 'mac': False, 'linux': False}</td>\n",
       "      <td>2021/05/14</td>\n",
       "      <td>0</td>\n",
       "      <td></td>\n",
       "      <td>https://cdn.akamai.steamstatic.com/steam/apps/...</td>\n",
       "    </tr>\n",
       "    <tr>\n",
       "      <th>2</th>\n",
       "      <td>1000010</td>\n",
       "      <td>Crown Trick</td>\n",
       "      <td>Enter a labyrinth that moves as you move, wher...</td>\n",
       "      <td>NEXT Studios</td>\n",
       "      <td>Team17, NEXT Studios</td>\n",
       "      <td>Adventure, Indie, RPG, Strategy</td>\n",
       "      <td>{'Rogue-like': 268, 'Turn-Based Combat': 254, ...</td>\n",
       "      <td>game</td>\n",
       "      <td>[Single-player, Partial Controller Support, St...</td>\n",
       "      <td>200,000 .. 500,000</td>\n",
       "      <td>...</td>\n",
       "      <td>599</td>\n",
       "      <td>1999</td>\n",
       "      <td>70</td>\n",
       "      <td>99</td>\n",
       "      <td>Simplified Chinese, English, Japanese, Traditi...</td>\n",
       "      <td>{'windows': True, 'mac': False, 'linux': False}</td>\n",
       "      <td>2020/10/16</td>\n",
       "      <td>0</td>\n",
       "      <td></td>\n",
       "      <td>https://cdn.akamai.steamstatic.com/steam/apps/...</td>\n",
       "    </tr>\n",
       "  </tbody>\n",
       "</table>\n",
       "<p>3 rows × 22 columns</p>\n",
       "</div>"
      ],
      "text/plain": [
       "     appid            name                                  short_description  \\\n",
       "0       10  Counter-Strike  Play the world's number 1 online action game. ...   \n",
       "1  1000000       ASCENXION  ASCENXION is a 2D shoot 'em up game where you ...   \n",
       "2  1000010     Crown Trick  Enter a labyrinth that moves as you move, wher...   \n",
       "\n",
       "                developer                 publisher  \\\n",
       "0                   Valve                     Valve   \n",
       "1  IndigoBlue Game Studio  PsychoFlux Entertainment   \n",
       "2            NEXT Studios      Team17, NEXT Studios   \n",
       "\n",
       "                             genre  \\\n",
       "0                           Action   \n",
       "1         Action, Adventure, Indie   \n",
       "2  Adventure, Indie, RPG, Strategy   \n",
       "\n",
       "                                                tags  type  \\\n",
       "0  {'Action': 5426, 'FPS': 4831, 'Multiplayer': 3...  game   \n",
       "1  {'Shoot 'Em Up': 186, 'Metroidvania': 181, 'Bu...  game   \n",
       "2  {'Rogue-like': 268, 'Turn-Based Combat': 254, ...  game   \n",
       "\n",
       "                                          categories  \\\n",
       "0  [Multi-player, Valve Anti-Cheat enabled, Onlin...   \n",
       "1  [Single-player, Partial Controller Support, St...   \n",
       "2  [Single-player, Partial Controller Support, St...   \n",
       "\n",
       "                     owners  ...  price  initialprice  discount    ccu  \\\n",
       "0  10,000,000 .. 20,000,000  ...    999           999         0  13990   \n",
       "1               0 .. 20,000  ...    999           999         0      0   \n",
       "2        200,000 .. 500,000  ...    599          1999        70     99   \n",
       "\n",
       "                                           languages  \\\n",
       "0  English, French, German, Italian, Spanish - Sp...   \n",
       "1                English, Korean, Simplified Chinese   \n",
       "2  Simplified Chinese, English, Japanese, Traditi...   \n",
       "\n",
       "                                         platforms release_date required_age  \\\n",
       "0    {'windows': True, 'mac': True, 'linux': True}    2000/11/1            0   \n",
       "1  {'windows': True, 'mac': False, 'linux': False}   2021/05/14            0   \n",
       "2  {'windows': True, 'mac': False, 'linux': False}   2020/10/16            0   \n",
       "\n",
       "  website                                       header_image  \n",
       "0          https://cdn.akamai.steamstatic.com/steam/apps/...  \n",
       "1          https://cdn.akamai.steamstatic.com/steam/apps/...  \n",
       "2          https://cdn.akamai.steamstatic.com/steam/apps/...  \n",
       "\n",
       "[3 rows x 22 columns]"
      ]
     },
     "execution_count": 230,
     "metadata": {},
     "output_type": "execute_result"
    }
   ],
   "source": [
    "steam_basic.head(3)"
   ]
  },
  {
   "cell_type": "code",
   "execution_count": 231,
   "id": "b1161540",
   "metadata": {},
   "outputs": [
    {
     "data": {
      "text/plain": [
       "appid                0\n",
       "name                 0\n",
       "short_description    0\n",
       "developer            0\n",
       "publisher            0\n",
       "genre                0\n",
       "tags                 0\n",
       "type                 0\n",
       "categories           0\n",
       "owners               0\n",
       "positive             0\n",
       "negative             0\n",
       "price                0\n",
       "initialprice         0\n",
       "discount             0\n",
       "ccu                  0\n",
       "languages            0\n",
       "platforms            0\n",
       "release_date         0\n",
       "required_age         0\n",
       "website              0\n",
       "header_image         0\n",
       "dtype: int64"
      ]
     },
     "execution_count": 231,
     "metadata": {},
     "output_type": "execute_result"
    }
   ],
   "source": [
    "# Inpect if there are null values\n",
    "steam_basic.isnull().sum()"
   ]
  },
  {
   "cell_type": "code",
   "execution_count": 232,
   "id": "9d58bd57",
   "metadata": {},
   "outputs": [
    {
     "data": {
      "text/plain": [
       "0"
      ]
     },
     "execution_count": 232,
     "metadata": {},
     "output_type": "execute_result"
    }
   ],
   "source": [
    "# Inspect if there are duplicated app ids\n",
    "steam_basic.loc[:, 'appid'].duplicated().sum()"
   ]
  },
  {
   "cell_type": "markdown",
   "id": "0ef08e6b",
   "metadata": {},
   "source": [
    "### Extract required columns of steam_basic and clean to prepare the  dataset to be ready as the stem game table in the ER diagram"
   ]
  },
  {
   "cell_type": "code",
   "execution_count": 233,
   "id": "be6db77b",
   "metadata": {},
   "outputs": [],
   "source": [
    "steam_game = steam_basic.loc[:, ('appid', 'name', 'release_date', \n",
    "                                'genre', 'categories', 'tags', 'developer')]"
   ]
  },
  {
   "cell_type": "code",
   "execution_count": 234,
   "id": "ed048193",
   "metadata": {},
   "outputs": [
    {
     "data": {
      "text/html": [
       "<div>\n",
       "<style scoped>\n",
       "    .dataframe tbody tr th:only-of-type {\n",
       "        vertical-align: middle;\n",
       "    }\n",
       "\n",
       "    .dataframe tbody tr th {\n",
       "        vertical-align: top;\n",
       "    }\n",
       "\n",
       "    .dataframe thead th {\n",
       "        text-align: right;\n",
       "    }\n",
       "</style>\n",
       "<table border=\"1\" class=\"dataframe\">\n",
       "  <thead>\n",
       "    <tr style=\"text-align: right;\">\n",
       "      <th></th>\n",
       "      <th>appid</th>\n",
       "      <th>name</th>\n",
       "      <th>release_date</th>\n",
       "      <th>genre</th>\n",
       "      <th>categories</th>\n",
       "      <th>tags</th>\n",
       "      <th>developer</th>\n",
       "    </tr>\n",
       "  </thead>\n",
       "  <tbody>\n",
       "    <tr>\n",
       "      <th>0</th>\n",
       "      <td>10</td>\n",
       "      <td>Counter-Strike</td>\n",
       "      <td>2000/11/1</td>\n",
       "      <td>Action</td>\n",
       "      <td>[Multi-player, Valve Anti-Cheat enabled, Onlin...</td>\n",
       "      <td>{'Action': 5426, 'FPS': 4831, 'Multiplayer': 3...</td>\n",
       "      <td>Valve</td>\n",
       "    </tr>\n",
       "    <tr>\n",
       "      <th>1</th>\n",
       "      <td>1000000</td>\n",
       "      <td>ASCENXION</td>\n",
       "      <td>2021/05/14</td>\n",
       "      <td>Action, Adventure, Indie</td>\n",
       "      <td>[Single-player, Partial Controller Support, St...</td>\n",
       "      <td>{'Shoot 'Em Up': 186, 'Metroidvania': 181, 'Bu...</td>\n",
       "      <td>IndigoBlue Game Studio</td>\n",
       "    </tr>\n",
       "    <tr>\n",
       "      <th>2</th>\n",
       "      <td>1000010</td>\n",
       "      <td>Crown Trick</td>\n",
       "      <td>2020/10/16</td>\n",
       "      <td>Adventure, Indie, RPG, Strategy</td>\n",
       "      <td>[Single-player, Partial Controller Support, St...</td>\n",
       "      <td>{'Rogue-like': 268, 'Turn-Based Combat': 254, ...</td>\n",
       "      <td>NEXT Studios</td>\n",
       "    </tr>\n",
       "  </tbody>\n",
       "</table>\n",
       "</div>"
      ],
      "text/plain": [
       "     appid            name release_date                            genre  \\\n",
       "0       10  Counter-Strike    2000/11/1                           Action   \n",
       "1  1000000       ASCENXION   2021/05/14         Action, Adventure, Indie   \n",
       "2  1000010     Crown Trick   2020/10/16  Adventure, Indie, RPG, Strategy   \n",
       "\n",
       "                                          categories  \\\n",
       "0  [Multi-player, Valve Anti-Cheat enabled, Onlin...   \n",
       "1  [Single-player, Partial Controller Support, St...   \n",
       "2  [Single-player, Partial Controller Support, St...   \n",
       "\n",
       "                                                tags               developer  \n",
       "0  {'Action': 5426, 'FPS': 4831, 'Multiplayer': 3...                   Valve  \n",
       "1  {'Shoot 'Em Up': 186, 'Metroidvania': 181, 'Bu...  IndigoBlue Game Studio  \n",
       "2  {'Rogue-like': 268, 'Turn-Based Combat': 254, ...            NEXT Studios  "
      ]
     },
     "execution_count": 234,
     "metadata": {},
     "output_type": "execute_result"
    }
   ],
   "source": [
    "steam_game.head(3)"
   ]
  },
  {
   "cell_type": "markdown",
   "id": "db3621c3",
   "metadata": {},
   "source": [
    "We would like to check the data type of the release_date and tags."
   ]
  },
  {
   "cell_type": "code",
   "execution_count": 235,
   "id": "1466a7db",
   "metadata": {},
   "outputs": [
    {
     "name": "stdout",
     "output_type": "stream",
     "text": [
      "release_date: <class 'str'>\n",
      "tags: <class 'dict'>\n",
      "categories: <class 'list'>\n",
      "genre: <class 'str'>\n"
     ]
    }
   ],
   "source": [
    "print('release_date:', type(steam_game['release_date'][0]))\n",
    "print('tags:', type(steam_game['tags'][0]))\n",
    "print('categories:', type(steam_game['categories'][0]))\n",
    "print('genre:', type(steam_game['genre'][0]))"
   ]
  },
  {
   "cell_type": "markdown",
   "id": "aaeb1304",
   "metadata": {},
   "source": [
    "**Clean the attribute 'tags'**\n",
    "\n",
    "\n",
    "We would like to clean tag to be a string containing all the tags of this game, dismissing the votes."
   ]
  },
  {
   "cell_type": "code",
   "execution_count": 236,
   "id": "3ba1adb7",
   "metadata": {},
   "outputs": [],
   "source": [
    "tags = steam_game['tags']"
   ]
  },
  {
   "cell_type": "code",
   "execution_count": 237,
   "id": "633bcfa3",
   "metadata": {
    "scrolled": true
   },
   "outputs": [
    {
     "data": {
      "text/plain": [
       "0    {'Action': 5426, 'FPS': 4831, 'Multiplayer': 3...\n",
       "1    {'Shoot 'Em Up': 186, 'Metroidvania': 181, 'Bu...\n",
       "2    {'Rogue-like': 268, 'Turn-Based Combat': 254, ...\n",
       "3    {'Typing': 221, 'Management': 213, 'Casual': 2...\n",
       "4    {'Action': 22, 'Casual': 22, 'Indie': 21, 'Sim...\n",
       "Name: tags, dtype: object"
      ]
     },
     "execution_count": 237,
     "metadata": {},
     "output_type": "execute_result"
    }
   ],
   "source": [
    "tags.head()"
   ]
  },
  {
   "cell_type": "code",
   "execution_count": 238,
   "id": "7d6956ff",
   "metadata": {},
   "outputs": [
    {
     "data": {
      "text/plain": [
       "135"
      ]
     },
     "execution_count": 238,
     "metadata": {},
     "output_type": "execute_result"
    }
   ],
   "source": [
    "# to inspect if there is empty dictionaries\n",
    "(steam_basic['tags'] == {}).sum()"
   ]
  },
  {
   "cell_type": "code",
   "execution_count": 240,
   "id": "2c526e78",
   "metadata": {},
   "outputs": [],
   "source": [
    "tag_content = []\n",
    "for n in tags:\n",
    "    this_tag = ''\n",
    "    for key in n.keys():\n",
    "        this_tag += key + ';'\n",
    "    tag_content.append(this_tag.strip()[0:-1])"
   ]
  },
  {
   "cell_type": "markdown",
   "id": "dcc03839",
   "metadata": {},
   "source": [
    "Since there were 135 empty dictionaries, after cleaning like the aboved, those empty dictionaries would turn into '', which is the empty string. Therefore, we want to make those empty string into 'None'. "
   ]
  },
  {
   "cell_type": "code",
   "execution_count": 242,
   "id": "10872fbe",
   "metadata": {},
   "outputs": [],
   "source": [
    "for i in range(len(tag_content)):\n",
    "    if tag_content[i] == '':\n",
    "        tag_content[i] = 'None'"
   ]
  },
  {
   "cell_type": "code",
   "execution_count": 243,
   "id": "93a14fe7",
   "metadata": {},
   "outputs": [],
   "source": [
    "# append this to the steam_game dataset and drop the tag column\n",
    "steam_game = steam_game.drop('tags', axis = 1)"
   ]
  },
  {
   "cell_type": "code",
   "execution_count": 244,
   "id": "ffb63b46",
   "metadata": {},
   "outputs": [
    {
     "data": {
      "text/plain": [
       "Index(['appid', 'name', 'release_date', 'genre', 'categories', 'developer'], dtype='object')"
      ]
     },
     "execution_count": 244,
     "metadata": {},
     "output_type": "execute_result"
    }
   ],
   "source": [
    "steam_game.columns"
   ]
  },
  {
   "cell_type": "code",
   "execution_count": 245,
   "id": "45abfea9",
   "metadata": {},
   "outputs": [],
   "source": [
    "steam_game['tags'] = tag_content"
   ]
  },
  {
   "cell_type": "code",
   "execution_count": 246,
   "id": "f9a6ff8a",
   "metadata": {},
   "outputs": [
    {
     "data": {
      "text/html": [
       "<div>\n",
       "<style scoped>\n",
       "    .dataframe tbody tr th:only-of-type {\n",
       "        vertical-align: middle;\n",
       "    }\n",
       "\n",
       "    .dataframe tbody tr th {\n",
       "        vertical-align: top;\n",
       "    }\n",
       "\n",
       "    .dataframe thead th {\n",
       "        text-align: right;\n",
       "    }\n",
       "</style>\n",
       "<table border=\"1\" class=\"dataframe\">\n",
       "  <thead>\n",
       "    <tr style=\"text-align: right;\">\n",
       "      <th></th>\n",
       "      <th>appid</th>\n",
       "      <th>name</th>\n",
       "      <th>release_date</th>\n",
       "      <th>genre</th>\n",
       "      <th>categories</th>\n",
       "      <th>developer</th>\n",
       "      <th>tags</th>\n",
       "    </tr>\n",
       "  </thead>\n",
       "  <tbody>\n",
       "    <tr>\n",
       "      <th>0</th>\n",
       "      <td>10</td>\n",
       "      <td>Counter-Strike</td>\n",
       "      <td>2000/11/1</td>\n",
       "      <td>Action</td>\n",
       "      <td>[Multi-player, Valve Anti-Cheat enabled, Onlin...</td>\n",
       "      <td>Valve</td>\n",
       "      <td>Action;FPS;Multiplayer;Shooter;Classic;Team-Ba...</td>\n",
       "    </tr>\n",
       "    <tr>\n",
       "      <th>1</th>\n",
       "      <td>1000000</td>\n",
       "      <td>ASCENXION</td>\n",
       "      <td>2021/05/14</td>\n",
       "      <td>Action, Adventure, Indie</td>\n",
       "      <td>[Single-player, Partial Controller Support, St...</td>\n",
       "      <td>IndigoBlue Game Studio</td>\n",
       "      <td>Shoot 'Em Up;Metroidvania;Bullet Hell;Side Scr...</td>\n",
       "    </tr>\n",
       "    <tr>\n",
       "      <th>2</th>\n",
       "      <td>1000010</td>\n",
       "      <td>Crown Trick</td>\n",
       "      <td>2020/10/16</td>\n",
       "      <td>Adventure, Indie, RPG, Strategy</td>\n",
       "      <td>[Single-player, Partial Controller Support, St...</td>\n",
       "      <td>NEXT Studios</td>\n",
       "      <td>Rogue-like;Turn-Based Combat;RPG;Perma Death;R...</td>\n",
       "    </tr>\n",
       "  </tbody>\n",
       "</table>\n",
       "</div>"
      ],
      "text/plain": [
       "     appid            name release_date                            genre  \\\n",
       "0       10  Counter-Strike    2000/11/1                           Action   \n",
       "1  1000000       ASCENXION   2021/05/14         Action, Adventure, Indie   \n",
       "2  1000010     Crown Trick   2020/10/16  Adventure, Indie, RPG, Strategy   \n",
       "\n",
       "                                          categories               developer  \\\n",
       "0  [Multi-player, Valve Anti-Cheat enabled, Onlin...                   Valve   \n",
       "1  [Single-player, Partial Controller Support, St...  IndigoBlue Game Studio   \n",
       "2  [Single-player, Partial Controller Support, St...            NEXT Studios   \n",
       "\n",
       "                                                tags  \n",
       "0  Action;FPS;Multiplayer;Shooter;Classic;Team-Ba...  \n",
       "1  Shoot 'Em Up;Metroidvania;Bullet Hell;Side Scr...  \n",
       "2  Rogue-like;Turn-Based Combat;RPG;Perma Death;R...  "
      ]
     },
     "execution_count": 246,
     "metadata": {},
     "output_type": "execute_result"
    }
   ],
   "source": [
    "steam_game.head(3)"
   ]
  },
  {
   "cell_type": "markdown",
   "id": "1f58f033",
   "metadata": {},
   "source": [
    "**Clean the attribute 'categories'**\n",
    "\n",
    "We want it to be the same format as tags. It originally contains list object in python. We woule like to extract those strings out of the list of each row to form a new string of categories separated by ';'. If the list is empty, we put 'None' in this row. "
   ]
  },
  {
   "cell_type": "code",
   "execution_count": 247,
   "id": "4853dff0",
   "metadata": {},
   "outputs": [],
   "source": [
    "categories = steam_game['categories']"
   ]
  },
  {
   "cell_type": "code",
   "execution_count": 248,
   "id": "1adad50f",
   "metadata": {},
   "outputs": [
    {
     "data": {
      "text/plain": [
       "55686                                                   []\n",
       "55687                                      [Single-player]\n",
       "55688                                                   []\n",
       "55689    [Single-player, Partial Controller Support, St...\n",
       "55690     [Single-player, Steam Achievements, Steam Cloud]\n",
       "Name: categories, dtype: object"
      ]
     },
     "execution_count": 248,
     "metadata": {},
     "output_type": "execute_result"
    }
   ],
   "source": [
    "categories.tail()"
   ]
  },
  {
   "cell_type": "code",
   "execution_count": 250,
   "id": "4cb687e6",
   "metadata": {},
   "outputs": [],
   "source": [
    "# define a function to unlist the categories into a string\n",
    "def unlist(n):\n",
    "    # n is a list, output a string of content in the list\n",
    "    # separated by ';''\n",
    "    string = ''\n",
    "    for item in n:\n",
    "        string += item + ';'\n",
    "    return string[0:-1]"
   ]
  },
  {
   "cell_type": "code",
   "execution_count": 264,
   "id": "4bcd949c",
   "metadata": {},
   "outputs": [],
   "source": [
    "cleaned_categories = []\n",
    "for item in categories:\n",
    "    if item == []:\n",
    "        cleaned_categories.append('None')\n",
    "    else:\n",
    "        cleaned_categories.append(unlist(item))"
   ]
  },
  {
   "cell_type": "code",
   "execution_count": 253,
   "id": "d7732a1c",
   "metadata": {},
   "outputs": [],
   "source": [
    "steam_game = steam_game.drop('categories', axis = 1)"
   ]
  },
  {
   "cell_type": "code",
   "execution_count": 254,
   "id": "ae9f7fa1",
   "metadata": {},
   "outputs": [],
   "source": [
    "steam_game['categories'] = cleaned_categories"
   ]
  },
  {
   "cell_type": "code",
   "execution_count": 255,
   "id": "ed3aa365",
   "metadata": {},
   "outputs": [
    {
     "data": {
      "text/html": [
       "<div>\n",
       "<style scoped>\n",
       "    .dataframe tbody tr th:only-of-type {\n",
       "        vertical-align: middle;\n",
       "    }\n",
       "\n",
       "    .dataframe tbody tr th {\n",
       "        vertical-align: top;\n",
       "    }\n",
       "\n",
       "    .dataframe thead th {\n",
       "        text-align: right;\n",
       "    }\n",
       "</style>\n",
       "<table border=\"1\" class=\"dataframe\">\n",
       "  <thead>\n",
       "    <tr style=\"text-align: right;\">\n",
       "      <th></th>\n",
       "      <th>appid</th>\n",
       "      <th>name</th>\n",
       "      <th>release_date</th>\n",
       "      <th>genre</th>\n",
       "      <th>developer</th>\n",
       "      <th>tags</th>\n",
       "      <th>categories</th>\n",
       "    </tr>\n",
       "  </thead>\n",
       "  <tbody>\n",
       "    <tr>\n",
       "      <th>0</th>\n",
       "      <td>10</td>\n",
       "      <td>Counter-Strike</td>\n",
       "      <td>2000/11/1</td>\n",
       "      <td>Action</td>\n",
       "      <td>Valve</td>\n",
       "      <td>Action;FPS;Multiplayer;Shooter;Classic;Team-Ba...</td>\n",
       "      <td>Multi-player;Valve Anti-Cheat enabled;Online P...</td>\n",
       "    </tr>\n",
       "    <tr>\n",
       "      <th>1</th>\n",
       "      <td>1000000</td>\n",
       "      <td>ASCENXION</td>\n",
       "      <td>2021/05/14</td>\n",
       "      <td>Action, Adventure, Indie</td>\n",
       "      <td>IndigoBlue Game Studio</td>\n",
       "      <td>Shoot 'Em Up;Metroidvania;Bullet Hell;Side Scr...</td>\n",
       "      <td>Single-player;Partial Controller Support;Steam...</td>\n",
       "    </tr>\n",
       "    <tr>\n",
       "      <th>2</th>\n",
       "      <td>1000010</td>\n",
       "      <td>Crown Trick</td>\n",
       "      <td>2020/10/16</td>\n",
       "      <td>Adventure, Indie, RPG, Strategy</td>\n",
       "      <td>NEXT Studios</td>\n",
       "      <td>Rogue-like;Turn-Based Combat;RPG;Perma Death;R...</td>\n",
       "      <td>Single-player;Partial Controller Support;Steam...</td>\n",
       "    </tr>\n",
       "  </tbody>\n",
       "</table>\n",
       "</div>"
      ],
      "text/plain": [
       "     appid            name release_date                            genre  \\\n",
       "0       10  Counter-Strike    2000/11/1                           Action   \n",
       "1  1000000       ASCENXION   2021/05/14         Action, Adventure, Indie   \n",
       "2  1000010     Crown Trick   2020/10/16  Adventure, Indie, RPG, Strategy   \n",
       "\n",
       "                developer                                               tags  \\\n",
       "0                   Valve  Action;FPS;Multiplayer;Shooter;Classic;Team-Ba...   \n",
       "1  IndigoBlue Game Studio  Shoot 'Em Up;Metroidvania;Bullet Hell;Side Scr...   \n",
       "2            NEXT Studios  Rogue-like;Turn-Based Combat;RPG;Perma Death;R...   \n",
       "\n",
       "                                          categories  \n",
       "0  Multi-player;Valve Anti-Cheat enabled;Online P...  \n",
       "1  Single-player;Partial Controller Support;Steam...  \n",
       "2  Single-player;Partial Controller Support;Steam...  "
      ]
     },
     "execution_count": 255,
     "metadata": {},
     "output_type": "execute_result"
    }
   ],
   "source": [
    "steam_game.head(3)"
   ]
  },
  {
   "cell_type": "markdown",
   "id": "187e44f4",
   "metadata": {},
   "source": [
    "We don't need clean genre since it has been cleaned in the original dataset to be into strings without null values. However, we do need reformat this column to switch the ',' to ';' so as to be consistent with othe columns"
   ]
  },
  {
   "cell_type": "code",
   "execution_count": 256,
   "id": "754fc0a4",
   "metadata": {},
   "outputs": [
    {
     "data": {
      "text/plain": [
       "0                                 Action\n",
       "1               Action, Adventure, Indie\n",
       "2        Adventure, Indie, RPG, Strategy\n",
       "3    Action, Indie, Simulation, Strategy\n",
       "Name: genre, dtype: object"
      ]
     },
     "execution_count": 256,
     "metadata": {},
     "output_type": "execute_result"
    }
   ],
   "source": [
    "steam_game['genre'][:4]"
   ]
  },
  {
   "cell_type": "code",
   "execution_count": 259,
   "id": "ac9a2250",
   "metadata": {},
   "outputs": [
    {
     "data": {
      "text/plain": [
       "'Adventure;Indie;RPG;Strategy'"
      ]
     },
     "execution_count": 259,
     "metadata": {},
     "output_type": "execute_result"
    }
   ],
   "source": [
    "steam_game['genre'][2].replace(',', ';').replace(' ', '')"
   ]
  },
  {
   "cell_type": "code",
   "execution_count": 261,
   "id": "5d372543",
   "metadata": {},
   "outputs": [
    {
     "data": {
      "text/plain": [
       "161"
      ]
     },
     "execution_count": 261,
     "metadata": {},
     "output_type": "execute_result"
    }
   ],
   "source": [
    "(steam_game['genre'] == '').sum()"
   ]
  },
  {
   "cell_type": "code",
   "execution_count": 267,
   "id": "c1cc09a1",
   "metadata": {},
   "outputs": [],
   "source": [
    "cleaned_genre = []\n",
    "for item in steam_game['genre']:\n",
    "    if item == '':\n",
    "        cleaned_genre.append('None')\n",
    "    else:\n",
    "        cleaned_genre.append(item.replace(',', ';').replace(' ', ''))"
   ]
  },
  {
   "cell_type": "code",
   "execution_count": 268,
   "id": "888ce1cb",
   "metadata": {},
   "outputs": [
    {
     "data": {
      "text/plain": [
       "['Action',\n",
       " 'Action;Adventure;Indie',\n",
       " 'Adventure;Indie;RPG;Strategy',\n",
       " 'Action;Indie;Simulation;Strategy']"
      ]
     },
     "execution_count": 268,
     "metadata": {},
     "output_type": "execute_result"
    }
   ],
   "source": [
    "cleaned_genre[:4]"
   ]
  },
  {
   "cell_type": "code",
   "execution_count": 269,
   "id": "e453ead9",
   "metadata": {},
   "outputs": [],
   "source": [
    "steam_game.drop('genre', axis = 1)\n",
    "steam_game['genre'] = cleaned_genre"
   ]
  },
  {
   "cell_type": "code",
   "execution_count": 278,
   "id": "cf8368b1",
   "metadata": {},
   "outputs": [
    {
     "data": {
      "text/html": [
       "<div>\n",
       "<style scoped>\n",
       "    .dataframe tbody tr th:only-of-type {\n",
       "        vertical-align: middle;\n",
       "    }\n",
       "\n",
       "    .dataframe tbody tr th {\n",
       "        vertical-align: top;\n",
       "    }\n",
       "\n",
       "    .dataframe thead th {\n",
       "        text-align: right;\n",
       "    }\n",
       "</style>\n",
       "<table border=\"1\" class=\"dataframe\">\n",
       "  <thead>\n",
       "    <tr style=\"text-align: right;\">\n",
       "      <th></th>\n",
       "      <th>appid</th>\n",
       "      <th>name</th>\n",
       "      <th>release_date</th>\n",
       "      <th>genre</th>\n",
       "      <th>developer</th>\n",
       "      <th>tags</th>\n",
       "      <th>categories</th>\n",
       "    </tr>\n",
       "  </thead>\n",
       "  <tbody>\n",
       "    <tr>\n",
       "      <th>0</th>\n",
       "      <td>10</td>\n",
       "      <td>Counter-Strike</td>\n",
       "      <td>2000/11/1</td>\n",
       "      <td>Action</td>\n",
       "      <td>Valve</td>\n",
       "      <td>Action;FPS;Multiplayer;Shooter;Classic;Team-Ba...</td>\n",
       "      <td>Multi-player;Valve Anti-Cheat enabled;Online P...</td>\n",
       "    </tr>\n",
       "    <tr>\n",
       "      <th>1</th>\n",
       "      <td>1000000</td>\n",
       "      <td>ASCENXION</td>\n",
       "      <td>2021/05/14</td>\n",
       "      <td>Action;Adventure;Indie</td>\n",
       "      <td>IndigoBlue Game Studio</td>\n",
       "      <td>Shoot 'Em Up;Metroidvania;Bullet Hell;Side Scr...</td>\n",
       "      <td>Single-player;Partial Controller Support;Steam...</td>\n",
       "    </tr>\n",
       "    <tr>\n",
       "      <th>2</th>\n",
       "      <td>1000010</td>\n",
       "      <td>Crown Trick</td>\n",
       "      <td>2020/10/16</td>\n",
       "      <td>Adventure;Indie;RPG;Strategy</td>\n",
       "      <td>NEXT Studios</td>\n",
       "      <td>Rogue-like;Turn-Based Combat;RPG;Perma Death;R...</td>\n",
       "      <td>Single-player;Partial Controller Support;Steam...</td>\n",
       "    </tr>\n",
       "  </tbody>\n",
       "</table>\n",
       "</div>"
      ],
      "text/plain": [
       "     appid            name release_date                         genre  \\\n",
       "0       10  Counter-Strike    2000/11/1                        Action   \n",
       "1  1000000       ASCENXION   2021/05/14        Action;Adventure;Indie   \n",
       "2  1000010     Crown Trick   2020/10/16  Adventure;Indie;RPG;Strategy   \n",
       "\n",
       "                developer                                               tags  \\\n",
       "0                   Valve  Action;FPS;Multiplayer;Shooter;Classic;Team-Ba...   \n",
       "1  IndigoBlue Game Studio  Shoot 'Em Up;Metroidvania;Bullet Hell;Side Scr...   \n",
       "2            NEXT Studios  Rogue-like;Turn-Based Combat;RPG;Perma Death;R...   \n",
       "\n",
       "                                          categories  \n",
       "0  Multi-player;Valve Anti-Cheat enabled;Online P...  \n",
       "1  Single-player;Partial Controller Support;Steam...  \n",
       "2  Single-player;Partial Controller Support;Steam...  "
      ]
     },
     "execution_count": 278,
     "metadata": {},
     "output_type": "execute_result"
    }
   ],
   "source": [
    "steam_game.head(3)"
   ]
  },
  {
   "cell_type": "markdown",
   "id": "a0f71d6f",
   "metadata": {},
   "source": [
    "**Now steam game table should be ready. However, according to the ER diagram, since we still need to make the developer table, now we just leave this dataset as it is and modify the developer column later when making the Developer table.**"
   ]
  },
  {
   "cell_type": "markdown",
   "id": "ca18f3c4",
   "metadata": {},
   "source": [
    "### Split the dlc data from steam_csv and clean to prepare the dataset to be ready as the dlc table in the ER diagram"
   ]
  },
  {
   "cell_type": "code",
   "execution_count": 279,
   "id": "8c8e175c",
   "metadata": {},
   "outputs": [
    {
     "data": {
      "text/html": [
       "<div>\n",
       "<style scoped>\n",
       "    .dataframe tbody tr th:only-of-type {\n",
       "        vertical-align: middle;\n",
       "    }\n",
       "\n",
       "    .dataframe tbody tr th {\n",
       "        vertical-align: top;\n",
       "    }\n",
       "\n",
       "    .dataframe thead th {\n",
       "        text-align: right;\n",
       "    }\n",
       "</style>\n",
       "<table border=\"1\" class=\"dataframe\">\n",
       "  <thead>\n",
       "    <tr style=\"text-align: right;\">\n",
       "      <th></th>\n",
       "      <th>appid</th>\n",
       "      <th>type</th>\n",
       "      <th>name</th>\n",
       "      <th>required_age</th>\n",
       "      <th>dlc</th>\n",
       "      <th>fullgame</th>\n",
       "      <th>supported_languages</th>\n",
       "      <th>developers</th>\n",
       "      <th>publishers</th>\n",
       "      <th>packages</th>\n",
       "      <th>...</th>\n",
       "      <th>coming_soon</th>\n",
       "      <th>price</th>\n",
       "      <th>review_score</th>\n",
       "      <th>total_positive</th>\n",
       "      <th>total_negative</th>\n",
       "      <th>rating</th>\n",
       "      <th>owners</th>\n",
       "      <th>average_forever</th>\n",
       "      <th>median_forever</th>\n",
       "      <th>tags</th>\n",
       "    </tr>\n",
       "  </thead>\n",
       "  <tbody>\n",
       "    <tr>\n",
       "      <th>0</th>\n",
       "      <td>10</td>\n",
       "      <td>game</td>\n",
       "      <td>Counter-Strike</td>\n",
       "      <td>0</td>\n",
       "      <td>NaN</td>\n",
       "      <td>NaN</td>\n",
       "      <td>['English', 'French', 'German', 'Italian', 'Ko...</td>\n",
       "      <td>['Valve']</td>\n",
       "      <td>['Valve']</td>\n",
       "      <td>[574941, 7]</td>\n",
       "      <td>...</td>\n",
       "      <td>False</td>\n",
       "      <td>8.19</td>\n",
       "      <td>9.0</td>\n",
       "      <td>117261.0</td>\n",
       "      <td>3686.0</td>\n",
       "      <td>95.566768</td>\n",
       "      <td>10000000-20000000</td>\n",
       "      <td>10499</td>\n",
       "      <td>202</td>\n",
       "      <td>['Action', 'FPS', 'Multiplayer', 'Shooter', 'C...</td>\n",
       "    </tr>\n",
       "    <tr>\n",
       "      <th>1</th>\n",
       "      <td>20</td>\n",
       "      <td>game</td>\n",
       "      <td>Team Fortress Classic</td>\n",
       "      <td>0</td>\n",
       "      <td>NaN</td>\n",
       "      <td>NaN</td>\n",
       "      <td>['English', 'French', 'German', 'Italian', 'Ko...</td>\n",
       "      <td>['Valve']</td>\n",
       "      <td>['Valve']</td>\n",
       "      <td>[29]</td>\n",
       "      <td>...</td>\n",
       "      <td>False</td>\n",
       "      <td>3.99</td>\n",
       "      <td>8.0</td>\n",
       "      <td>3896.0</td>\n",
       "      <td>705.0</td>\n",
       "      <td>81.939532</td>\n",
       "      <td>2000000-5000000</td>\n",
       "      <td>1637</td>\n",
       "      <td>23</td>\n",
       "      <td>['Action', 'FPS', 'Multiplayer', 'Classic', 'H...</td>\n",
       "    </tr>\n",
       "    <tr>\n",
       "      <th>2</th>\n",
       "      <td>30</td>\n",
       "      <td>game</td>\n",
       "      <td>Day of Defeat</td>\n",
       "      <td>0</td>\n",
       "      <td>NaN</td>\n",
       "      <td>NaN</td>\n",
       "      <td>['English', 'French', 'German', 'Italian', 'Sp...</td>\n",
       "      <td>['Valve']</td>\n",
       "      <td>['Valve']</td>\n",
       "      <td>[30]</td>\n",
       "      <td>...</td>\n",
       "      <td>False</td>\n",
       "      <td>3.99</td>\n",
       "      <td>8.0</td>\n",
       "      <td>2794.0</td>\n",
       "      <td>398.0</td>\n",
       "      <td>84.223637</td>\n",
       "      <td>5000000-10000000</td>\n",
       "      <td>169</td>\n",
       "      <td>11</td>\n",
       "      <td>['FPS', 'World War II', 'Multiplayer', 'Shoote...</td>\n",
       "    </tr>\n",
       "  </tbody>\n",
       "</table>\n",
       "<p>3 rows × 26 columns</p>\n",
       "</div>"
      ],
      "text/plain": [
       "   appid  type                   name  required_age  dlc fullgame  \\\n",
       "0     10  game         Counter-Strike             0  NaN      NaN   \n",
       "1     20  game  Team Fortress Classic             0  NaN      NaN   \n",
       "2     30  game          Day of Defeat             0  NaN      NaN   \n",
       "\n",
       "                                 supported_languages developers publishers  \\\n",
       "0  ['English', 'French', 'German', 'Italian', 'Ko...  ['Valve']  ['Valve']   \n",
       "1  ['English', 'French', 'German', 'Italian', 'Ko...  ['Valve']  ['Valve']   \n",
       "2  ['English', 'French', 'German', 'Italian', 'Sp...  ['Valve']  ['Valve']   \n",
       "\n",
       "      packages  ... coming_soon price review_score  total_positive  \\\n",
       "0  [574941, 7]  ...       False  8.19          9.0        117261.0   \n",
       "1         [29]  ...       False  3.99          8.0          3896.0   \n",
       "2         [30]  ...       False  3.99          8.0          2794.0   \n",
       "\n",
       "  total_negative     rating             owners  average_forever  \\\n",
       "0         3686.0  95.566768  10000000-20000000            10499   \n",
       "1          705.0  81.939532    2000000-5000000             1637   \n",
       "2          398.0  84.223637   5000000-10000000              169   \n",
       "\n",
       "   median_forever                                               tags  \n",
       "0             202  ['Action', 'FPS', 'Multiplayer', 'Shooter', 'C...  \n",
       "1              23  ['Action', 'FPS', 'Multiplayer', 'Classic', 'H...  \n",
       "2              11  ['FPS', 'World War II', 'Multiplayer', 'Shoote...  \n",
       "\n",
       "[3 rows x 26 columns]"
      ]
     },
     "execution_count": 279,
     "metadata": {},
     "output_type": "execute_result"
    }
   ],
   "source": [
    "steam_csv.head(3)"
   ]
  },
  {
   "cell_type": "code",
   "execution_count": 280,
   "id": "ba06f7eb",
   "metadata": {},
   "outputs": [
    {
     "data": {
      "text/plain": [
       "appid                      0\n",
       "type                       0\n",
       "name                       0\n",
       "required_age               0\n",
       "dlc                    92808\n",
       "fullgame               67897\n",
       "supported_languages      152\n",
       "developers                41\n",
       "publishers                40\n",
       "packages               21351\n",
       "platforms                  0\n",
       "categories               106\n",
       "genres                   193\n",
       "achievements               0\n",
       "release_date            6828\n",
       "supported_audio        52806\n",
       "coming_soon                0\n",
       "price                  11834\n",
       "review_score               0\n",
       "total_positive             0\n",
       "total_negative             0\n",
       "rating                     0\n",
       "owners                     0\n",
       "average_forever            0\n",
       "median_forever             0\n",
       "tags                   41456\n",
       "dtype: int64"
      ]
     },
     "execution_count": 280,
     "metadata": {},
     "output_type": "execute_result"
    }
   ],
   "source": [
    "steam_csv.isnull().sum()"
   ]
  },
  {
   "cell_type": "code",
   "execution_count": 281,
   "id": "3d57679d",
   "metadata": {},
   "outputs": [
    {
     "data": {
      "text/plain": [
       "game           67870\n",
       "dlc            34632\n",
       "advertising        1\n",
       "music              1\n",
       "Name: type, dtype: int64"
      ]
     },
     "execution_count": 281,
     "metadata": {},
     "output_type": "execute_result"
    }
   ],
   "source": [
    "steam_csv['type'].value_counts()"
   ]
  },
  {
   "cell_type": "markdown",
   "id": "37264929",
   "metadata": {},
   "source": [
    "Accroding to the description of this dataset, the column *type* contains information of whether this is a \"game\" or just \"dlc\" of its parent game. Therefore, we extract rows that are dlc. 'music' and 'advertising' are dismissed. "
   ]
  },
  {
   "cell_type": "code",
   "execution_count": 282,
   "id": "e05c5c47",
   "metadata": {},
   "outputs": [],
   "source": [
    "dlc = steam_csv.query('type == \"dlc\"')"
   ]
  },
  {
   "cell_type": "code",
   "execution_count": 283,
   "id": "437a0f1e",
   "metadata": {},
   "outputs": [
    {
     "data": {
      "text/plain": [
       "Index(['appid', 'type', 'name', 'required_age', 'dlc', 'fullgame',\n",
       "       'supported_languages', 'developers', 'publishers', 'packages',\n",
       "       'platforms', 'categories', 'genres', 'achievements', 'release_date',\n",
       "       'supported_audio', 'coming_soon', 'price', 'review_score',\n",
       "       'total_positive', 'total_negative', 'rating', 'owners',\n",
       "       'average_forever', 'median_forever', 'tags'],\n",
       "      dtype='object')"
      ]
     },
     "execution_count": 283,
     "metadata": {},
     "output_type": "execute_result"
    }
   ],
   "source": [
    "dlc.columns"
   ]
  },
  {
   "cell_type": "code",
   "execution_count": 284,
   "id": "d9f3c797",
   "metadata": {},
   "outputs": [
    {
     "data": {
      "text/plain": [
       "(34632, 26)"
      ]
     },
     "execution_count": 284,
     "metadata": {},
     "output_type": "execute_result"
    }
   ],
   "source": [
    "dlc.shape"
   ]
  },
  {
   "cell_type": "code",
   "execution_count": 285,
   "id": "4b2e2925",
   "metadata": {},
   "outputs": [],
   "source": [
    "dlc = dlc.loc[:, ('appid', 'name', 'release_date', 'genres', 'categories', 'tags', 'developers')]"
   ]
  },
  {
   "cell_type": "code",
   "execution_count": 286,
   "id": "898518b1",
   "metadata": {},
   "outputs": [
    {
     "data": {
      "text/plain": [
       "(34632, 7)"
      ]
     },
     "execution_count": 286,
     "metadata": {},
     "output_type": "execute_result"
    }
   ],
   "source": [
    "dlc.shape"
   ]
  },
  {
   "cell_type": "code",
   "execution_count": 287,
   "id": "483e52fa",
   "metadata": {},
   "outputs": [
    {
     "data": {
      "text/html": [
       "<div>\n",
       "<style scoped>\n",
       "    .dataframe tbody tr th:only-of-type {\n",
       "        vertical-align: middle;\n",
       "    }\n",
       "\n",
       "    .dataframe tbody tr th {\n",
       "        vertical-align: top;\n",
       "    }\n",
       "\n",
       "    .dataframe thead th {\n",
       "        text-align: right;\n",
       "    }\n",
       "</style>\n",
       "<table border=\"1\" class=\"dataframe\">\n",
       "  <thead>\n",
       "    <tr style=\"text-align: right;\">\n",
       "      <th></th>\n",
       "      <th>appid</th>\n",
       "      <th>name</th>\n",
       "      <th>release_date</th>\n",
       "      <th>genres</th>\n",
       "      <th>categories</th>\n",
       "      <th>tags</th>\n",
       "      <th>developers</th>\n",
       "    </tr>\n",
       "  </thead>\n",
       "  <tbody>\n",
       "    <tr>\n",
       "      <th>29</th>\n",
       "      <td>1256</td>\n",
       "      <td>Killing Floor Outbreak Character Pack</td>\n",
       "      <td>2009-07-24</td>\n",
       "      <td>['Action']</td>\n",
       "      <td>['Single-player', 'Multi-player', 'Co-op', 'Do...</td>\n",
       "      <td>['Action']</td>\n",
       "      <td>['Tripwire Interactive']</td>\n",
       "    </tr>\n",
       "    <tr>\n",
       "      <th>30</th>\n",
       "      <td>1257</td>\n",
       "      <td>Killing Floor: Nightfall Character Pack</td>\n",
       "      <td>2010-05-19</td>\n",
       "      <td>['Action']</td>\n",
       "      <td>['Single-player', 'Multi-player', 'Co-op', 'Do...</td>\n",
       "      <td>['Action']</td>\n",
       "      <td>['Tripwire Interactive']</td>\n",
       "    </tr>\n",
       "    <tr>\n",
       "      <th>162</th>\n",
       "      <td>4856</td>\n",
       "      <td>Cossacks: Campaign Expansion</td>\n",
       "      <td>2011-01-21</td>\n",
       "      <td>['Strategy']</td>\n",
       "      <td>['Single-player', 'Downloadable Content']</td>\n",
       "      <td>['Strategy']</td>\n",
       "      <td>['GSC Game World']</td>\n",
       "    </tr>\n",
       "  </tbody>\n",
       "</table>\n",
       "</div>"
      ],
      "text/plain": [
       "     appid                                     name release_date  \\\n",
       "29    1256    Killing Floor Outbreak Character Pack   2009-07-24   \n",
       "30    1257  Killing Floor: Nightfall Character Pack   2010-05-19   \n",
       "162   4856             Cossacks: Campaign Expansion   2011-01-21   \n",
       "\n",
       "           genres                                         categories  \\\n",
       "29     ['Action']  ['Single-player', 'Multi-player', 'Co-op', 'Do...   \n",
       "30     ['Action']  ['Single-player', 'Multi-player', 'Co-op', 'Do...   \n",
       "162  ['Strategy']          ['Single-player', 'Downloadable Content']   \n",
       "\n",
       "             tags                developers  \n",
       "29     ['Action']  ['Tripwire Interactive']  \n",
       "30     ['Action']  ['Tripwire Interactive']  \n",
       "162  ['Strategy']        ['GSC Game World']  "
      ]
     },
     "execution_count": 287,
     "metadata": {},
     "output_type": "execute_result"
    }
   ],
   "source": [
    "dlc.head(3)"
   ]
  },
  {
   "cell_type": "code",
   "execution_count": 288,
   "id": "e381026b",
   "metadata": {},
   "outputs": [],
   "source": [
    "# reset the index\n",
    "dlc = dlc.reset_index(drop = True)"
   ]
  },
  {
   "cell_type": "code",
   "execution_count": 289,
   "id": "d69628f0",
   "metadata": {},
   "outputs": [
    {
     "data": {
      "text/html": [
       "<div>\n",
       "<style scoped>\n",
       "    .dataframe tbody tr th:only-of-type {\n",
       "        vertical-align: middle;\n",
       "    }\n",
       "\n",
       "    .dataframe tbody tr th {\n",
       "        vertical-align: top;\n",
       "    }\n",
       "\n",
       "    .dataframe thead th {\n",
       "        text-align: right;\n",
       "    }\n",
       "</style>\n",
       "<table border=\"1\" class=\"dataframe\">\n",
       "  <thead>\n",
       "    <tr style=\"text-align: right;\">\n",
       "      <th></th>\n",
       "      <th>appid</th>\n",
       "      <th>name</th>\n",
       "      <th>release_date</th>\n",
       "      <th>genres</th>\n",
       "      <th>categories</th>\n",
       "      <th>tags</th>\n",
       "      <th>developers</th>\n",
       "    </tr>\n",
       "  </thead>\n",
       "  <tbody>\n",
       "    <tr>\n",
       "      <th>0</th>\n",
       "      <td>1256</td>\n",
       "      <td>Killing Floor Outbreak Character Pack</td>\n",
       "      <td>2009-07-24</td>\n",
       "      <td>['Action']</td>\n",
       "      <td>['Single-player', 'Multi-player', 'Co-op', 'Do...</td>\n",
       "      <td>['Action']</td>\n",
       "      <td>['Tripwire Interactive']</td>\n",
       "    </tr>\n",
       "    <tr>\n",
       "      <th>1</th>\n",
       "      <td>1257</td>\n",
       "      <td>Killing Floor: Nightfall Character Pack</td>\n",
       "      <td>2010-05-19</td>\n",
       "      <td>['Action']</td>\n",
       "      <td>['Single-player', 'Multi-player', 'Co-op', 'Do...</td>\n",
       "      <td>['Action']</td>\n",
       "      <td>['Tripwire Interactive']</td>\n",
       "    </tr>\n",
       "    <tr>\n",
       "      <th>2</th>\n",
       "      <td>4856</td>\n",
       "      <td>Cossacks: Campaign Expansion</td>\n",
       "      <td>2011-01-21</td>\n",
       "      <td>['Strategy']</td>\n",
       "      <td>['Single-player', 'Downloadable Content']</td>\n",
       "      <td>['Strategy']</td>\n",
       "      <td>['GSC Game World']</td>\n",
       "    </tr>\n",
       "  </tbody>\n",
       "</table>\n",
       "</div>"
      ],
      "text/plain": [
       "   appid                                     name release_date        genres  \\\n",
       "0   1256    Killing Floor Outbreak Character Pack   2009-07-24    ['Action']   \n",
       "1   1257  Killing Floor: Nightfall Character Pack   2010-05-19    ['Action']   \n",
       "2   4856             Cossacks: Campaign Expansion   2011-01-21  ['Strategy']   \n",
       "\n",
       "                                          categories          tags  \\\n",
       "0  ['Single-player', 'Multi-player', 'Co-op', 'Do...    ['Action']   \n",
       "1  ['Single-player', 'Multi-player', 'Co-op', 'Do...    ['Action']   \n",
       "2          ['Single-player', 'Downloadable Content']  ['Strategy']   \n",
       "\n",
       "                 developers  \n",
       "0  ['Tripwire Interactive']  \n",
       "1  ['Tripwire Interactive']  \n",
       "2        ['GSC Game World']  "
      ]
     },
     "execution_count": 289,
     "metadata": {},
     "output_type": "execute_result"
    }
   ],
   "source": [
    "dlc.head(3)"
   ]
  },
  {
   "cell_type": "code",
   "execution_count": 290,
   "id": "f45c2e90",
   "metadata": {},
   "outputs": [
    {
     "data": {
      "text/plain": [
       "appid               0\n",
       "name                0\n",
       "release_date      323\n",
       "genres             89\n",
       "categories          0\n",
       "tags            24188\n",
       "developers         13\n",
       "dtype: int64"
      ]
     },
     "execution_count": 290,
     "metadata": {},
     "output_type": "execute_result"
    }
   ],
   "source": [
    "dlc.isnull().sum()"
   ]
  },
  {
   "cell_type": "code",
   "execution_count": 291,
   "id": "860a5655",
   "metadata": {},
   "outputs": [
    {
     "data": {
      "text/plain": [
       "0"
      ]
     },
     "execution_count": 291,
     "metadata": {},
     "output_type": "execute_result"
    }
   ],
   "source": [
    "dlc.loc[:, 'appid'].duplicated().sum()"
   ]
  },
  {
   "cell_type": "markdown",
   "id": "bb891d8d",
   "metadata": {},
   "source": [
    "We see that we need to further investigate the null values of dlc and see what happen. Also, we need re-format the *tags*, *categories*, *genres*, and *developers* columns to be consistent with the steam game table. "
   ]
  },
  {
   "cell_type": "code",
   "execution_count": 292,
   "id": "ef6ca216",
   "metadata": {},
   "outputs": [],
   "source": [
    "# change nan in release_date to not available\n",
    "dlc.loc[dlc['release_date'].isnull(), 'release_date'] = 'Not Available'"
   ]
  },
  {
   "cell_type": "code",
   "execution_count": 293,
   "id": "b0f14fde",
   "metadata": {},
   "outputs": [
    {
     "data": {
      "text/plain": [
       "appid               0\n",
       "name                0\n",
       "release_date        0\n",
       "genres             89\n",
       "categories          0\n",
       "tags            24188\n",
       "developers         13\n",
       "dtype: int64"
      ]
     },
     "execution_count": 293,
     "metadata": {},
     "output_type": "execute_result"
    }
   ],
   "source": [
    "dlc.isnull().sum()"
   ]
  },
  {
   "cell_type": "code",
   "execution_count": 294,
   "id": "0a647656",
   "metadata": {},
   "outputs": [
    {
     "name": "stdout",
     "output_type": "stream",
     "text": [
      "release_date: <class 'str'>\n",
      "tags: <class 'str'>\n",
      "categories: <class 'str'>\n",
      "genre: <class 'str'>\n",
      "developers: <class 'str'>\n"
     ]
    }
   ],
   "source": [
    "print('release_date:', type(dlc['release_date'][0]))\n",
    "print('tags:', type(dlc['tags'][0]))\n",
    "print('categories:', type(dlc['categories'][0]))\n",
    "print('genre:', type(dlc['genres'][0]))\n",
    "print('developers:', type(dlc['developers'][0]))"
   ]
  },
  {
   "cell_type": "code",
   "execution_count": 295,
   "id": "cac66183",
   "metadata": {},
   "outputs": [
    {
     "data": {
      "text/html": [
       "<div>\n",
       "<style scoped>\n",
       "    .dataframe tbody tr th:only-of-type {\n",
       "        vertical-align: middle;\n",
       "    }\n",
       "\n",
       "    .dataframe tbody tr th {\n",
       "        vertical-align: top;\n",
       "    }\n",
       "\n",
       "    .dataframe thead th {\n",
       "        text-align: right;\n",
       "    }\n",
       "</style>\n",
       "<table border=\"1\" class=\"dataframe\">\n",
       "  <thead>\n",
       "    <tr style=\"text-align: right;\">\n",
       "      <th></th>\n",
       "      <th>appid</th>\n",
       "      <th>name</th>\n",
       "      <th>release_date</th>\n",
       "      <th>genres</th>\n",
       "      <th>categories</th>\n",
       "      <th>tags</th>\n",
       "      <th>developers</th>\n",
       "    </tr>\n",
       "  </thead>\n",
       "  <tbody>\n",
       "    <tr>\n",
       "      <th>244</th>\n",
       "      <td>50142</td>\n",
       "      <td>Mafia II - Vegas DLC</td>\n",
       "      <td>Not Available</td>\n",
       "      <td>NaN</td>\n",
       "      <td>['Downloadable Content']</td>\n",
       "      <td>NaN</td>\n",
       "      <td>NaN</td>\n",
       "    </tr>\n",
       "  </tbody>\n",
       "</table>\n",
       "</div>"
      ],
      "text/plain": [
       "     appid                  name   release_date genres  \\\n",
       "244  50142  Mafia II - Vegas DLC  Not Available    NaN   \n",
       "\n",
       "                   categories tags developers  \n",
       "244  ['Downloadable Content']  NaN        NaN  "
      ]
     },
     "execution_count": 295,
     "metadata": {},
     "output_type": "execute_result"
    }
   ],
   "source": [
    "dlc.loc[dlc['developers'].isnull(), :].head(1)"
   ]
  },
  {
   "cell_type": "markdown",
   "id": "76125e4a",
   "metadata": {},
   "source": [
    "Change all NAN in the attributes *genres*, *tags*, and *developers* to be 'None'"
   ]
  },
  {
   "cell_type": "code",
   "execution_count": 296,
   "id": "a6f3af11",
   "metadata": {},
   "outputs": [],
   "source": [
    "# change nan in tags,  to be 'None'\n",
    "dlc.loc[dlc['tags'].isnull(), 'tags'] = 'None'\n",
    "dlc.loc[dlc['genres'].isnull(), 'genres'] = 'None'\n",
    "dlc.loc[dlc['developers'].isnull(), 'developers'] = 'None'"
   ]
  },
  {
   "cell_type": "code",
   "execution_count": 297,
   "id": "1e4228fa",
   "metadata": {},
   "outputs": [
    {
     "data": {
      "text/plain": [
       "appid           0\n",
       "name            0\n",
       "release_date    0\n",
       "genres          0\n",
       "categories      0\n",
       "tags            0\n",
       "developers      0\n",
       "dtype: int64"
      ]
     },
     "execution_count": 297,
     "metadata": {},
     "output_type": "execute_result"
    }
   ],
   "source": [
    "dlc.isnull().sum()"
   ]
  },
  {
   "cell_type": "markdown",
   "id": "f49b5813",
   "metadata": {},
   "source": [
    "Reformat genres, categories, developers, and tags to be the same format respectively as the steam_game dataset. "
   ]
  },
  {
   "cell_type": "code",
   "execution_count": 298,
   "id": "90fec361",
   "metadata": {},
   "outputs": [
    {
     "data": {
      "text/html": [
       "<div>\n",
       "<style scoped>\n",
       "    .dataframe tbody tr th:only-of-type {\n",
       "        vertical-align: middle;\n",
       "    }\n",
       "\n",
       "    .dataframe tbody tr th {\n",
       "        vertical-align: top;\n",
       "    }\n",
       "\n",
       "    .dataframe thead th {\n",
       "        text-align: right;\n",
       "    }\n",
       "</style>\n",
       "<table border=\"1\" class=\"dataframe\">\n",
       "  <thead>\n",
       "    <tr style=\"text-align: right;\">\n",
       "      <th></th>\n",
       "      <th>appid</th>\n",
       "      <th>name</th>\n",
       "      <th>release_date</th>\n",
       "      <th>genres</th>\n",
       "      <th>categories</th>\n",
       "      <th>tags</th>\n",
       "      <th>developers</th>\n",
       "    </tr>\n",
       "  </thead>\n",
       "  <tbody>\n",
       "    <tr>\n",
       "      <th>0</th>\n",
       "      <td>1256</td>\n",
       "      <td>Killing Floor Outbreak Character Pack</td>\n",
       "      <td>2009-07-24</td>\n",
       "      <td>['Action']</td>\n",
       "      <td>['Single-player', 'Multi-player', 'Co-op', 'Do...</td>\n",
       "      <td>['Action']</td>\n",
       "      <td>['Tripwire Interactive']</td>\n",
       "    </tr>\n",
       "  </tbody>\n",
       "</table>\n",
       "</div>"
      ],
      "text/plain": [
       "   appid                                   name release_date      genres  \\\n",
       "0   1256  Killing Floor Outbreak Character Pack   2009-07-24  ['Action']   \n",
       "\n",
       "                                          categories        tags  \\\n",
       "0  ['Single-player', 'Multi-player', 'Co-op', 'Do...  ['Action']   \n",
       "\n",
       "                 developers  \n",
       "0  ['Tripwire Interactive']  "
      ]
     },
     "execution_count": 298,
     "metadata": {},
     "output_type": "execute_result"
    }
   ],
   "source": [
    "dlc.head(1)"
   ]
  },
  {
   "cell_type": "code",
   "execution_count": 352,
   "id": "b0f49bd6",
   "metadata": {},
   "outputs": [
    {
     "data": {
      "text/plain": [
       "0           ['Action']\n",
       "1           ['Action']\n",
       "2         ['Strategy']\n",
       "3           ['Racing']\n",
       "4           ['Racing']\n",
       "5           ['Racing']\n",
       "6    ['Action', 'RPG']\n",
       "Name: genres, dtype: object"
      ]
     },
     "execution_count": 352,
     "metadata": {},
     "output_type": "execute_result"
    }
   ],
   "source": [
    "dlc['genres'].head(7)"
   ]
  },
  {
   "cell_type": "code",
   "execution_count": 353,
   "id": "2607e593",
   "metadata": {},
   "outputs": [],
   "source": [
    "dlc_cleaned_genres = []\n",
    "\n",
    "for item in dlc['genres']:\n",
    "    if item != 'None':\n",
    "        item = literal_eval(item)\n",
    "        dlc_cleaned_genres.append(unlist(item))\n",
    "    else:\n",
    "        dlc_cleaned_genres.append(item)"
   ]
  },
  {
   "cell_type": "code",
   "execution_count": 354,
   "id": "df85e81d",
   "metadata": {},
   "outputs": [
    {
     "data": {
      "text/plain": [
       "['Action', 'Action', 'Strategy', 'Racing', 'Racing', 'Racing', 'Action;RPG']"
      ]
     },
     "execution_count": 354,
     "metadata": {},
     "output_type": "execute_result"
    }
   ],
   "source": [
    "dlc_cleaned_genres[:7]"
   ]
  },
  {
   "cell_type": "code",
   "execution_count": 355,
   "id": "f27b1daf",
   "metadata": {},
   "outputs": [],
   "source": [
    "dlc_cleaned_categories = []\n",
    "\n",
    "for item in dlc['categories']:\n",
    "    if item != 'None':\n",
    "        item = literal_eval(item)\n",
    "        dlc_cleaned_categories.append(unlist(item))\n",
    "    else:\n",
    "        dlc_cleaned_categories.append(item)"
   ]
  },
  {
   "cell_type": "code",
   "execution_count": 356,
   "id": "0e55bb82",
   "metadata": {},
   "outputs": [
    {
     "data": {
      "text/plain": [
       "['Single-player;Multi-player;Co-op;Downloadable Content',\n",
       " 'Single-player;Multi-player;Co-op;Downloadable Content',\n",
       " 'Single-player;Downloadable Content',\n",
       " 'Downloadable Content',\n",
       " 'Single-player;Multi-player;Downloadable Content',\n",
       " 'Single-player;Multi-player;Downloadable Content']"
      ]
     },
     "execution_count": 356,
     "metadata": {},
     "output_type": "execute_result"
    }
   ],
   "source": [
    "dlc_cleaned_categories[:6]"
   ]
  },
  {
   "cell_type": "code",
   "execution_count": 358,
   "id": "46dd4f9e",
   "metadata": {},
   "outputs": [],
   "source": [
    "dlc_cleaned_tags = []\n",
    "for item in dlc['tags']:\n",
    "    if item != 'None':\n",
    "        item = literal_eval(item)\n",
    "        dlc_cleaned_tags.append(unlist(item))\n",
    "    else:\n",
    "        dlc_cleaned_tags.append(item)"
   ]
  },
  {
   "cell_type": "code",
   "execution_count": 359,
   "id": "568762d8",
   "metadata": {},
   "outputs": [
    {
     "data": {
      "text/plain": [
       "['Action',\n",
       " 'Action',\n",
       " 'Strategy',\n",
       " 'Racing;Simulation;Shooter',\n",
       " 'Racing;Simulation;Driving;Multiplayer;Singleplayer',\n",
       " 'Racing;Simulation',\n",
       " 'RPG;Action;Zombies']"
      ]
     },
     "execution_count": 359,
     "metadata": {},
     "output_type": "execute_result"
    }
   ],
   "source": [
    "dlc_cleaned_tags[:7]"
   ]
  },
  {
   "cell_type": "code",
   "execution_count": 360,
   "id": "b70e74ed",
   "metadata": {},
   "outputs": [],
   "source": [
    "dlc_new = dlc.drop(['genres', 'categories', 'tags'], axis = 1)"
   ]
  },
  {
   "cell_type": "code",
   "execution_count": 361,
   "id": "54e87bc9",
   "metadata": {},
   "outputs": [
    {
     "data": {
      "text/plain": [
       "Index(['appid', 'name', 'release_date', 'developers'], dtype='object')"
      ]
     },
     "execution_count": 361,
     "metadata": {},
     "output_type": "execute_result"
    }
   ],
   "source": [
    "dlc_new.columns"
   ]
  },
  {
   "cell_type": "code",
   "execution_count": 363,
   "id": "478f1efd",
   "metadata": {},
   "outputs": [],
   "source": [
    "dlc_new['genre'] = dlc_cleaned_genres\n",
    "dlc_new['categories'] = dlc_cleaned_categories\n",
    "dlc_new['tags'] = dlc_cleaned_tags"
   ]
  },
  {
   "cell_type": "code",
   "execution_count": 365,
   "id": "61d6384c",
   "metadata": {},
   "outputs": [
    {
     "data": {
      "text/html": [
       "<div>\n",
       "<style scoped>\n",
       "    .dataframe tbody tr th:only-of-type {\n",
       "        vertical-align: middle;\n",
       "    }\n",
       "\n",
       "    .dataframe tbody tr th {\n",
       "        vertical-align: top;\n",
       "    }\n",
       "\n",
       "    .dataframe thead th {\n",
       "        text-align: right;\n",
       "    }\n",
       "</style>\n",
       "<table border=\"1\" class=\"dataframe\">\n",
       "  <thead>\n",
       "    <tr style=\"text-align: right;\">\n",
       "      <th></th>\n",
       "      <th>appid</th>\n",
       "      <th>name</th>\n",
       "      <th>release_date</th>\n",
       "      <th>developers</th>\n",
       "      <th>genre</th>\n",
       "      <th>categories</th>\n",
       "      <th>tags</th>\n",
       "    </tr>\n",
       "  </thead>\n",
       "  <tbody>\n",
       "    <tr>\n",
       "      <th>0</th>\n",
       "      <td>1256</td>\n",
       "      <td>Killing Floor Outbreak Character Pack</td>\n",
       "      <td>2009-07-24</td>\n",
       "      <td>['Tripwire Interactive']</td>\n",
       "      <td>Action</td>\n",
       "      <td>Single-player;Multi-player;Co-op;Downloadable ...</td>\n",
       "      <td>Action</td>\n",
       "    </tr>\n",
       "    <tr>\n",
       "      <th>1</th>\n",
       "      <td>1257</td>\n",
       "      <td>Killing Floor: Nightfall Character Pack</td>\n",
       "      <td>2010-05-19</td>\n",
       "      <td>['Tripwire Interactive']</td>\n",
       "      <td>Action</td>\n",
       "      <td>Single-player;Multi-player;Co-op;Downloadable ...</td>\n",
       "      <td>Action</td>\n",
       "    </tr>\n",
       "    <tr>\n",
       "      <th>2</th>\n",
       "      <td>4856</td>\n",
       "      <td>Cossacks: Campaign Expansion</td>\n",
       "      <td>2011-01-21</td>\n",
       "      <td>['GSC Game World']</td>\n",
       "      <td>Strategy</td>\n",
       "      <td>Single-player;Downloadable Content</td>\n",
       "      <td>Strategy</td>\n",
       "    </tr>\n",
       "    <tr>\n",
       "      <th>3</th>\n",
       "      <td>8650</td>\n",
       "      <td>RACE 07: Andy Priaulx Crowne Plaza Raceway (Fr...</td>\n",
       "      <td>2008-06-25</td>\n",
       "      <td>['SimBin']</td>\n",
       "      <td>Racing</td>\n",
       "      <td>Downloadable Content</td>\n",
       "      <td>Racing;Simulation;Shooter</td>\n",
       "    </tr>\n",
       "    <tr>\n",
       "      <th>4</th>\n",
       "      <td>8660</td>\n",
       "      <td>GTR Evolution Expansion Pack for RACE 07</td>\n",
       "      <td>2008-09-01</td>\n",
       "      <td>['SimBin']</td>\n",
       "      <td>Racing</td>\n",
       "      <td>Single-player;Multi-player;Downloadable Content</td>\n",
       "      <td>Racing;Simulation;Driving;Multiplayer;Singlepl...</td>\n",
       "    </tr>\n",
       "    <tr>\n",
       "      <th>5</th>\n",
       "      <td>8690</td>\n",
       "      <td>STCC - The Game 1 - Expansion Pack for RACE 07</td>\n",
       "      <td>2008-10-22</td>\n",
       "      <td>['SimBin']</td>\n",
       "      <td>Racing</td>\n",
       "      <td>Single-player;Multi-player;Downloadable Content</td>\n",
       "      <td>Racing;Simulation</td>\n",
       "    </tr>\n",
       "    <tr>\n",
       "      <th>6</th>\n",
       "      <td>8990</td>\n",
       "      <td>Borderlands: The Zombie Island of Dr. Ned</td>\n",
       "      <td>2009-12-08</td>\n",
       "      <td>['Gearbox Software']</td>\n",
       "      <td>Action;RPG</td>\n",
       "      <td>Single-player;Multi-player;Co-op;Downloadable ...</td>\n",
       "      <td>RPG;Action;Zombies</td>\n",
       "    </tr>\n",
       "  </tbody>\n",
       "</table>\n",
       "</div>"
      ],
      "text/plain": [
       "   appid                                               name release_date  \\\n",
       "0   1256              Killing Floor Outbreak Character Pack   2009-07-24   \n",
       "1   1257            Killing Floor: Nightfall Character Pack   2010-05-19   \n",
       "2   4856                       Cossacks: Campaign Expansion   2011-01-21   \n",
       "3   8650  RACE 07: Andy Priaulx Crowne Plaza Raceway (Fr...   2008-06-25   \n",
       "4   8660           GTR Evolution Expansion Pack for RACE 07   2008-09-01   \n",
       "5   8690     STCC - The Game 1 - Expansion Pack for RACE 07   2008-10-22   \n",
       "6   8990          Borderlands: The Zombie Island of Dr. Ned   2009-12-08   \n",
       "\n",
       "                 developers       genre  \\\n",
       "0  ['Tripwire Interactive']      Action   \n",
       "1  ['Tripwire Interactive']      Action   \n",
       "2        ['GSC Game World']    Strategy   \n",
       "3                ['SimBin']      Racing   \n",
       "4                ['SimBin']      Racing   \n",
       "5                ['SimBin']      Racing   \n",
       "6      ['Gearbox Software']  Action;RPG   \n",
       "\n",
       "                                          categories  \\\n",
       "0  Single-player;Multi-player;Co-op;Downloadable ...   \n",
       "1  Single-player;Multi-player;Co-op;Downloadable ...   \n",
       "2                 Single-player;Downloadable Content   \n",
       "3                               Downloadable Content   \n",
       "4    Single-player;Multi-player;Downloadable Content   \n",
       "5    Single-player;Multi-player;Downloadable Content   \n",
       "6  Single-player;Multi-player;Co-op;Downloadable ...   \n",
       "\n",
       "                                                tags  \n",
       "0                                             Action  \n",
       "1                                             Action  \n",
       "2                                           Strategy  \n",
       "3                          Racing;Simulation;Shooter  \n",
       "4  Racing;Simulation;Driving;Multiplayer;Singlepl...  \n",
       "5                                  Racing;Simulation  \n",
       "6                                 RPG;Action;Zombies  "
      ]
     },
     "execution_count": 365,
     "metadata": {},
     "output_type": "execute_result"
    }
   ],
   "source": [
    "dlc_new.head(7)"
   ]
  },
  {
   "cell_type": "markdown",
   "id": "1631fd9d",
   "metadata": {},
   "source": [
    "**Now it is ready for dlc table. Since we will make Developer table later and will combine the 'developers' column in dlc_new with the 'developers' column in steam_game, we will export this dataset later after the modification is done.**"
   ]
  },
  {
   "cell_type": "markdown",
   "id": "a6cc2b82",
   "metadata": {},
   "source": [
    "## Developer Table"
   ]
  },
  {
   "cell_type": "markdown",
   "id": "44726664",
   "metadata": {},
   "source": [
    "What we are going to do in the followings:\n",
    "\n",
    "1. extract the appid and developers columns in steam_game and dlc_new as two new datasets, respectively called steam_developers and dlc_developers.\n",
    "2. clean the developers column of both two datasets to be in the same format. Developer name should be in string. If there are more than one developers, their name should be separated with ';' in a string. We named the cleaned datasets as new_steam_developers and new_dlc_developers.\n",
    "3. keep new_steam_developers and merge the new_dlc_developers data into the new_steam_developers. Drop the rows of duplicated appid. Rename this new dataset as developer."
   ]
  },
  {
   "cell_type": "markdown",
   "id": "53669c3e",
   "metadata": {},
   "source": [
    "### Extract"
   ]
  },
  {
   "cell_type": "code",
   "execution_count": 367,
   "id": "10f9fec2",
   "metadata": {},
   "outputs": [],
   "source": [
    "steam_developers = steam_game[['appid', 'developer']]"
   ]
  },
  {
   "cell_type": "code",
   "execution_count": 368,
   "id": "8594efa2",
   "metadata": {},
   "outputs": [
    {
     "data": {
      "text/html": [
       "<div>\n",
       "<style scoped>\n",
       "    .dataframe tbody tr th:only-of-type {\n",
       "        vertical-align: middle;\n",
       "    }\n",
       "\n",
       "    .dataframe tbody tr th {\n",
       "        vertical-align: top;\n",
       "    }\n",
       "\n",
       "    .dataframe thead th {\n",
       "        text-align: right;\n",
       "    }\n",
       "</style>\n",
       "<table border=\"1\" class=\"dataframe\">\n",
       "  <thead>\n",
       "    <tr style=\"text-align: right;\">\n",
       "      <th></th>\n",
       "      <th>appid</th>\n",
       "      <th>developer</th>\n",
       "    </tr>\n",
       "  </thead>\n",
       "  <tbody>\n",
       "    <tr>\n",
       "      <th>0</th>\n",
       "      <td>10</td>\n",
       "      <td>Valve</td>\n",
       "    </tr>\n",
       "    <tr>\n",
       "      <th>1</th>\n",
       "      <td>1000000</td>\n",
       "      <td>IndigoBlue Game Studio</td>\n",
       "    </tr>\n",
       "    <tr>\n",
       "      <th>2</th>\n",
       "      <td>1000010</td>\n",
       "      <td>NEXT Studios</td>\n",
       "    </tr>\n",
       "  </tbody>\n",
       "</table>\n",
       "</div>"
      ],
      "text/plain": [
       "     appid               developer\n",
       "0       10                   Valve\n",
       "1  1000000  IndigoBlue Game Studio\n",
       "2  1000010            NEXT Studios"
      ]
     },
     "execution_count": 368,
     "metadata": {},
     "output_type": "execute_result"
    }
   ],
   "source": [
    "steam_developers.head(3)"
   ]
  },
  {
   "cell_type": "code",
   "execution_count": 370,
   "id": "3cfc2649",
   "metadata": {},
   "outputs": [],
   "source": [
    "dlc_developers = dlc_new[['appid', 'developers']]"
   ]
  },
  {
   "cell_type": "code",
   "execution_count": 371,
   "id": "19741be3",
   "metadata": {},
   "outputs": [
    {
     "data": {
      "text/html": [
       "<div>\n",
       "<style scoped>\n",
       "    .dataframe tbody tr th:only-of-type {\n",
       "        vertical-align: middle;\n",
       "    }\n",
       "\n",
       "    .dataframe tbody tr th {\n",
       "        vertical-align: top;\n",
       "    }\n",
       "\n",
       "    .dataframe thead th {\n",
       "        text-align: right;\n",
       "    }\n",
       "</style>\n",
       "<table border=\"1\" class=\"dataframe\">\n",
       "  <thead>\n",
       "    <tr style=\"text-align: right;\">\n",
       "      <th></th>\n",
       "      <th>appid</th>\n",
       "      <th>developers</th>\n",
       "    </tr>\n",
       "  </thead>\n",
       "  <tbody>\n",
       "    <tr>\n",
       "      <th>0</th>\n",
       "      <td>1256</td>\n",
       "      <td>['Tripwire Interactive']</td>\n",
       "    </tr>\n",
       "    <tr>\n",
       "      <th>1</th>\n",
       "      <td>1257</td>\n",
       "      <td>['Tripwire Interactive']</td>\n",
       "    </tr>\n",
       "    <tr>\n",
       "      <th>2</th>\n",
       "      <td>4856</td>\n",
       "      <td>['GSC Game World']</td>\n",
       "    </tr>\n",
       "  </tbody>\n",
       "</table>\n",
       "</div>"
      ],
      "text/plain": [
       "   appid                developers\n",
       "0   1256  ['Tripwire Interactive']\n",
       "1   1257  ['Tripwire Interactive']\n",
       "2   4856        ['GSC Game World']"
      ]
     },
     "execution_count": 371,
     "metadata": {},
     "output_type": "execute_result"
    }
   ],
   "source": [
    "dlc_developers.head(3)"
   ]
  },
  {
   "cell_type": "markdown",
   "id": "3b13e35d",
   "metadata": {},
   "source": [
    "### Clean"
   ]
  },
  {
   "cell_type": "code",
   "execution_count": 375,
   "id": "79fb2234",
   "metadata": {},
   "outputs": [
    {
     "name": "stdout",
     "output_type": "stream",
     "text": [
      "developers type in steam_developers: <class 'str'>\n",
      "developers type in dlc_new: <class 'str'>\n"
     ]
    }
   ],
   "source": [
    "print('developers type in steam_developers:', type(steam_developers['developer'][0]))\n",
    "print('developers type in dlc_new:', type(dlc_new['developers'][0]))"
   ]
  },
  {
   "cell_type": "markdown",
   "id": "527f6a70",
   "metadata": {},
   "source": [
    "**clean steam_developer**"
   ]
  },
  {
   "cell_type": "code",
   "execution_count": 377,
   "id": "569918c4",
   "metadata": {},
   "outputs": [
    {
     "data": {
      "text/plain": [
       "0                                                 Valve\n",
       "1                                IndigoBlue Game Studio\n",
       "2                                          NEXT Studios\n",
       "3                                   Vertigo Gaming Inc.\n",
       "4                                         DoubleC Games\n",
       "                              ...                      \n",
       "55686    Caltech/IPAC, NASA's Jet Propulsion Laboratory\n",
       "55687                                    FlairBot Games\n",
       "55688                                           RADiCAL\n",
       "55689                                            张八万工作室\n",
       "55690                                    ZPink, zniq.co\n",
       "Name: developer, Length: 55691, dtype: object"
      ]
     },
     "execution_count": 377,
     "metadata": {},
     "output_type": "execute_result"
    }
   ],
   "source": [
    "steam_developers['developer']"
   ]
  },
  {
   "cell_type": "code",
   "execution_count": 384,
   "id": "edd321e2",
   "metadata": {},
   "outputs": [
    {
     "name": "stdout",
     "output_type": "stream",
     "text": [
      "rows contain no developer name (''): 127\n"
     ]
    }
   ],
   "source": [
    "print('rows contain no developer name (\\'\\'):', steam_developers.loc[steam_developers['developer'] == '', :].shape[0])"
   ]
  },
  {
   "cell_type": "code",
   "execution_count": 385,
   "id": "34afc9a4",
   "metadata": {},
   "outputs": [],
   "source": [
    "steam_cleaned_developers = []\n",
    "for item in steam_developers['developer']:\n",
    "    if item == '':\n",
    "        steam_cleaned_developers.append('Not Available')\n",
    "    else:\n",
    "        steam_cleaned_developers.append(item.replace(', ', ';'))"
   ]
  },
  {
   "cell_type": "code",
   "execution_count": 389,
   "id": "f8da11f5",
   "metadata": {},
   "outputs": [
    {
     "data": {
      "text/plain": [
       "'ZPink;zniq.co'"
      ]
     },
     "execution_count": 389,
     "metadata": {},
     "output_type": "execute_result"
    }
   ],
   "source": [
    "steam_cleaned_developers[55690]"
   ]
  },
  {
   "cell_type": "code",
   "execution_count": 390,
   "id": "9734a2b6",
   "metadata": {},
   "outputs": [],
   "source": [
    "new_steam_developers = steam_developers.drop('developer', axis = 1)"
   ]
  },
  {
   "cell_type": "code",
   "execution_count": 391,
   "id": "e00fb649",
   "metadata": {},
   "outputs": [],
   "source": [
    "new_steam_developers['developers'] = steam_cleaned_developers"
   ]
  },
  {
   "cell_type": "code",
   "execution_count": 392,
   "id": "d1fe1332",
   "metadata": {},
   "outputs": [
    {
     "data": {
      "text/html": [
       "<div>\n",
       "<style scoped>\n",
       "    .dataframe tbody tr th:only-of-type {\n",
       "        vertical-align: middle;\n",
       "    }\n",
       "\n",
       "    .dataframe tbody tr th {\n",
       "        vertical-align: top;\n",
       "    }\n",
       "\n",
       "    .dataframe thead th {\n",
       "        text-align: right;\n",
       "    }\n",
       "</style>\n",
       "<table border=\"1\" class=\"dataframe\">\n",
       "  <thead>\n",
       "    <tr style=\"text-align: right;\">\n",
       "      <th></th>\n",
       "      <th>appid</th>\n",
       "      <th>developers</th>\n",
       "    </tr>\n",
       "  </thead>\n",
       "  <tbody>\n",
       "    <tr>\n",
       "      <th>0</th>\n",
       "      <td>10</td>\n",
       "      <td>Valve</td>\n",
       "    </tr>\n",
       "    <tr>\n",
       "      <th>1</th>\n",
       "      <td>1000000</td>\n",
       "      <td>IndigoBlue Game Studio</td>\n",
       "    </tr>\n",
       "    <tr>\n",
       "      <th>2</th>\n",
       "      <td>1000010</td>\n",
       "      <td>NEXT Studios</td>\n",
       "    </tr>\n",
       "  </tbody>\n",
       "</table>\n",
       "</div>"
      ],
      "text/plain": [
       "     appid              developers\n",
       "0       10                   Valve\n",
       "1  1000000  IndigoBlue Game Studio\n",
       "2  1000010            NEXT Studios"
      ]
     },
     "execution_count": 392,
     "metadata": {},
     "output_type": "execute_result"
    }
   ],
   "source": [
    "new_steam_developers.head(3)"
   ]
  },
  {
   "cell_type": "code",
   "execution_count": 455,
   "id": "cf63782e",
   "metadata": {},
   "outputs": [
    {
     "name": "stdout",
     "output_type": "stream",
     "text": [
      "rows contain no developer name: 0\n"
     ]
    }
   ],
   "source": [
    "print('rows contain no developer name:', dlc_developers.loc[dlc_developers['developers'] == '[\\'\\']', ].shape[0])"
   ]
  },
  {
   "cell_type": "code",
   "execution_count": 450,
   "id": "eb77c799",
   "metadata": {},
   "outputs": [
    {
     "data": {
      "text/plain": [
       "0"
      ]
     },
     "execution_count": 450,
     "metadata": {},
     "output_type": "execute_result"
    }
   ],
   "source": [
    "dlc_developers.loc[dlc_developers['developers'] == '[\\'\\']', ].shape[0]"
   ]
  },
  {
   "cell_type": "markdown",
   "id": "4c844c9c",
   "metadata": {},
   "source": [
    "**clean dlc_developers**"
   ]
  },
  {
   "cell_type": "code",
   "execution_count": 420,
   "id": "cc8502bf",
   "metadata": {},
   "outputs": [
    {
     "data": {
      "text/plain": [
       "34620                       ['Cyberfunk Studios LLC']\n",
       "34621                              ['Positech Games']\n",
       "34622                          ['Falcon Development']\n",
       "34623                          ['Falcon Development']\n",
       "34624                                  ['bananadev.']\n",
       "34625                                ['Corey Martin']\n",
       "34626                                   ['King Moon']\n",
       "34627                       ['The Creative Assembly']\n",
       "34628    ['Ubisoft Paris', 'Red Storm Entertainment']\n",
       "Name: developers, dtype: object"
      ]
     },
     "execution_count": 420,
     "metadata": {},
     "output_type": "execute_result"
    }
   ],
   "source": [
    "dlc_developers['developers'][34620:34629]"
   ]
  },
  {
   "cell_type": "code",
   "execution_count": 427,
   "id": "b0dcc47a",
   "metadata": {},
   "outputs": [
    {
     "name": "stderr",
     "output_type": "stream",
     "text": [
      "/var/folders/7g/xwbj7h6n29q8t527ck_zttsw0000gn/T/ipykernel_65420/2329402228.py:1: FutureWarning: The default value of regex will change from True to False in a future version.\n",
      "  dlc_developers['developers'][34620:34629].str.replace(r'[\\[\\]\\'\\']', '').str.replace(', ', ';')\n"
     ]
    },
    {
     "data": {
      "text/plain": [
       "34620                    Cyberfunk Studios LLC\n",
       "34621                           Positech Games\n",
       "34622                       Falcon Development\n",
       "34623                       Falcon Development\n",
       "34624                               bananadev.\n",
       "34625                             Corey Martin\n",
       "34626                                King Moon\n",
       "34627                    The Creative Assembly\n",
       "34628    Ubisoft Paris;Red Storm Entertainment\n",
       "Name: developers, dtype: object"
      ]
     },
     "execution_count": 427,
     "metadata": {},
     "output_type": "execute_result"
    }
   ],
   "source": [
    "dlc_developers['developers'][34620:34629].str.replace(r'[\\[\\]\\'\\']', '').str.replace(', ', ';')"
   ]
  },
  {
   "cell_type": "code",
   "execution_count": 456,
   "id": "81ef79ff",
   "metadata": {},
   "outputs": [
    {
     "name": "stderr",
     "output_type": "stream",
     "text": [
      "/var/folders/7g/xwbj7h6n29q8t527ck_zttsw0000gn/T/ipykernel_65420/3148450432.py:1: FutureWarning: The default value of regex will change from True to False in a future version.\n",
      "  dlc_cleaned_developers = dlc_developers['developers'].str.replace(r'[\\[\\]\\'\\']', '').str.replace(', ', ';')\n"
     ]
    }
   ],
   "source": [
    "dlc_cleaned_developers = dlc_developers['developers'].str.replace(r'[\\[\\]\\'\\']', '').str.replace(', ', ';')"
   ]
  },
  {
   "cell_type": "code",
   "execution_count": 457,
   "id": "74a403b3",
   "metadata": {},
   "outputs": [
    {
     "data": {
      "text/plain": [
       "0    Tripwire Interactive\n",
       "1    Tripwire Interactive\n",
       "2          GSC Game World\n",
       "Name: developers, dtype: object"
      ]
     },
     "execution_count": 457,
     "metadata": {},
     "output_type": "execute_result"
    }
   ],
   "source": [
    "dlc_cleaned_developers.head(3)"
   ]
  },
  {
   "cell_type": "code",
   "execution_count": 458,
   "id": "469881c5",
   "metadata": {},
   "outputs": [],
   "source": [
    "new_dlc_developers = dlc_developers.drop('developers', axis = 1)"
   ]
  },
  {
   "cell_type": "code",
   "execution_count": 460,
   "id": "2f9fbd2e",
   "metadata": {},
   "outputs": [],
   "source": [
    "new_dlc_developers['developers'] = dlc_cleaned_developers"
   ]
  },
  {
   "cell_type": "code",
   "execution_count": 461,
   "id": "3a1599ea",
   "metadata": {},
   "outputs": [
    {
     "data": {
      "text/html": [
       "<div>\n",
       "<style scoped>\n",
       "    .dataframe tbody tr th:only-of-type {\n",
       "        vertical-align: middle;\n",
       "    }\n",
       "\n",
       "    .dataframe tbody tr th {\n",
       "        vertical-align: top;\n",
       "    }\n",
       "\n",
       "    .dataframe thead th {\n",
       "        text-align: right;\n",
       "    }\n",
       "</style>\n",
       "<table border=\"1\" class=\"dataframe\">\n",
       "  <thead>\n",
       "    <tr style=\"text-align: right;\">\n",
       "      <th></th>\n",
       "      <th>appid</th>\n",
       "      <th>developers</th>\n",
       "    </tr>\n",
       "  </thead>\n",
       "  <tbody>\n",
       "    <tr>\n",
       "      <th>0</th>\n",
       "      <td>1256</td>\n",
       "      <td>Tripwire Interactive</td>\n",
       "    </tr>\n",
       "    <tr>\n",
       "      <th>1</th>\n",
       "      <td>1257</td>\n",
       "      <td>Tripwire Interactive</td>\n",
       "    </tr>\n",
       "    <tr>\n",
       "      <th>2</th>\n",
       "      <td>4856</td>\n",
       "      <td>GSC Game World</td>\n",
       "    </tr>\n",
       "  </tbody>\n",
       "</table>\n",
       "</div>"
      ],
      "text/plain": [
       "   appid            developers\n",
       "0   1256  Tripwire Interactive\n",
       "1   1257  Tripwire Interactive\n",
       "2   4856        GSC Game World"
      ]
     },
     "execution_count": 461,
     "metadata": {},
     "output_type": "execute_result"
    }
   ],
   "source": [
    "new_dlc_developers.head(3)"
   ]
  },
  {
   "cell_type": "markdown",
   "id": "923f11d2",
   "metadata": {},
   "source": [
    "### Merge and Combine"
   ]
  },
  {
   "cell_type": "code",
   "execution_count": 464,
   "id": "01874497",
   "metadata": {},
   "outputs": [
    {
     "data": {
      "text/plain": [
       "0           1256\n",
       "1           1257\n",
       "2           4856\n",
       "3           8650\n",
       "4           8660\n",
       "          ...   \n",
       "34627    2028023\n",
       "34628    2028055\n",
       "34629    2028056\n",
       "34630    2028062\n",
       "34631    2028850\n",
       "Name: appid, Length: 34632, dtype: int64"
      ]
     },
     "execution_count": 464,
     "metadata": {},
     "output_type": "execute_result"
    }
   ],
   "source": [
    "new_dlc_developers['appid']"
   ]
  },
  {
   "cell_type": "code",
   "execution_count": 465,
   "id": "0963ef56",
   "metadata": {},
   "outputs": [
    {
     "data": {
      "text/plain": [
       "0             10\n",
       "1        1000000\n",
       "2        1000010\n",
       "3        1000030\n",
       "4        1000040\n",
       "          ...   \n",
       "55686     999880\n",
       "55687     999890\n",
       "55688     999900\n",
       "55689     999930\n",
       "55690     999990\n",
       "Name: appid, Length: 55691, dtype: int64"
      ]
     },
     "execution_count": 465,
     "metadata": {},
     "output_type": "execute_result"
    }
   ],
   "source": [
    "new_steam_developers['appid']"
   ]
  },
  {
   "cell_type": "code",
   "execution_count": 485,
   "id": "0b31c80f",
   "metadata": {},
   "outputs": [
    {
     "name": "stdout",
     "output_type": "stream",
     "text": [
      "Overlaping appid: 0\n"
     ]
    }
   ],
   "source": [
    "# before concatenation, check if there are overlapping appids\n",
    "appids = pd.concat([new_steam_developers['appid'], new_dlc_developers['appid']], ignore_index = True, join = 'inner')\n",
    "print('Overlaping appid:', appids.duplicated().sum())"
   ]
  },
  {
   "cell_type": "code",
   "execution_count": 486,
   "id": "4b1d8803",
   "metadata": {},
   "outputs": [],
   "source": [
    "# Since there is no overlapping appid, we can directly concat the \n",
    "# two data frame\n",
    "developers = pd.concat([new_steam_developers, new_dlc_developers], ignore_index = True, join = 'inner')"
   ]
  },
  {
   "cell_type": "markdown",
   "id": "3cc6255f",
   "metadata": {},
   "source": [
    "### Map developers with developer id and form the final developer table"
   ]
  },
  {
   "cell_type": "code",
   "execution_count": 511,
   "id": "a75e3e1c",
   "metadata": {},
   "outputs": [],
   "source": [
    "dev_dict = {}\n",
    "for item in developers['developers']:\n",
    "    for n in item.split(';'):\n",
    "        if n in dev_dict.keys():\n",
    "            dev_dict[n] += 1\n",
    "        else:\n",
    "            dev_dict[n] = 1"
   ]
  },
  {
   "cell_type": "code",
   "execution_count": 513,
   "id": "844a6b1c",
   "metadata": {},
   "outputs": [],
   "source": [
    "developer_names = [n for n in dev_dict.keys()]"
   ]
  },
  {
   "cell_type": "code",
   "execution_count": 515,
   "id": "b900e0a9",
   "metadata": {},
   "outputs": [],
   "source": [
    "developer_id = [i + 1 for i in range(len(developer_names))]"
   ]
  },
  {
   "cell_type": "code",
   "execution_count": 520,
   "id": "54599a88",
   "metadata": {},
   "outputs": [],
   "source": [
    "Developer = pd.DataFrame({\n",
    "    'developer_id': developer_id,\n",
    "    'developer_name': developer_names\n",
    "})"
   ]
  },
  {
   "cell_type": "code",
   "execution_count": 521,
   "id": "f4201ec2",
   "metadata": {},
   "outputs": [
    {
     "data": {
      "text/html": [
       "<div>\n",
       "<style scoped>\n",
       "    .dataframe tbody tr th:only-of-type {\n",
       "        vertical-align: middle;\n",
       "    }\n",
       "\n",
       "    .dataframe tbody tr th {\n",
       "        vertical-align: top;\n",
       "    }\n",
       "\n",
       "    .dataframe thead th {\n",
       "        text-align: right;\n",
       "    }\n",
       "</style>\n",
       "<table border=\"1\" class=\"dataframe\">\n",
       "  <thead>\n",
       "    <tr style=\"text-align: right;\">\n",
       "      <th></th>\n",
       "      <th>developer_id</th>\n",
       "      <th>developer_name</th>\n",
       "    </tr>\n",
       "  </thead>\n",
       "  <tbody>\n",
       "    <tr>\n",
       "      <th>0</th>\n",
       "      <td>1</td>\n",
       "      <td>Valve</td>\n",
       "    </tr>\n",
       "    <tr>\n",
       "      <th>1</th>\n",
       "      <td>2</td>\n",
       "      <td>IndigoBlue Game Studio</td>\n",
       "    </tr>\n",
       "    <tr>\n",
       "      <th>2</th>\n",
       "      <td>3</td>\n",
       "      <td>NEXT Studios</td>\n",
       "    </tr>\n",
       "    <tr>\n",
       "      <th>3</th>\n",
       "      <td>4</td>\n",
       "      <td>Vertigo Gaming Inc.</td>\n",
       "    </tr>\n",
       "    <tr>\n",
       "      <th>4</th>\n",
       "      <td>5</td>\n",
       "      <td>DoubleC Games</td>\n",
       "    </tr>\n",
       "  </tbody>\n",
       "</table>\n",
       "</div>"
      ],
      "text/plain": [
       "   developer_id          developer_name\n",
       "0             1                   Valve\n",
       "1             2  IndigoBlue Game Studio\n",
       "2             3            NEXT Studios\n",
       "3             4     Vertigo Gaming Inc.\n",
       "4             5           DoubleC Games"
      ]
     },
     "execution_count": 521,
     "metadata": {},
     "output_type": "execute_result"
    }
   ],
   "source": [
    "Developer.head()"
   ]
  },
  {
   "cell_type": "markdown",
   "id": "cdc7393a",
   "metadata": {},
   "source": [
    "This is the Developer table. However, before we export it, we need to change the 'developers' columns in the steam_game and dlc_new dataset from containing developer_name to tupple of mapped developer_id."
   ]
  },
  {
   "cell_type": "markdown",
   "id": "765ef530",
   "metadata": {},
   "source": [
    "### Mapping id in the steam_gamd and developer_name datasets"
   ]
  },
  {
   "cell_type": "code",
   "execution_count": 544,
   "id": "50004fa5",
   "metadata": {},
   "outputs": [],
   "source": [
    "tuppled_steam_developers = []\n",
    "for item in steam_cleaned_developers:\n",
    "    ids = []\n",
    "    for n in item.split(';'):\n",
    "        ids.append(int(Developer.loc[Developer['developer_name'] == n, 'developer_id']))\n",
    "    tuppled_steam_developers.append(tuple(ids))"
   ]
  },
  {
   "cell_type": "code",
   "execution_count": 546,
   "id": "56f26a18",
   "metadata": {},
   "outputs": [],
   "source": [
    "tuppled_dlc_developers = []\n",
    "for item in dlc_cleaned_developers:\n",
    "    ids = []\n",
    "    for n in item.split(';'):\n",
    "        ids.append(int(Developer.loc[Developer['developer_name'] == n, 'developer_id']))\n",
    "    tuppled_dlc_developers.append(tuple(ids))"
   ]
  },
  {
   "cell_type": "markdown",
   "id": "4f1ccda0",
   "metadata": {},
   "source": [
    "Up to this point, we have finishing cleaning Developer table. Now we switch the developers column in the steam_game and dlc_new table, and expeort them to be the finished steam_game.csv and dlc.csv.\n",
    "\n",
    "Export Developer to be developer.csv"
   ]
  },
  {
   "cell_type": "code",
   "execution_count": 550,
   "id": "fc4fa01a",
   "metadata": {},
   "outputs": [],
   "source": [
    "steam_game['developer_id'] = tuppled_steam_developers"
   ]
  },
  {
   "cell_type": "code",
   "execution_count": 551,
   "id": "1dbebae3",
   "metadata": {},
   "outputs": [],
   "source": [
    "dlc_new['developer_id'] = tuppled_dlc_developers"
   ]
  },
  {
   "cell_type": "code",
   "execution_count": 556,
   "id": "70d44acd",
   "metadata": {},
   "outputs": [],
   "source": [
    "steam_game = steam_game.drop('developer', axis = 1)\n",
    "dlc_new = dlc_new.drop('developers', axis = 1)"
   ]
  },
  {
   "cell_type": "code",
   "execution_count": 559,
   "id": "4fb3b196",
   "metadata": {
    "scrolled": true
   },
   "outputs": [
    {
     "data": {
      "text/html": [
       "<div>\n",
       "<style scoped>\n",
       "    .dataframe tbody tr th:only-of-type {\n",
       "        vertical-align: middle;\n",
       "    }\n",
       "\n",
       "    .dataframe tbody tr th {\n",
       "        vertical-align: top;\n",
       "    }\n",
       "\n",
       "    .dataframe thead th {\n",
       "        text-align: right;\n",
       "    }\n",
       "</style>\n",
       "<table border=\"1\" class=\"dataframe\">\n",
       "  <thead>\n",
       "    <tr style=\"text-align: right;\">\n",
       "      <th></th>\n",
       "      <th>appid</th>\n",
       "      <th>name</th>\n",
       "      <th>release_date</th>\n",
       "      <th>genre</th>\n",
       "      <th>tags</th>\n",
       "      <th>categories</th>\n",
       "      <th>developer_id</th>\n",
       "    </tr>\n",
       "  </thead>\n",
       "  <tbody>\n",
       "    <tr>\n",
       "      <th>0</th>\n",
       "      <td>10</td>\n",
       "      <td>Counter-Strike</td>\n",
       "      <td>2000/11/1</td>\n",
       "      <td>Action</td>\n",
       "      <td>Action;FPS;Multiplayer;Shooter;Classic;Team-Ba...</td>\n",
       "      <td>Multi-player;Valve Anti-Cheat enabled;Online P...</td>\n",
       "      <td>(1,)</td>\n",
       "    </tr>\n",
       "    <tr>\n",
       "      <th>1</th>\n",
       "      <td>1000000</td>\n",
       "      <td>ASCENXION</td>\n",
       "      <td>2021/05/14</td>\n",
       "      <td>Action;Adventure;Indie</td>\n",
       "      <td>Shoot 'Em Up;Metroidvania;Bullet Hell;Side Scr...</td>\n",
       "      <td>Single-player;Partial Controller Support;Steam...</td>\n",
       "      <td>(2,)</td>\n",
       "    </tr>\n",
       "  </tbody>\n",
       "</table>\n",
       "</div>"
      ],
      "text/plain": [
       "     appid            name release_date                   genre  \\\n",
       "0       10  Counter-Strike    2000/11/1                  Action   \n",
       "1  1000000       ASCENXION   2021/05/14  Action;Adventure;Indie   \n",
       "\n",
       "                                                tags  \\\n",
       "0  Action;FPS;Multiplayer;Shooter;Classic;Team-Ba...   \n",
       "1  Shoot 'Em Up;Metroidvania;Bullet Hell;Side Scr...   \n",
       "\n",
       "                                          categories developer_id  \n",
       "0  Multi-player;Valve Anti-Cheat enabled;Online P...         (1,)  \n",
       "1  Single-player;Partial Controller Support;Steam...         (2,)  "
      ]
     },
     "execution_count": 559,
     "metadata": {},
     "output_type": "execute_result"
    }
   ],
   "source": [
    "steam_game.head(2)"
   ]
  },
  {
   "cell_type": "code",
   "execution_count": 560,
   "id": "e9c6161f",
   "metadata": {
    "scrolled": false
   },
   "outputs": [
    {
     "data": {
      "text/html": [
       "<div>\n",
       "<style scoped>\n",
       "    .dataframe tbody tr th:only-of-type {\n",
       "        vertical-align: middle;\n",
       "    }\n",
       "\n",
       "    .dataframe tbody tr th {\n",
       "        vertical-align: top;\n",
       "    }\n",
       "\n",
       "    .dataframe thead th {\n",
       "        text-align: right;\n",
       "    }\n",
       "</style>\n",
       "<table border=\"1\" class=\"dataframe\">\n",
       "  <thead>\n",
       "    <tr style=\"text-align: right;\">\n",
       "      <th></th>\n",
       "      <th>appid</th>\n",
       "      <th>name</th>\n",
       "      <th>release_date</th>\n",
       "      <th>genre</th>\n",
       "      <th>categories</th>\n",
       "      <th>tags</th>\n",
       "      <th>developer_id</th>\n",
       "    </tr>\n",
       "  </thead>\n",
       "  <tbody>\n",
       "    <tr>\n",
       "      <th>0</th>\n",
       "      <td>1256</td>\n",
       "      <td>Killing Floor Outbreak Character Pack</td>\n",
       "      <td>2009-07-24</td>\n",
       "      <td>Action</td>\n",
       "      <td>Single-player;Multi-player;Co-op;Downloadable ...</td>\n",
       "      <td>Action</td>\n",
       "      <td>(6255,)</td>\n",
       "    </tr>\n",
       "    <tr>\n",
       "      <th>1</th>\n",
       "      <td>1257</td>\n",
       "      <td>Killing Floor: Nightfall Character Pack</td>\n",
       "      <td>2010-05-19</td>\n",
       "      <td>Action</td>\n",
       "      <td>Single-player;Multi-player;Co-op;Downloadable ...</td>\n",
       "      <td>Action</td>\n",
       "      <td>(6255,)</td>\n",
       "    </tr>\n",
       "  </tbody>\n",
       "</table>\n",
       "</div>"
      ],
      "text/plain": [
       "   appid                                     name release_date   genre  \\\n",
       "0   1256    Killing Floor Outbreak Character Pack   2009-07-24  Action   \n",
       "1   1257  Killing Floor: Nightfall Character Pack   2010-05-19  Action   \n",
       "\n",
       "                                          categories    tags developer_id  \n",
       "0  Single-player;Multi-player;Co-op;Downloadable ...  Action      (6255,)  \n",
       "1  Single-player;Multi-player;Co-op;Downloadable ...  Action      (6255,)  "
      ]
     },
     "execution_count": 560,
     "metadata": {},
     "output_type": "execute_result"
    }
   ],
   "source": [
    "dlc_new.head(2)"
   ]
  },
  {
   "cell_type": "code",
   "execution_count": 561,
   "id": "b9a09e7f",
   "metadata": {},
   "outputs": [],
   "source": [
    "# export\n",
    "steam_game.to_csv('Data/steam_game.csv')\n",
    "dlc_new.to_csv(\"Data/dlc.csv\")\n",
    "Developer.to_csv('Data/Developer.csv')"
   ]
  },
  {
   "cell_type": "code",
   "execution_count": null,
   "id": "12a1443d",
   "metadata": {},
   "outputs": [],
   "source": []
  },
  {
   "cell_type": "markdown",
   "id": "fee198ee",
   "metadata": {},
   "source": [
    "## steam_requirements_data"
   ]
  },
  {
   "cell_type": "code",
   "execution_count": 54,
   "id": "54e39a6a",
   "metadata": {},
   "outputs": [],
   "source": [
    "steam_requirement_csv = pd.read_csv('steam_dlc/steam_requirements_data.csv')"
   ]
  },
  {
   "cell_type": "code",
   "execution_count": 55,
   "id": "aa98c8ee",
   "metadata": {},
   "outputs": [],
   "source": [
    "steam_csv = pd.read_csv('steam_dlc/steam.csv')"
   ]
  },
  {
   "cell_type": "code",
   "execution_count": 56,
   "id": "4837a9a5",
   "metadata": {},
   "outputs": [
    {
     "data": {
      "text/html": [
       "<div>\n",
       "<style scoped>\n",
       "    .dataframe tbody tr th:only-of-type {\n",
       "        vertical-align: middle;\n",
       "    }\n",
       "\n",
       "    .dataframe tbody tr th {\n",
       "        vertical-align: top;\n",
       "    }\n",
       "\n",
       "    .dataframe thead th {\n",
       "        text-align: right;\n",
       "    }\n",
       "</style>\n",
       "<table border=\"1\" class=\"dataframe\">\n",
       "  <thead>\n",
       "    <tr style=\"text-align: right;\">\n",
       "      <th></th>\n",
       "      <th>appid</th>\n",
       "      <th>type</th>\n",
       "      <th>name</th>\n",
       "      <th>required_age</th>\n",
       "      <th>dlc</th>\n",
       "      <th>fullgame</th>\n",
       "      <th>supported_languages</th>\n",
       "      <th>developers</th>\n",
       "      <th>publishers</th>\n",
       "      <th>packages</th>\n",
       "      <th>...</th>\n",
       "      <th>coming_soon</th>\n",
       "      <th>price</th>\n",
       "      <th>review_score</th>\n",
       "      <th>total_positive</th>\n",
       "      <th>total_negative</th>\n",
       "      <th>rating</th>\n",
       "      <th>owners</th>\n",
       "      <th>average_forever</th>\n",
       "      <th>median_forever</th>\n",
       "      <th>tags</th>\n",
       "    </tr>\n",
       "  </thead>\n",
       "  <tbody>\n",
       "    <tr>\n",
       "      <th>0</th>\n",
       "      <td>10</td>\n",
       "      <td>game</td>\n",
       "      <td>Counter-Strike</td>\n",
       "      <td>0</td>\n",
       "      <td>NaN</td>\n",
       "      <td>NaN</td>\n",
       "      <td>['English', 'French', 'German', 'Italian', 'Ko...</td>\n",
       "      <td>['Valve']</td>\n",
       "      <td>['Valve']</td>\n",
       "      <td>[574941, 7]</td>\n",
       "      <td>...</td>\n",
       "      <td>False</td>\n",
       "      <td>8.19</td>\n",
       "      <td>9.0</td>\n",
       "      <td>117261.0</td>\n",
       "      <td>3686.0</td>\n",
       "      <td>95.566768</td>\n",
       "      <td>10000000-20000000</td>\n",
       "      <td>10499</td>\n",
       "      <td>202</td>\n",
       "      <td>['Action', 'FPS', 'Multiplayer', 'Shooter', 'C...</td>\n",
       "    </tr>\n",
       "    <tr>\n",
       "      <th>1</th>\n",
       "      <td>20</td>\n",
       "      <td>game</td>\n",
       "      <td>Team Fortress Classic</td>\n",
       "      <td>0</td>\n",
       "      <td>NaN</td>\n",
       "      <td>NaN</td>\n",
       "      <td>['English', 'French', 'German', 'Italian', 'Ko...</td>\n",
       "      <td>['Valve']</td>\n",
       "      <td>['Valve']</td>\n",
       "      <td>[29]</td>\n",
       "      <td>...</td>\n",
       "      <td>False</td>\n",
       "      <td>3.99</td>\n",
       "      <td>8.0</td>\n",
       "      <td>3896.0</td>\n",
       "      <td>705.0</td>\n",
       "      <td>81.939532</td>\n",
       "      <td>2000000-5000000</td>\n",
       "      <td>1637</td>\n",
       "      <td>23</td>\n",
       "      <td>['Action', 'FPS', 'Multiplayer', 'Classic', 'H...</td>\n",
       "    </tr>\n",
       "    <tr>\n",
       "      <th>2</th>\n",
       "      <td>30</td>\n",
       "      <td>game</td>\n",
       "      <td>Day of Defeat</td>\n",
       "      <td>0</td>\n",
       "      <td>NaN</td>\n",
       "      <td>NaN</td>\n",
       "      <td>['English', 'French', 'German', 'Italian', 'Sp...</td>\n",
       "      <td>['Valve']</td>\n",
       "      <td>['Valve']</td>\n",
       "      <td>[30]</td>\n",
       "      <td>...</td>\n",
       "      <td>False</td>\n",
       "      <td>3.99</td>\n",
       "      <td>8.0</td>\n",
       "      <td>2794.0</td>\n",
       "      <td>398.0</td>\n",
       "      <td>84.223637</td>\n",
       "      <td>5000000-10000000</td>\n",
       "      <td>169</td>\n",
       "      <td>11</td>\n",
       "      <td>['FPS', 'World War II', 'Multiplayer', 'Shoote...</td>\n",
       "    </tr>\n",
       "    <tr>\n",
       "      <th>3</th>\n",
       "      <td>40</td>\n",
       "      <td>game</td>\n",
       "      <td>Deathmatch Classic</td>\n",
       "      <td>0</td>\n",
       "      <td>NaN</td>\n",
       "      <td>NaN</td>\n",
       "      <td>['English', 'French', 'German', 'Italian', 'Ko...</td>\n",
       "      <td>['Valve']</td>\n",
       "      <td>['Valve']</td>\n",
       "      <td>[31]</td>\n",
       "      <td>...</td>\n",
       "      <td>False</td>\n",
       "      <td>3.99</td>\n",
       "      <td>6.0</td>\n",
       "      <td>1214.0</td>\n",
       "      <td>308.0</td>\n",
       "      <td>76.485571</td>\n",
       "      <td>5000000-10000000</td>\n",
       "      <td>2632</td>\n",
       "      <td>6</td>\n",
       "      <td>['Action', 'FPS', 'Classic', 'Multiplayer', 'S...</td>\n",
       "    </tr>\n",
       "    <tr>\n",
       "      <th>4</th>\n",
       "      <td>50</td>\n",
       "      <td>game</td>\n",
       "      <td>Half-Life: Opposing Force</td>\n",
       "      <td>0</td>\n",
       "      <td>NaN</td>\n",
       "      <td>NaN</td>\n",
       "      <td>['English', 'French', 'German', 'Korean']</td>\n",
       "      <td>['Gearbox Software']</td>\n",
       "      <td>['Valve']</td>\n",
       "      <td>[32]</td>\n",
       "      <td>...</td>\n",
       "      <td>False</td>\n",
       "      <td>3.99</td>\n",
       "      <td>9.0</td>\n",
       "      <td>11343.0</td>\n",
       "      <td>519.0</td>\n",
       "      <td>92.916082</td>\n",
       "      <td>5000000-10000000</td>\n",
       "      <td>442</td>\n",
       "      <td>250</td>\n",
       "      <td>['FPS', 'Action', 'Classic', 'Sci-fi', 'Single...</td>\n",
       "    </tr>\n",
       "    <tr>\n",
       "      <th>...</th>\n",
       "      <td>...</td>\n",
       "      <td>...</td>\n",
       "      <td>...</td>\n",
       "      <td>...</td>\n",
       "      <td>...</td>\n",
       "      <td>...</td>\n",
       "      <td>...</td>\n",
       "      <td>...</td>\n",
       "      <td>...</td>\n",
       "      <td>...</td>\n",
       "      <td>...</td>\n",
       "      <td>...</td>\n",
       "      <td>...</td>\n",
       "      <td>...</td>\n",
       "      <td>...</td>\n",
       "      <td>...</td>\n",
       "      <td>...</td>\n",
       "      <td>...</td>\n",
       "      <td>...</td>\n",
       "      <td>...</td>\n",
       "      <td>...</td>\n",
       "    </tr>\n",
       "    <tr>\n",
       "      <th>102499</th>\n",
       "      <td>2028023</td>\n",
       "      <td>dlc</td>\n",
       "      <td>Total War Saga: FALL OF THE SAMURAI – Blood Pack</td>\n",
       "      <td>18</td>\n",
       "      <td>NaN</td>\n",
       "      <td>{'appid': '201271', 'name': 'A Total War Saga:...</td>\n",
       "      <td>['Czech', 'English', 'French', 'German', 'Ital...</td>\n",
       "      <td>['The Creative Assembly']</td>\n",
       "      <td>['SEGA']</td>\n",
       "      <td>[12437]</td>\n",
       "      <td>...</td>\n",
       "      <td>False</td>\n",
       "      <td>NaN</td>\n",
       "      <td>0.0</td>\n",
       "      <td>0.0</td>\n",
       "      <td>0.0</td>\n",
       "      <td>50.000000</td>\n",
       "      <td>0-20000</td>\n",
       "      <td>0</td>\n",
       "      <td>0</td>\n",
       "      <td>NaN</td>\n",
       "    </tr>\n",
       "    <tr>\n",
       "      <th>102500</th>\n",
       "      <td>2028055</td>\n",
       "      <td>dlc</td>\n",
       "      <td>Tom Clancy's Ghost Recon Future Soldier - Seas...</td>\n",
       "      <td>0</td>\n",
       "      <td>NaN</td>\n",
       "      <td>{'appid': '212630', 'name': \"Tom Clancy's Ghos...</td>\n",
       "      <td>['Danish', 'Dutch', 'English', 'French', 'Germ...</td>\n",
       "      <td>['Ubisoft Paris', 'Red Storm Entertainment']</td>\n",
       "      <td>['Ubisoft']</td>\n",
       "      <td>[16540]</td>\n",
       "      <td>...</td>\n",
       "      <td>False</td>\n",
       "      <td>19.99</td>\n",
       "      <td>0.0</td>\n",
       "      <td>0.0</td>\n",
       "      <td>0.0</td>\n",
       "      <td>50.000000</td>\n",
       "      <td>0-20000</td>\n",
       "      <td>0</td>\n",
       "      <td>0</td>\n",
       "      <td>NaN</td>\n",
       "    </tr>\n",
       "    <tr>\n",
       "      <th>102501</th>\n",
       "      <td>2028056</td>\n",
       "      <td>dlc</td>\n",
       "      <td>Worms Revolution Season Pass</td>\n",
       "      <td>0</td>\n",
       "      <td>NaN</td>\n",
       "      <td>{'appid': '200170', 'name': 'Worms Revolution'}</td>\n",
       "      <td>['English', 'French', 'German', 'Italian', 'Po...</td>\n",
       "      <td>['Team17 Digital Ltd.']</td>\n",
       "      <td>['Team17 Digital Ltd']</td>\n",
       "      <td>[16652]</td>\n",
       "      <td>...</td>\n",
       "      <td>False</td>\n",
       "      <td>14.99</td>\n",
       "      <td>0.0</td>\n",
       "      <td>0.0</td>\n",
       "      <td>0.0</td>\n",
       "      <td>50.000000</td>\n",
       "      <td>0-20000</td>\n",
       "      <td>0</td>\n",
       "      <td>0</td>\n",
       "      <td>NaN</td>\n",
       "    </tr>\n",
       "    <tr>\n",
       "      <th>102502</th>\n",
       "      <td>2028062</td>\n",
       "      <td>dlc</td>\n",
       "      <td>Call of Duty®: Black Ops II Season Pass</td>\n",
       "      <td>0</td>\n",
       "      <td>NaN</td>\n",
       "      <td>{'appid': '202970', 'name': 'Call of Duty®: Bl...</td>\n",
       "      <td>['English', 'French', 'German', 'Italian', 'Sp...</td>\n",
       "      <td>['Treyarch']</td>\n",
       "      <td>['Activision']</td>\n",
       "      <td>[17569]</td>\n",
       "      <td>...</td>\n",
       "      <td>False</td>\n",
       "      <td>49.99</td>\n",
       "      <td>0.0</td>\n",
       "      <td>0.0</td>\n",
       "      <td>0.0</td>\n",
       "      <td>50.000000</td>\n",
       "      <td>0-20000</td>\n",
       "      <td>0</td>\n",
       "      <td>0</td>\n",
       "      <td>NaN</td>\n",
       "    </tr>\n",
       "    <tr>\n",
       "      <th>102503</th>\n",
       "      <td>2028850</td>\n",
       "      <td>dlc</td>\n",
       "      <td>Bioshock Infinite: Columbia's Finest</td>\n",
       "      <td>17</td>\n",
       "      <td>NaN</td>\n",
       "      <td>{'appid': '8870', 'name': 'BioShock Infinite'}</td>\n",
       "      <td>['English', 'French', 'German', 'Italian', 'Ja...</td>\n",
       "      <td>['Irrational Games', 'Virtual Programming (Lin...</td>\n",
       "      <td>['2K']</td>\n",
       "      <td>[27912, 127633]</td>\n",
       "      <td>...</td>\n",
       "      <td>False</td>\n",
       "      <td>4.49</td>\n",
       "      <td>6.0</td>\n",
       "      <td>103.0</td>\n",
       "      <td>31.0</td>\n",
       "      <td>70.729418</td>\n",
       "      <td>0-20000</td>\n",
       "      <td>0</td>\n",
       "      <td>0</td>\n",
       "      <td>['Action', 'FPS', 'Singleplayer']</td>\n",
       "    </tr>\n",
       "  </tbody>\n",
       "</table>\n",
       "<p>102504 rows × 26 columns</p>\n",
       "</div>"
      ],
      "text/plain": [
       "          appid  type                                               name  \\\n",
       "0            10  game                                     Counter-Strike   \n",
       "1            20  game                              Team Fortress Classic   \n",
       "2            30  game                                      Day of Defeat   \n",
       "3            40  game                                 Deathmatch Classic   \n",
       "4            50  game                          Half-Life: Opposing Force   \n",
       "...         ...   ...                                                ...   \n",
       "102499  2028023   dlc   Total War Saga: FALL OF THE SAMURAI – Blood Pack   \n",
       "102500  2028055   dlc  Tom Clancy's Ghost Recon Future Soldier - Seas...   \n",
       "102501  2028056   dlc                       Worms Revolution Season Pass   \n",
       "102502  2028062   dlc            Call of Duty®: Black Ops II Season Pass   \n",
       "102503  2028850   dlc               Bioshock Infinite: Columbia's Finest   \n",
       "\n",
       "        required_age  dlc                                           fullgame  \\\n",
       "0                  0  NaN                                                NaN   \n",
       "1                  0  NaN                                                NaN   \n",
       "2                  0  NaN                                                NaN   \n",
       "3                  0  NaN                                                NaN   \n",
       "4                  0  NaN                                                NaN   \n",
       "...              ...  ...                                                ...   \n",
       "102499            18  NaN  {'appid': '201271', 'name': 'A Total War Saga:...   \n",
       "102500             0  NaN  {'appid': '212630', 'name': \"Tom Clancy's Ghos...   \n",
       "102501             0  NaN    {'appid': '200170', 'name': 'Worms Revolution'}   \n",
       "102502             0  NaN  {'appid': '202970', 'name': 'Call of Duty®: Bl...   \n",
       "102503            17  NaN     {'appid': '8870', 'name': 'BioShock Infinite'}   \n",
       "\n",
       "                                      supported_languages  \\\n",
       "0       ['English', 'French', 'German', 'Italian', 'Ko...   \n",
       "1       ['English', 'French', 'German', 'Italian', 'Ko...   \n",
       "2       ['English', 'French', 'German', 'Italian', 'Sp...   \n",
       "3       ['English', 'French', 'German', 'Italian', 'Ko...   \n",
       "4               ['English', 'French', 'German', 'Korean']   \n",
       "...                                                   ...   \n",
       "102499  ['Czech', 'English', 'French', 'German', 'Ital...   \n",
       "102500  ['Danish', 'Dutch', 'English', 'French', 'Germ...   \n",
       "102501  ['English', 'French', 'German', 'Italian', 'Po...   \n",
       "102502  ['English', 'French', 'German', 'Italian', 'Sp...   \n",
       "102503  ['English', 'French', 'German', 'Italian', 'Ja...   \n",
       "\n",
       "                                               developers  \\\n",
       "0                                               ['Valve']   \n",
       "1                                               ['Valve']   \n",
       "2                                               ['Valve']   \n",
       "3                                               ['Valve']   \n",
       "4                                    ['Gearbox Software']   \n",
       "...                                                   ...   \n",
       "102499                          ['The Creative Assembly']   \n",
       "102500       ['Ubisoft Paris', 'Red Storm Entertainment']   \n",
       "102501                            ['Team17 Digital Ltd.']   \n",
       "102502                                       ['Treyarch']   \n",
       "102503  ['Irrational Games', 'Virtual Programming (Lin...   \n",
       "\n",
       "                    publishers         packages  ... coming_soon  price  \\\n",
       "0                    ['Valve']      [574941, 7]  ...       False   8.19   \n",
       "1                    ['Valve']             [29]  ...       False   3.99   \n",
       "2                    ['Valve']             [30]  ...       False   3.99   \n",
       "3                    ['Valve']             [31]  ...       False   3.99   \n",
       "4                    ['Valve']             [32]  ...       False   3.99   \n",
       "...                        ...              ...  ...         ...    ...   \n",
       "102499                ['SEGA']          [12437]  ...       False    NaN   \n",
       "102500             ['Ubisoft']          [16540]  ...       False  19.99   \n",
       "102501  ['Team17 Digital Ltd']          [16652]  ...       False  14.99   \n",
       "102502          ['Activision']          [17569]  ...       False  49.99   \n",
       "102503                  ['2K']  [27912, 127633]  ...       False   4.49   \n",
       "\n",
       "       review_score  total_positive total_negative     rating  \\\n",
       "0               9.0        117261.0         3686.0  95.566768   \n",
       "1               8.0          3896.0          705.0  81.939532   \n",
       "2               8.0          2794.0          398.0  84.223637   \n",
       "3               6.0          1214.0          308.0  76.485571   \n",
       "4               9.0         11343.0          519.0  92.916082   \n",
       "...             ...             ...            ...        ...   \n",
       "102499          0.0             0.0            0.0  50.000000   \n",
       "102500          0.0             0.0            0.0  50.000000   \n",
       "102501          0.0             0.0            0.0  50.000000   \n",
       "102502          0.0             0.0            0.0  50.000000   \n",
       "102503          6.0           103.0           31.0  70.729418   \n",
       "\n",
       "                   owners  average_forever  median_forever  \\\n",
       "0       10000000-20000000            10499             202   \n",
       "1         2000000-5000000             1637              23   \n",
       "2        5000000-10000000              169              11   \n",
       "3        5000000-10000000             2632               6   \n",
       "4        5000000-10000000              442             250   \n",
       "...                   ...              ...             ...   \n",
       "102499            0-20000                0               0   \n",
       "102500            0-20000                0               0   \n",
       "102501            0-20000                0               0   \n",
       "102502            0-20000                0               0   \n",
       "102503            0-20000                0               0   \n",
       "\n",
       "                                                     tags  \n",
       "0       ['Action', 'FPS', 'Multiplayer', 'Shooter', 'C...  \n",
       "1       ['Action', 'FPS', 'Multiplayer', 'Classic', 'H...  \n",
       "2       ['FPS', 'World War II', 'Multiplayer', 'Shoote...  \n",
       "3       ['Action', 'FPS', 'Classic', 'Multiplayer', 'S...  \n",
       "4       ['FPS', 'Action', 'Classic', 'Sci-fi', 'Single...  \n",
       "...                                                   ...  \n",
       "102499                                                NaN  \n",
       "102500                                                NaN  \n",
       "102501                                                NaN  \n",
       "102502                                                NaN  \n",
       "102503                  ['Action', 'FPS', 'Singleplayer']  \n",
       "\n",
       "[102504 rows x 26 columns]"
      ]
     },
     "execution_count": 56,
     "metadata": {},
     "output_type": "execute_result"
    }
   ],
   "source": [
    "steam_csv"
   ]
  },
  {
   "cell_type": "code",
   "execution_count": 57,
   "id": "17df1132",
   "metadata": {},
   "outputs": [
    {
     "data": {
      "text/plain": [
       "appid                      0\n",
       "type                       0\n",
       "name                       0\n",
       "required_age               0\n",
       "dlc                    92808\n",
       "fullgame               67897\n",
       "supported_languages      152\n",
       "developers                41\n",
       "publishers                40\n",
       "packages               21351\n",
       "platforms                  0\n",
       "categories               106\n",
       "genres                   193\n",
       "achievements               0\n",
       "release_date            6828\n",
       "supported_audio        52806\n",
       "coming_soon                0\n",
       "price                  11834\n",
       "review_score               0\n",
       "total_positive             0\n",
       "total_negative             0\n",
       "rating                     0\n",
       "owners                     0\n",
       "average_forever            0\n",
       "median_forever             0\n",
       "tags                   41456\n",
       "dtype: int64"
      ]
     },
     "execution_count": 57,
     "metadata": {},
     "output_type": "execute_result"
    }
   ],
   "source": [
    "steam_csv.isnull().sum()"
   ]
  },
  {
   "cell_type": "code",
   "execution_count": 58,
   "id": "84db2023",
   "metadata": {},
   "outputs": [
    {
     "data": {
      "text/plain": [
       "(42427, 8)"
      ]
     },
     "execution_count": 58,
     "metadata": {},
     "output_type": "execute_result"
    }
   ],
   "source": [
    "steam_requirement_csv.shape"
   ]
  },
  {
   "cell_type": "code",
   "execution_count": 59,
   "id": "90a4cee0",
   "metadata": {},
   "outputs": [
    {
     "data": {
      "text/html": [
       "<div>\n",
       "<style scoped>\n",
       "    .dataframe tbody tr th:only-of-type {\n",
       "        vertical-align: middle;\n",
       "    }\n",
       "\n",
       "    .dataframe tbody tr th {\n",
       "        vertical-align: top;\n",
       "    }\n",
       "\n",
       "    .dataframe thead th {\n",
       "        text-align: right;\n",
       "    }\n",
       "</style>\n",
       "<table border=\"1\" class=\"dataframe\">\n",
       "  <thead>\n",
       "    <tr style=\"text-align: right;\">\n",
       "      <th></th>\n",
       "      <th>appid</th>\n",
       "      <th>pc_requirements</th>\n",
       "      <th>mac_requirements</th>\n",
       "      <th>linux_requirements</th>\n",
       "      <th>pc_minimum</th>\n",
       "      <th>pc_recommended</th>\n",
       "      <th>mac_minimum</th>\n",
       "      <th>mac_recommended</th>\n",
       "    </tr>\n",
       "  </thead>\n",
       "  <tbody>\n",
       "    <tr>\n",
       "      <th>0</th>\n",
       "      <td>10</td>\n",
       "      <td>{'minimum': '\\r\\n\\t\\t\\t&lt;p&gt;&lt;strong&gt;Minimum:&lt;/st...</td>\n",
       "      <td>{'minimum': 'Minimum: OS X  Snow Leopard 10.6....</td>\n",
       "      <td>{'minimum': 'Minimum: Linux Ubuntu 12.04, Dual...</td>\n",
       "      <td>500 mhz processor, 96mb ram, 16mb video card, ...</td>\n",
       "      <td>NaN</td>\n",
       "      <td>OS X  Snow Leopard 10.6.3, 1GB RAM, 4GB Hard D...</td>\n",
       "      <td>NaN</td>\n",
       "    </tr>\n",
       "    <tr>\n",
       "      <th>1</th>\n",
       "      <td>20</td>\n",
       "      <td>{'minimum': '\\r\\n\\t\\t\\t&lt;p&gt;&lt;strong&gt;Minimum:&lt;/st...</td>\n",
       "      <td>{'minimum': 'Minimum: OS X  Snow Leopard 10.6....</td>\n",
       "      <td>{'minimum': 'Minimum: Linux Ubuntu 12.04, Dual...</td>\n",
       "      <td>500 mhz processor, 96mb ram, 16mb video card, ...</td>\n",
       "      <td>NaN</td>\n",
       "      <td>OS X  Snow Leopard 10.6.3, 1GB RAM, 4GB Hard D...</td>\n",
       "      <td>NaN</td>\n",
       "    </tr>\n",
       "    <tr>\n",
       "      <th>2</th>\n",
       "      <td>30</td>\n",
       "      <td>{'minimum': '\\r\\n\\t\\t\\t&lt;p&gt;&lt;strong&gt;Minimum:&lt;/st...</td>\n",
       "      <td>{'minimum': 'Minimum: OS X  Snow Leopard 10.6....</td>\n",
       "      <td>{'minimum': 'Minimum: Linux Ubuntu 12.04, Dual...</td>\n",
       "      <td>500 mhz processor, 96mb ram, 16mb video card, ...</td>\n",
       "      <td>NaN</td>\n",
       "      <td>OS X  Snow Leopard 10.6.3, 1GB RAM, 4GB Hard D...</td>\n",
       "      <td>NaN</td>\n",
       "    </tr>\n",
       "  </tbody>\n",
       "</table>\n",
       "</div>"
      ],
      "text/plain": [
       "   appid                                    pc_requirements  \\\n",
       "0     10  {'minimum': '\\r\\n\\t\\t\\t<p><strong>Minimum:</st...   \n",
       "1     20  {'minimum': '\\r\\n\\t\\t\\t<p><strong>Minimum:</st...   \n",
       "2     30  {'minimum': '\\r\\n\\t\\t\\t<p><strong>Minimum:</st...   \n",
       "\n",
       "                                    mac_requirements  \\\n",
       "0  {'minimum': 'Minimum: OS X  Snow Leopard 10.6....   \n",
       "1  {'minimum': 'Minimum: OS X  Snow Leopard 10.6....   \n",
       "2  {'minimum': 'Minimum: OS X  Snow Leopard 10.6....   \n",
       "\n",
       "                                  linux_requirements  \\\n",
       "0  {'minimum': 'Minimum: Linux Ubuntu 12.04, Dual...   \n",
       "1  {'minimum': 'Minimum: Linux Ubuntu 12.04, Dual...   \n",
       "2  {'minimum': 'Minimum: Linux Ubuntu 12.04, Dual...   \n",
       "\n",
       "                                          pc_minimum pc_recommended  \\\n",
       "0  500 mhz processor, 96mb ram, 16mb video card, ...            NaN   \n",
       "1  500 mhz processor, 96mb ram, 16mb video card, ...            NaN   \n",
       "2  500 mhz processor, 96mb ram, 16mb video card, ...            NaN   \n",
       "\n",
       "                                         mac_minimum mac_recommended  \n",
       "0  OS X  Snow Leopard 10.6.3, 1GB RAM, 4GB Hard D...             NaN  \n",
       "1  OS X  Snow Leopard 10.6.3, 1GB RAM, 4GB Hard D...             NaN  \n",
       "2  OS X  Snow Leopard 10.6.3, 1GB RAM, 4GB Hard D...             NaN  "
      ]
     },
     "execution_count": 59,
     "metadata": {},
     "output_type": "execute_result"
    }
   ],
   "source": [
    "steam_requirement_csv.head(3)"
   ]
  },
  {
   "cell_type": "code",
   "execution_count": 60,
   "id": "789a13e9",
   "metadata": {},
   "outputs": [
    {
     "data": {
      "text/plain": [
       "appid                     0\n",
       "pc_requirements           0\n",
       "mac_requirements          0\n",
       "linux_requirements        0\n",
       "pc_minimum               10\n",
       "pc_recommended        12899\n",
       "mac_minimum              75\n",
       "mac_recommended       14275\n",
       "dtype: int64"
      ]
     },
     "execution_count": 60,
     "metadata": {},
     "output_type": "execute_result"
    }
   ],
   "source": [
    "# Inspect null values\n",
    "steam_requirement_csv.isnull().sum()"
   ]
  },
  {
   "cell_type": "markdown",
   "id": "91891449",
   "metadata": {},
   "source": [
    "According to the information about the dataset, requirement is divided as two parts: minimum and recommended. Thus pc_minimum and pc_recommended are just split from pc_requirements. Therefore, according to our need, we reconstruct requirements by combininng minimum and recommended for PC and MAC. "
   ]
  },
  {
   "cell_type": "code",
   "execution_count": 61,
   "id": "b31d1df4",
   "metadata": {},
   "outputs": [],
   "source": [
    "pc_minimum = steam_requirement_csv['pc_minimum']\n",
    "pc_recommended = steam_requirement_csv['pc_recommended']\n",
    "mac_minimum = steam_requirement_csv['mac_minimum']\n",
    "mac_recommended = steam_requirement_csv['mac_recommended']"
   ]
  },
  {
   "cell_type": "code",
   "execution_count": 62,
   "id": "0cbfcde0",
   "metadata": {},
   "outputs": [
    {
     "data": {
      "text/plain": [
       "True"
      ]
     },
     "execution_count": 62,
     "metadata": {},
     "output_type": "execute_result"
    }
   ],
   "source": [
    "str(pc_minimum.loc[333]) == 'nan'"
   ]
  },
  {
   "cell_type": "markdown",
   "id": "cb286436",
   "metadata": {},
   "source": [
    "### recombine the pc and mac requirements into strings"
   ]
  },
  {
   "cell_type": "code",
   "execution_count": 63,
   "id": "f4bcfb31",
   "metadata": {},
   "outputs": [],
   "source": [
    "pc_requirement = []\n",
    "\n",
    "for i in range(len(pc_minimum)):\n",
    "    if str(pc_minimum[i]) == 'nan':\n",
    "        minimum = 'Minimum Requirement: None'\n",
    "    else:\n",
    "        minimum = 'Minimum Requirement: ' + pc_minimum[i]\n",
    "        \n",
    "    if str(pc_recommended[i]) == 'nan':\n",
    "        recommend = 'Recommended Requirement: None'\n",
    "    else:\n",
    "        recommend = 'Recommended Requirement: ' + pc_recommended[i]\n",
    "    \n",
    "    pc_requirement.append(minimum + '; ' + recommend)    "
   ]
  },
  {
   "cell_type": "code",
   "execution_count": 64,
   "id": "c668485f",
   "metadata": {},
   "outputs": [],
   "source": [
    "mac_requirement = []\n",
    "\n",
    "for i in range(len(mac_minimum)):\n",
    "    if str(mac_minimum[i]) == 'nan':\n",
    "        minimum = 'Minimum Requirement: None'\n",
    "    else:\n",
    "        minimum = 'Minimum Requirement: ' + mac_minimum[i]\n",
    "        \n",
    "    if str(mac_recommended[i]) == 'nan':\n",
    "        recommend = 'Recommended Requirement: None'\n",
    "    else:\n",
    "        recommend = 'Recommended Requirement: ' + mac_recommended[i]\n",
    "    \n",
    "    mac_requirement.append(minimum + '; ' + recommend)    "
   ]
  },
  {
   "cell_type": "code",
   "execution_count": 65,
   "id": "4f34f939",
   "metadata": {},
   "outputs": [
    {
     "name": "stdout",
     "output_type": "stream",
     "text": [
      "42427\n"
     ]
    }
   ],
   "source": [
    "print(len(pc_requirement))"
   ]
  },
  {
   "cell_type": "code",
   "execution_count": 66,
   "id": "39da3197",
   "metadata": {},
   "outputs": [
    {
     "name": "stdout",
     "output_type": "stream",
     "text": [
      "42427\n"
     ]
    }
   ],
   "source": [
    "print(len(mac_requirement))"
   ]
  },
  {
   "cell_type": "markdown",
   "id": "df23e495",
   "metadata": {},
   "source": [
    "### linux requirement"
   ]
  },
  {
   "cell_type": "code",
   "execution_count": 67,
   "id": "835b4557",
   "metadata": {},
   "outputs": [],
   "source": [
    "linux_requirement = steam_requirement_csv['linux_requirements']\n"
   ]
  },
  {
   "cell_type": "code",
   "execution_count": 68,
   "id": "2c2c14df",
   "metadata": {},
   "outputs": [
    {
     "data": {
      "text/plain": [
       "42427"
      ]
     },
     "execution_count": 68,
     "metadata": {},
     "output_type": "execute_result"
    }
   ],
   "source": [
    "len(linux_requirement)"
   ]
  },
  {
   "cell_type": "code",
   "execution_count": 69,
   "id": "4de3e79e",
   "metadata": {},
   "outputs": [
    {
     "data": {
      "text/plain": [
       "42422    {'minimum': '<strong>Minimum:</strong><br><ul ...\n",
       "42423    {'minimum': '<strong>Minimum:</strong><br><ul ...\n",
       "42424    {'minimum': '<strong>Minimum:</strong><br><ul ...\n",
       "42425    {'minimum': '<strong>Minimum:</strong><br><ul ...\n",
       "42426                                                   []\n",
       "Name: linux_requirements, dtype: object"
      ]
     },
     "execution_count": 69,
     "metadata": {},
     "output_type": "execute_result"
    }
   ],
   "source": [
    "linux_requirement.tail()"
   ]
  },
  {
   "cell_type": "code",
   "execution_count": 70,
   "id": "530bdea0",
   "metadata": {},
   "outputs": [
    {
     "data": {
      "text/plain": [
       "\"{'minimum': 'Minimum: Linux Ubuntu 12.04, Dual-core from Intel or AMD at 2.8 GHz, 1GB Memory, nVidia GeForce 8600/9600GT, ATI/AMD Radeaon HD2600/3600 (Graphic Drivers: nVidia 310, AMD 12.11), OpenGL 2.1, 4GB Hard Drive Space, OpenAL Compatible Sound Card'}\""
      ]
     },
     "execution_count": 70,
     "metadata": {},
     "output_type": "execute_result"
    }
   ],
   "source": [
    "linux_requirement[1]"
   ]
  },
  {
   "cell_type": "code",
   "execution_count": 71,
   "id": "ee94afc6",
   "metadata": {},
   "outputs": [
    {
     "data": {
      "text/plain": [
       "'{\\'minimum\\': \\'<strong>Minimum:</strong><br><ul class=\"bb_ul\"><li><strong>OS:</strong> Linux Kernel 3.0 or above<br></li><li><strong>Processor:</strong> Core 2 Duo 2GHz or equivalent<br></li><li><strong>Memory:</strong> 4 GB RAM<br></li><li><strong>Graphics:</strong> Intel HD Graphics 4000<br></li><li><strong>Storage:</strong> 12 GB available space<br></li><li><strong>Sound Card:</strong> Yes</li></ul>\\', \\'recommended\\': \\'<strong>Recommended:</strong><br><ul class=\"bb_ul\"><li><strong>OS:</strong> Linux Kernel 3.0 or above<br></li><li><strong>Processor:</strong> Quad Core i5 2.5GHz<br></li><li><strong>Memory:</strong> 8 GB RAM<br></li><li><strong>Graphics:</strong> ATI or Nvidia card with 2GB VRAM<br></li><li><strong>Network:</strong> Broadband Internet connection<br></li><li><strong>Storage:</strong> 20 GB available space<br></li><li><strong>Sound Card:</strong> Yes</li></ul>\\'}'"
      ]
     },
     "execution_count": 71,
     "metadata": {},
     "output_type": "execute_result"
    }
   ],
   "source": [
    "linux_requirement[1000]"
   ]
  },
  {
   "cell_type": "code",
   "execution_count": 72,
   "id": "fd72f8eb",
   "metadata": {},
   "outputs": [],
   "source": [
    "# remove the '[]' values in linux requirement\n",
    "linux_requirement = linux_requirement[linux_requirement != '[]']"
   ]
  },
  {
   "cell_type": "code",
   "execution_count": 73,
   "id": "9c0af729",
   "metadata": {},
   "outputs": [],
   "source": [
    "linux_requirements = (linux_requirement\n",
    "                         .str.replace(r'\\\\[rtn]', '', regex = True)\n",
    "                         .str.replace(r'<[pbr]{1,2}>', ' ', regex = True)\n",
    "                         .str.replace(r'<[\\/\"=\\w\\s]+>', '', regex = True)\n",
    "                      )"
   ]
  },
  {
   "cell_type": "code",
   "execution_count": 74,
   "id": "777e1aac",
   "metadata": {},
   "outputs": [
    {
     "data": {
      "text/plain": [
       "\"{'minimum': 'Minimum: OS: Linux Kernel 3.0 or above Processor: Core 2 Duo 2GHz or equivalent Memory: 4 GB RAM Graphics: Intel HD Graphics 4000 Storage: 12 GB available space Sound Card: Yes', 'recommended': 'Recommended: OS: Linux Kernel 3.0 or above Processor: Quad Core i5 2.5GHz Memory: 8 GB RAM Graphics: ATI or Nvidia card with 2GB VRAM Network: Broadband Internet connection Storage: 20 GB available space Sound Card: Yes'}\""
      ]
     },
     "execution_count": 74,
     "metadata": {},
     "output_type": "execute_result"
    }
   ],
   "source": [
    "linux_requirements[1000]"
   ]
  },
  {
   "cell_type": "code",
   "execution_count": 75,
   "id": "993f5985",
   "metadata": {},
   "outputs": [],
   "source": [
    "# change the string into dictionary through literal_eval\n",
    "dict_linux_req = [literal_eval(n) for n in linux_requirements]"
   ]
  },
  {
   "cell_type": "code",
   "execution_count": 76,
   "id": "ecaa9e48",
   "metadata": {},
   "outputs": [
    {
     "data": {
      "text/plain": [
       "{'minimum': 'Minimum: Linux Ubuntu 12.04, Dual-core from Intel or AMD at 2.8 GHz, 1GB Memory, nVidia GeForce 8600/9600GT, ATI/AMD Radeaon HD2600/3600 (Graphic Drivers: nVidia 310, AMD 12.11), OpenGL 2.1, 4GB Hard Drive Space, OpenAL Compatible Sound Card'}"
      ]
     },
     "execution_count": 76,
     "metadata": {},
     "output_type": "execute_result"
    }
   ],
   "source": [
    "dict_linux_req[4]"
   ]
  },
  {
   "cell_type": "code",
   "execution_count": 77,
   "id": "d986c99c",
   "metadata": {},
   "outputs": [
    {
     "data": {
      "text/plain": [
       "dict"
      ]
     },
     "execution_count": 77,
     "metadata": {},
     "output_type": "execute_result"
    }
   ],
   "source": [
    "type(dict_linux_req[4])"
   ]
  },
  {
   "cell_type": "code",
   "execution_count": 78,
   "id": "5980f27d",
   "metadata": {},
   "outputs": [],
   "source": [
    "# extract the content and put them into strings\n",
    "cleaned_linux_req = []\n",
    "for n in dict_linux_req:\n",
    "    if n:\n",
    "        if 'minimum' in n.keys():\n",
    "            minimum = n['minimum']\n",
    "        else:\n",
    "            minimum = 'Minimum: None'\n",
    "\n",
    "        if 'recommended' in n.keys():\n",
    "            recommend = n['recommended']\n",
    "        else:\n",
    "            recommend = 'Recommended: None'\n",
    "        cleaned_linux_req.append(minimum + '; ' + recommend)\n",
    "    else:\n",
    "        cleaned_linux_req.append('None')"
   ]
  },
  {
   "cell_type": "code",
   "execution_count": 79,
   "id": "f2c47b85",
   "metadata": {},
   "outputs": [
    {
     "data": {
      "text/plain": [
       "31609"
      ]
     },
     "execution_count": 79,
     "metadata": {},
     "output_type": "execute_result"
    }
   ],
   "source": [
    "len(cleaned_linux_req)"
   ]
  },
  {
   "cell_type": "code",
   "execution_count": 80,
   "id": "e1d5c343",
   "metadata": {},
   "outputs": [
    {
     "data": {
      "text/plain": [
       "(42427, 8)"
      ]
     },
     "execution_count": 80,
     "metadata": {},
     "output_type": "execute_result"
    }
   ],
   "source": [
    "steam_requirement_csv.shape"
   ]
  },
  {
   "cell_type": "code",
   "execution_count": 81,
   "id": "6287ad3e",
   "metadata": {
    "collapsed": true
   },
   "outputs": [
    {
     "ename": "ValueError",
     "evalue": "All arrays must be of the same length",
     "output_type": "error",
     "traceback": [
      "\u001b[0;31m---------------------------------------------------------------------------\u001b[0m",
      "\u001b[0;31mValueError\u001b[0m                                Traceback (most recent call last)",
      "Input \u001b[0;32mIn [81]\u001b[0m, in \u001b[0;36m<cell line: 1>\u001b[0;34m()\u001b[0m\n\u001b[0;32m----> 1\u001b[0m cleaned_steam_requirements \u001b[38;5;241m=\u001b[39m \u001b[43mpd\u001b[49m\u001b[38;5;241;43m.\u001b[39;49m\u001b[43mDataFrame\u001b[49m\u001b[43m(\u001b[49m\u001b[43m{\u001b[49m\n\u001b[1;32m      2\u001b[0m \u001b[43m    \u001b[49m\u001b[38;5;124;43m'\u001b[39;49m\u001b[38;5;124;43mappid\u001b[39;49m\u001b[38;5;124;43m'\u001b[39;49m\u001b[43m:\u001b[49m\u001b[43m \u001b[49m\u001b[43msteam_requirement_csv\u001b[49m\u001b[43m[\u001b[49m\u001b[38;5;124;43m'\u001b[39;49m\u001b[38;5;124;43mappid\u001b[39;49m\u001b[38;5;124;43m'\u001b[39;49m\u001b[43m]\u001b[49m\u001b[43m,\u001b[49m\n\u001b[1;32m      3\u001b[0m \u001b[43m    \u001b[49m\u001b[38;5;124;43m'\u001b[39;49m\u001b[38;5;124;43mpc_requirements\u001b[39;49m\u001b[38;5;124;43m'\u001b[39;49m\u001b[43m:\u001b[49m\u001b[43m \u001b[49m\u001b[43mpc_requirement\u001b[49m\u001b[43m,\u001b[49m\n\u001b[1;32m      4\u001b[0m \u001b[43m    \u001b[49m\u001b[38;5;124;43m'\u001b[39;49m\u001b[38;5;124;43mmac_requirements\u001b[39;49m\u001b[38;5;124;43m'\u001b[39;49m\u001b[43m:\u001b[49m\u001b[43m \u001b[49m\u001b[43mmac_requirement\u001b[49m\u001b[43m,\u001b[49m\n\u001b[1;32m      5\u001b[0m \u001b[43m    \u001b[49m\u001b[38;5;124;43m'\u001b[39;49m\u001b[38;5;124;43mlinux_requirements\u001b[39;49m\u001b[38;5;124;43m'\u001b[39;49m\u001b[43m:\u001b[49m\u001b[43m \u001b[49m\u001b[43mcleaned_linux_req\u001b[49m\n\u001b[1;32m      6\u001b[0m \u001b[43m}\u001b[49m\u001b[43m)\u001b[49m\n",
      "File \u001b[0;32m~/opt/anaconda3/lib/python3.9/site-packages/pandas/core/frame.py:636\u001b[0m, in \u001b[0;36mDataFrame.__init__\u001b[0;34m(self, data, index, columns, dtype, copy)\u001b[0m\n\u001b[1;32m    630\u001b[0m     mgr \u001b[38;5;241m=\u001b[39m \u001b[38;5;28mself\u001b[39m\u001b[38;5;241m.\u001b[39m_init_mgr(\n\u001b[1;32m    631\u001b[0m         data, axes\u001b[38;5;241m=\u001b[39m{\u001b[38;5;124m\"\u001b[39m\u001b[38;5;124mindex\u001b[39m\u001b[38;5;124m\"\u001b[39m: index, \u001b[38;5;124m\"\u001b[39m\u001b[38;5;124mcolumns\u001b[39m\u001b[38;5;124m\"\u001b[39m: columns}, dtype\u001b[38;5;241m=\u001b[39mdtype, copy\u001b[38;5;241m=\u001b[39mcopy\n\u001b[1;32m    632\u001b[0m     )\n\u001b[1;32m    634\u001b[0m \u001b[38;5;28;01melif\u001b[39;00m \u001b[38;5;28misinstance\u001b[39m(data, \u001b[38;5;28mdict\u001b[39m):\n\u001b[1;32m    635\u001b[0m     \u001b[38;5;66;03m# GH#38939 de facto copy defaults to False only in non-dict cases\u001b[39;00m\n\u001b[0;32m--> 636\u001b[0m     mgr \u001b[38;5;241m=\u001b[39m \u001b[43mdict_to_mgr\u001b[49m\u001b[43m(\u001b[49m\u001b[43mdata\u001b[49m\u001b[43m,\u001b[49m\u001b[43m \u001b[49m\u001b[43mindex\u001b[49m\u001b[43m,\u001b[49m\u001b[43m \u001b[49m\u001b[43mcolumns\u001b[49m\u001b[43m,\u001b[49m\u001b[43m \u001b[49m\u001b[43mdtype\u001b[49m\u001b[38;5;241;43m=\u001b[39;49m\u001b[43mdtype\u001b[49m\u001b[43m,\u001b[49m\u001b[43m \u001b[49m\u001b[43mcopy\u001b[49m\u001b[38;5;241;43m=\u001b[39;49m\u001b[43mcopy\u001b[49m\u001b[43m,\u001b[49m\u001b[43m \u001b[49m\u001b[43mtyp\u001b[49m\u001b[38;5;241;43m=\u001b[39;49m\u001b[43mmanager\u001b[49m\u001b[43m)\u001b[49m\n\u001b[1;32m    637\u001b[0m \u001b[38;5;28;01melif\u001b[39;00m \u001b[38;5;28misinstance\u001b[39m(data, ma\u001b[38;5;241m.\u001b[39mMaskedArray):\n\u001b[1;32m    638\u001b[0m     \u001b[38;5;28;01mimport\u001b[39;00m \u001b[38;5;21;01mnumpy\u001b[39;00m\u001b[38;5;21;01m.\u001b[39;00m\u001b[38;5;21;01mma\u001b[39;00m\u001b[38;5;21;01m.\u001b[39;00m\u001b[38;5;21;01mmrecords\u001b[39;00m \u001b[38;5;28;01mas\u001b[39;00m \u001b[38;5;21;01mmrecords\u001b[39;00m\n",
      "File \u001b[0;32m~/opt/anaconda3/lib/python3.9/site-packages/pandas/core/internals/construction.py:502\u001b[0m, in \u001b[0;36mdict_to_mgr\u001b[0;34m(data, index, columns, dtype, typ, copy)\u001b[0m\n\u001b[1;32m    494\u001b[0m     arrays \u001b[38;5;241m=\u001b[39m [\n\u001b[1;32m    495\u001b[0m         x\n\u001b[1;32m    496\u001b[0m         \u001b[38;5;28;01mif\u001b[39;00m \u001b[38;5;129;01mnot\u001b[39;00m \u001b[38;5;28mhasattr\u001b[39m(x, \u001b[38;5;124m\"\u001b[39m\u001b[38;5;124mdtype\u001b[39m\u001b[38;5;124m\"\u001b[39m) \u001b[38;5;129;01mor\u001b[39;00m \u001b[38;5;129;01mnot\u001b[39;00m \u001b[38;5;28misinstance\u001b[39m(x\u001b[38;5;241m.\u001b[39mdtype, ExtensionDtype)\n\u001b[1;32m    497\u001b[0m         \u001b[38;5;28;01melse\u001b[39;00m x\u001b[38;5;241m.\u001b[39mcopy()\n\u001b[1;32m    498\u001b[0m         \u001b[38;5;28;01mfor\u001b[39;00m x \u001b[38;5;129;01min\u001b[39;00m arrays\n\u001b[1;32m    499\u001b[0m     ]\n\u001b[1;32m    500\u001b[0m     \u001b[38;5;66;03m# TODO: can we get rid of the dt64tz special case above?\u001b[39;00m\n\u001b[0;32m--> 502\u001b[0m \u001b[38;5;28;01mreturn\u001b[39;00m \u001b[43marrays_to_mgr\u001b[49m\u001b[43m(\u001b[49m\u001b[43marrays\u001b[49m\u001b[43m,\u001b[49m\u001b[43m \u001b[49m\u001b[43mcolumns\u001b[49m\u001b[43m,\u001b[49m\u001b[43m \u001b[49m\u001b[43mindex\u001b[49m\u001b[43m,\u001b[49m\u001b[43m \u001b[49m\u001b[43mdtype\u001b[49m\u001b[38;5;241;43m=\u001b[39;49m\u001b[43mdtype\u001b[49m\u001b[43m,\u001b[49m\u001b[43m \u001b[49m\u001b[43mtyp\u001b[49m\u001b[38;5;241;43m=\u001b[39;49m\u001b[43mtyp\u001b[49m\u001b[43m,\u001b[49m\u001b[43m \u001b[49m\u001b[43mconsolidate\u001b[49m\u001b[38;5;241;43m=\u001b[39;49m\u001b[43mcopy\u001b[49m\u001b[43m)\u001b[49m\n",
      "File \u001b[0;32m~/opt/anaconda3/lib/python3.9/site-packages/pandas/core/internals/construction.py:120\u001b[0m, in \u001b[0;36marrays_to_mgr\u001b[0;34m(arrays, columns, index, dtype, verify_integrity, typ, consolidate)\u001b[0m\n\u001b[1;32m    117\u001b[0m \u001b[38;5;28;01mif\u001b[39;00m verify_integrity:\n\u001b[1;32m    118\u001b[0m     \u001b[38;5;66;03m# figure out the index, if necessary\u001b[39;00m\n\u001b[1;32m    119\u001b[0m     \u001b[38;5;28;01mif\u001b[39;00m index \u001b[38;5;129;01mis\u001b[39;00m \u001b[38;5;28;01mNone\u001b[39;00m:\n\u001b[0;32m--> 120\u001b[0m         index \u001b[38;5;241m=\u001b[39m \u001b[43m_extract_index\u001b[49m\u001b[43m(\u001b[49m\u001b[43marrays\u001b[49m\u001b[43m)\u001b[49m\n\u001b[1;32m    121\u001b[0m     \u001b[38;5;28;01melse\u001b[39;00m:\n\u001b[1;32m    122\u001b[0m         index \u001b[38;5;241m=\u001b[39m ensure_index(index)\n",
      "File \u001b[0;32m~/opt/anaconda3/lib/python3.9/site-packages/pandas/core/internals/construction.py:674\u001b[0m, in \u001b[0;36m_extract_index\u001b[0;34m(data)\u001b[0m\n\u001b[1;32m    672\u001b[0m lengths \u001b[38;5;241m=\u001b[39m \u001b[38;5;28mlist\u001b[39m(\u001b[38;5;28mset\u001b[39m(raw_lengths))\n\u001b[1;32m    673\u001b[0m \u001b[38;5;28;01mif\u001b[39;00m \u001b[38;5;28mlen\u001b[39m(lengths) \u001b[38;5;241m>\u001b[39m \u001b[38;5;241m1\u001b[39m:\n\u001b[0;32m--> 674\u001b[0m     \u001b[38;5;28;01mraise\u001b[39;00m \u001b[38;5;167;01mValueError\u001b[39;00m(\u001b[38;5;124m\"\u001b[39m\u001b[38;5;124mAll arrays must be of the same length\u001b[39m\u001b[38;5;124m\"\u001b[39m)\n\u001b[1;32m    676\u001b[0m \u001b[38;5;28;01mif\u001b[39;00m have_dicts:\n\u001b[1;32m    677\u001b[0m     \u001b[38;5;28;01mraise\u001b[39;00m \u001b[38;5;167;01mValueError\u001b[39;00m(\n\u001b[1;32m    678\u001b[0m         \u001b[38;5;124m\"\u001b[39m\u001b[38;5;124mMixing dicts with non-Series may lead to ambiguous ordering.\u001b[39m\u001b[38;5;124m\"\u001b[39m\n\u001b[1;32m    679\u001b[0m     )\n",
      "\u001b[0;31mValueError\u001b[0m: All arrays must be of the same length"
     ]
    }
   ],
   "source": [
    "cleaned_steam_requirements = pd.DataFrame({\n",
    "    'appid': steam_requirement_csv['appid'],\n",
    "    'pc_requirements': pc_requirement,\n",
    "    'mac_requirements': mac_requirement,\n",
    "    'linux_requirements': cleaned_linux_req\n",
    "})"
   ]
  },
  {
   "cell_type": "code",
   "execution_count": null,
   "id": "41557574",
   "metadata": {},
   "outputs": [],
   "source": [
    "cleaned_steam_requirements.head()"
   ]
  },
  {
   "cell_type": "code",
   "execution_count": null,
   "id": "893ac5d8",
   "metadata": {},
   "outputs": [],
   "source": [
    "# export the data\n",
    "cleaned_steam_requirements.to_csv('Requirement.csv')"
   ]
  },
  {
   "cell_type": "code",
   "execution_count": null,
   "id": "83b1c12f",
   "metadata": {},
   "outputs": [],
   "source": []
  },
  {
   "cell_type": "markdown",
   "id": "2e87c7c4",
   "metadata": {},
   "source": [
    "## Detail Table"
   ]
  },
  {
   "cell_type": "markdown",
   "id": "5ab09f72",
   "metadata": {},
   "source": [
    "In the ER diagram, there is a table called \"Detail\" containing detailed information of the games. Here we combined the required detailed information.\n",
    "\n",
    "Our detailed information table contains appid, languages, short_description, and website url. "
   ]
  },
  {
   "cell_type": "code",
   "execution_count": 602,
   "id": "7eda4fd4",
   "metadata": {},
   "outputs": [],
   "source": [
    "dlc_appid = tuple(steam_csv.query('type == \"dlc\"')['appid'])"
   ]
  },
  {
   "cell_type": "markdown",
   "id": "08a34793",
   "metadata": {},
   "source": [
    "### extract website url for all dlc"
   ]
  },
  {
   "cell_type": "code",
   "execution_count": 582,
   "id": "f1725a98",
   "metadata": {},
   "outputs": [],
   "source": [
    "dlc_website_data = pd.read_csv('steam_dlc/steam_support_info.csv')"
   ]
  },
  {
   "cell_type": "code",
   "execution_count": 611,
   "id": "cd39612c",
   "metadata": {},
   "outputs": [
    {
     "data": {
      "text/plain": [
       "appid                0\n",
       "website          41829\n",
       "support_url      40666\n",
       "support_email    19883\n",
       "dtype: int64"
      ]
     },
     "execution_count": 611,
     "metadata": {},
     "output_type": "execute_result"
    }
   ],
   "source": [
    "dlc_website_data.isnull().sum()"
   ]
  },
  {
   "cell_type": "code",
   "execution_count": 620,
   "id": "4fae2d5e",
   "metadata": {},
   "outputs": [
    {
     "data": {
      "text/html": [
       "<div>\n",
       "<style scoped>\n",
       "    .dataframe tbody tr th:only-of-type {\n",
       "        vertical-align: middle;\n",
       "    }\n",
       "\n",
       "    .dataframe tbody tr th {\n",
       "        vertical-align: top;\n",
       "    }\n",
       "\n",
       "    .dataframe thead th {\n",
       "        text-align: right;\n",
       "    }\n",
       "</style>\n",
       "<table border=\"1\" class=\"dataframe\">\n",
       "  <thead>\n",
       "    <tr style=\"text-align: right;\">\n",
       "      <th></th>\n",
       "      <th>website</th>\n",
       "      <th>appid</th>\n",
       "    </tr>\n",
       "  </thead>\n",
       "  <tbody>\n",
       "    <tr>\n",
       "      <th>0</th>\n",
       "      <td>NaN</td>\n",
       "      <td>10</td>\n",
       "    </tr>\n",
       "    <tr>\n",
       "      <th>1</th>\n",
       "      <td>http://www.dayofdefeat.com/</td>\n",
       "      <td>30</td>\n",
       "    </tr>\n",
       "    <tr>\n",
       "      <th>2</th>\n",
       "      <td>NaN</td>\n",
       "      <td>50</td>\n",
       "    </tr>\n",
       "    <tr>\n",
       "      <th>3</th>\n",
       "      <td>http://www.half-life.com/</td>\n",
       "      <td>70</td>\n",
       "    </tr>\n",
       "  </tbody>\n",
       "</table>\n",
       "</div>"
      ],
      "text/plain": [
       "                       website  appid\n",
       "0                          NaN     10\n",
       "1  http://www.dayofdefeat.com/     30\n",
       "2                          NaN     50\n",
       "3    http://www.half-life.com/     70"
      ]
     },
     "execution_count": 620,
     "metadata": {},
     "output_type": "execute_result"
    }
   ],
   "source": [
    "dlc_website_data.loc[:3, ['website', 'appid']]"
   ]
  },
  {
   "cell_type": "code",
   "execution_count": 666,
   "id": "dd3c1e36",
   "metadata": {},
   "outputs": [],
   "source": [
    "website_appid = dlc_website_data['appid'].values"
   ]
  },
  {
   "cell_type": "code",
   "execution_count": 667,
   "id": "9395dce8",
   "metadata": {},
   "outputs": [],
   "source": [
    "dlc_website_url = []\n",
    "\n",
    "for appid in dlc_appid:\n",
    "    if appid in website_appid:\n",
    "        link = str(dlc_website_data.loc[dlc_website_data['appid'] == appid, 'website'].values[0])\n",
    "        if link == 'nan':\n",
    "            link = 'None'\n",
    "        dlc_website_url.append(link)\n",
    "    else:\n",
    "        dlc_website_url.append('None')"
   ]
  },
  {
   "cell_type": "code",
   "execution_count": 669,
   "id": "fb2e8efe",
   "metadata": {},
   "outputs": [
    {
     "data": {
      "text/plain": [
       "34632"
      ]
     },
     "execution_count": 669,
     "metadata": {},
     "output_type": "execute_result"
    }
   ],
   "source": [
    "len(dlc_website_url)"
   ]
  },
  {
   "cell_type": "code",
   "execution_count": 670,
   "id": "cfd4a494",
   "metadata": {},
   "outputs": [],
   "source": [
    "# extract other columns of dlc detail data\n",
    "dlc_detail = steam_csv.query('type == \"dlc\"')[['appid', 'supported_languages']]"
   ]
  },
  {
   "cell_type": "code",
   "execution_count": 674,
   "id": "0a5550fb",
   "metadata": {},
   "outputs": [],
   "source": [
    "dlc_detail['website'] = dlc_website_url"
   ]
  },
  {
   "cell_type": "code",
   "execution_count": 676,
   "id": "6fb1a127",
   "metadata": {},
   "outputs": [
    {
     "data": {
      "text/html": [
       "<div>\n",
       "<style scoped>\n",
       "    .dataframe tbody tr th:only-of-type {\n",
       "        vertical-align: middle;\n",
       "    }\n",
       "\n",
       "    .dataframe tbody tr th {\n",
       "        vertical-align: top;\n",
       "    }\n",
       "\n",
       "    .dataframe thead th {\n",
       "        text-align: right;\n",
       "    }\n",
       "</style>\n",
       "<table border=\"1\" class=\"dataframe\">\n",
       "  <thead>\n",
       "    <tr style=\"text-align: right;\">\n",
       "      <th></th>\n",
       "      <th>appid</th>\n",
       "      <th>supported_languages</th>\n",
       "      <th>website</th>\n",
       "    </tr>\n",
       "  </thead>\n",
       "  <tbody>\n",
       "    <tr>\n",
       "      <th>29</th>\n",
       "      <td>1256</td>\n",
       "      <td>['English']</td>\n",
       "      <td>None</td>\n",
       "    </tr>\n",
       "    <tr>\n",
       "      <th>30</th>\n",
       "      <td>1257</td>\n",
       "      <td>['English']</td>\n",
       "      <td>http://www.killingfloorthegame.com</td>\n",
       "    </tr>\n",
       "    <tr>\n",
       "      <th>162</th>\n",
       "      <td>4856</td>\n",
       "      <td>['English', 'French', 'German', 'Russian']</td>\n",
       "      <td>http://www.gsc-game.com/</td>\n",
       "    </tr>\n",
       "  </tbody>\n",
       "</table>\n",
       "</div>"
      ],
      "text/plain": [
       "     appid                         supported_languages  \\\n",
       "29    1256                                 ['English']   \n",
       "30    1257                                 ['English']   \n",
       "162   4856  ['English', 'French', 'German', 'Russian']   \n",
       "\n",
       "                                website  \n",
       "29                                 None  \n",
       "30   http://www.killingfloorthegame.com  \n",
       "162            http://www.gsc-game.com/  "
      ]
     },
     "execution_count": 676,
     "metadata": {},
     "output_type": "execute_result"
    }
   ],
   "source": [
    "dlc_detail.head(3)"
   ]
  },
  {
   "cell_type": "markdown",
   "id": "fcf8b764",
   "metadata": {},
   "source": [
    "### Add short description data to dlc_detail"
   ]
  },
  {
   "cell_type": "code",
   "execution_count": 679,
   "id": "796fd028",
   "metadata": {},
   "outputs": [],
   "source": [
    "dlc_description_data = pd.read_csv('steam_dlc/steam_description_data.csv')"
   ]
  },
  {
   "cell_type": "code",
   "execution_count": 690,
   "id": "6c7eb8b5",
   "metadata": {},
   "outputs": [
    {
     "data": {
      "text/html": [
       "<div>\n",
       "<style scoped>\n",
       "    .dataframe tbody tr th:only-of-type {\n",
       "        vertical-align: middle;\n",
       "    }\n",
       "\n",
       "    .dataframe tbody tr th {\n",
       "        vertical-align: top;\n",
       "    }\n",
       "\n",
       "    .dataframe thead th {\n",
       "        text-align: right;\n",
       "    }\n",
       "</style>\n",
       "<table border=\"1\" class=\"dataframe\">\n",
       "  <thead>\n",
       "    <tr style=\"text-align: right;\">\n",
       "      <th></th>\n",
       "      <th>appid</th>\n",
       "      <th>detailed_description</th>\n",
       "      <th>about_the_game</th>\n",
       "      <th>short_description</th>\n",
       "    </tr>\n",
       "  </thead>\n",
       "  <tbody>\n",
       "    <tr>\n",
       "      <th>0</th>\n",
       "      <td>10</td>\n",
       "      <td>Play the world's number 1 online action game. ...</td>\n",
       "      <td>Play the world's number 1 online action game. ...</td>\n",
       "      <td>Play the world's number 1 online action game. ...</td>\n",
       "    </tr>\n",
       "    <tr>\n",
       "      <th>1</th>\n",
       "      <td>20</td>\n",
       "      <td>One of the most popular online action games of...</td>\n",
       "      <td>One of the most popular online action games of...</td>\n",
       "      <td>One of the most popular online action games of...</td>\n",
       "    </tr>\n",
       "    <tr>\n",
       "      <th>2</th>\n",
       "      <td>30</td>\n",
       "      <td>Enlist in an intense brand of Axis vs. Allied ...</td>\n",
       "      <td>Enlist in an intense brand of Axis vs. Allied ...</td>\n",
       "      <td>Enlist in an intense brand of Axis vs. Allied ...</td>\n",
       "    </tr>\n",
       "  </tbody>\n",
       "</table>\n",
       "</div>"
      ],
      "text/plain": [
       "   appid                               detailed_description  \\\n",
       "0     10  Play the world's number 1 online action game. ...   \n",
       "1     20  One of the most popular online action games of...   \n",
       "2     30  Enlist in an intense brand of Axis vs. Allied ...   \n",
       "\n",
       "                                      about_the_game  \\\n",
       "0  Play the world's number 1 online action game. ...   \n",
       "1  One of the most popular online action games of...   \n",
       "2  Enlist in an intense brand of Axis vs. Allied ...   \n",
       "\n",
       "                                   short_description  \n",
       "0  Play the world's number 1 online action game. ...  \n",
       "1  One of the most popular online action games of...  \n",
       "2  Enlist in an intense brand of Axis vs. Allied ...  "
      ]
     },
     "execution_count": 690,
     "metadata": {},
     "output_type": "execute_result"
    }
   ],
   "source": [
    "dlc_description_data.head(3)"
   ]
  },
  {
   "cell_type": "code",
   "execution_count": 693,
   "id": "fa08e93d",
   "metadata": {},
   "outputs": [
    {
     "data": {
      "text/plain": [
       "'One of the most popular online action games of all time, Team Fortress Classic features over nine character classes -- from Medic to Spy to Demolition Man -- enlisted in a unique style of online team warfare. Each character class possesses unique weapons, items, and abilities, as teams compete online in a variety of game play modes.'"
      ]
     },
     "execution_count": 693,
     "metadata": {},
     "output_type": "execute_result"
    }
   ],
   "source": [
    "dlc_description_data.loc[dlc_description_data['appid'] == 20, 'short_description'].values[0]"
   ]
  },
  {
   "cell_type": "code",
   "execution_count": 696,
   "id": "30ccc580",
   "metadata": {},
   "outputs": [],
   "source": [
    "dlc_short_description = []\n",
    "description_appid = dlc_description_data['appid'].values\n",
    "\n",
    "for appid in dlc_appid:\n",
    "    if appid in description_appid:\n",
    "        des = dlc_description_data.loc[dlc_description_data['appid'] == appid, 'short_description'].values[0]\n",
    "        dlc_short_description.append(des)\n",
    "    else:\n",
    "        dlc_short_description.append('None')"
   ]
  },
  {
   "cell_type": "code",
   "execution_count": 697,
   "id": "8d1e8756",
   "metadata": {},
   "outputs": [
    {
     "data": {
      "text/plain": [
       "34632"
      ]
     },
     "execution_count": 697,
     "metadata": {},
     "output_type": "execute_result"
    }
   ],
   "source": [
    "len(dlc_short_description)"
   ]
  },
  {
   "cell_type": "code",
   "execution_count": 699,
   "id": "a0e7de32",
   "metadata": {},
   "outputs": [],
   "source": [
    "dlc_detail['short_description'] = dlc_short_description"
   ]
  },
  {
   "cell_type": "code",
   "execution_count": 700,
   "id": "d019c3bd",
   "metadata": {},
   "outputs": [
    {
     "data": {
      "text/html": [
       "<div>\n",
       "<style scoped>\n",
       "    .dataframe tbody tr th:only-of-type {\n",
       "        vertical-align: middle;\n",
       "    }\n",
       "\n",
       "    .dataframe tbody tr th {\n",
       "        vertical-align: top;\n",
       "    }\n",
       "\n",
       "    .dataframe thead th {\n",
       "        text-align: right;\n",
       "    }\n",
       "</style>\n",
       "<table border=\"1\" class=\"dataframe\">\n",
       "  <thead>\n",
       "    <tr style=\"text-align: right;\">\n",
       "      <th></th>\n",
       "      <th>appid</th>\n",
       "      <th>supported_languages</th>\n",
       "      <th>website</th>\n",
       "      <th>short_description</th>\n",
       "    </tr>\n",
       "  </thead>\n",
       "  <tbody>\n",
       "    <tr>\n",
       "      <th>29</th>\n",
       "      <td>1256</td>\n",
       "      <td>['English']</td>\n",
       "      <td>None</td>\n",
       "      <td>The Outbreak Character Pack adds 4 new and uni...</td>\n",
       "    </tr>\n",
       "    <tr>\n",
       "      <th>30</th>\n",
       "      <td>1257</td>\n",
       "      <td>['English']</td>\n",
       "      <td>http://www.killingfloorthegame.com</td>\n",
       "      <td>The Nightfall Character Pack adds 4 more new a...</td>\n",
       "    </tr>\n",
       "    <tr>\n",
       "      <th>162</th>\n",
       "      <td>4856</td>\n",
       "      <td>['English', 'French', 'German', 'Russian']</td>\n",
       "      <td>http://www.gsc-game.com/</td>\n",
       "      <td>This expansion contains four single-player cam...</td>\n",
       "    </tr>\n",
       "  </tbody>\n",
       "</table>\n",
       "</div>"
      ],
      "text/plain": [
       "     appid                         supported_languages  \\\n",
       "29    1256                                 ['English']   \n",
       "30    1257                                 ['English']   \n",
       "162   4856  ['English', 'French', 'German', 'Russian']   \n",
       "\n",
       "                                website  \\\n",
       "29                                 None   \n",
       "30   http://www.killingfloorthegame.com   \n",
       "162            http://www.gsc-game.com/   \n",
       "\n",
       "                                     short_description  \n",
       "29   The Outbreak Character Pack adds 4 new and uni...  \n",
       "30   The Nightfall Character Pack adds 4 more new a...  \n",
       "162  This expansion contains four single-player cam...  "
      ]
     },
     "execution_count": 700,
     "metadata": {},
     "output_type": "execute_result"
    }
   ],
   "source": [
    "dlc_detail.head(3)"
   ]
  },
  {
   "cell_type": "code",
   "execution_count": 704,
   "id": "c6d5d6b9",
   "metadata": {},
   "outputs": [
    {
     "data": {
      "text/plain": [
       "appid                    0\n",
       "supported_languages    129\n",
       "website                  0\n",
       "short_description        9\n",
       "dtype: int64"
      ]
     },
     "execution_count": 704,
     "metadata": {},
     "output_type": "execute_result"
    }
   ],
   "source": [
    "dlc_detail.isnull().sum()"
   ]
  },
  {
   "cell_type": "code",
   "execution_count": 706,
   "id": "fcdd84f3",
   "metadata": {},
   "outputs": [],
   "source": [
    "dlc_detail.loc[dlc_detail['short_description'].isnull(), 'short_description'] = 'None'"
   ]
  },
  {
   "cell_type": "markdown",
   "id": "672a8fb5",
   "metadata": {},
   "source": [
    "### clean language\n",
    "to be a string contain supported languages separated by ;"
   ]
  },
  {
   "cell_type": "code",
   "execution_count": 709,
   "id": "a787b935",
   "metadata": {},
   "outputs": [
    {
     "data": {
      "text/plain": [
       "563    NaN\n",
       "581    NaN\n",
       "660    NaN\n",
       "809    NaN\n",
       "844    NaN\n",
       "Name: supported_languages, dtype: object"
      ]
     },
     "execution_count": 709,
     "metadata": {},
     "output_type": "execute_result"
    }
   ],
   "source": [
    "dlc_detail.loc[dlc_detail['supported_languages'].isnull(), 'supported_languages'].head()"
   ]
  },
  {
   "cell_type": "code",
   "execution_count": 710,
   "id": "344ceb36",
   "metadata": {},
   "outputs": [],
   "source": [
    "dlc_detail.loc[dlc_detail['supported_languages'].isnull(), 'supported_languages'] = 'Not Available'"
   ]
  },
  {
   "cell_type": "code",
   "execution_count": 701,
   "id": "4dc4e2a6",
   "metadata": {},
   "outputs": [
    {
     "name": "stdout",
     "output_type": "stream",
     "text": [
      "supported_language datatype: <class 'str'>\n"
     ]
    }
   ],
   "source": [
    "print('supported_language datatype:', type(dlc_detail['supported_languages'][29]))"
   ]
  },
  {
   "cell_type": "code",
   "execution_count": 703,
   "id": "429d0e11",
   "metadata": {},
   "outputs": [
    {
     "data": {
      "text/plain": [
       "29                                              ['English']\n",
       "30                                              ['English']\n",
       "162              ['English', 'French', 'German', 'Russian']\n",
       "239       ['English', 'French', 'German', 'Italian', 'Sp...\n",
       "240       ['English', 'French', 'German', 'Italian', 'Sp...\n",
       "                                ...                        \n",
       "102499    ['Czech', 'English', 'French', 'German', 'Ital...\n",
       "102500    ['Danish', 'Dutch', 'English', 'French', 'Germ...\n",
       "102501    ['English', 'French', 'German', 'Italian', 'Po...\n",
       "102502    ['English', 'French', 'German', 'Italian', 'Sp...\n",
       "102503    ['English', 'French', 'German', 'Italian', 'Ja...\n",
       "Name: supported_languages, Length: 34632, dtype: object"
      ]
     },
     "execution_count": 703,
     "metadata": {},
     "output_type": "execute_result"
    }
   ],
   "source": [
    "dlc_detail['supported_languages'].isnull()"
   ]
  },
  {
   "cell_type": "code",
   "execution_count": 719,
   "id": "a0a8ff60",
   "metadata": {},
   "outputs": [],
   "source": [
    "dlc_languages = []\n",
    "\n",
    "for item in dlc_detail['supported_languages']:\n",
    "    if item != 'Not Available':\n",
    "        item_lst = literal_eval(item)\n",
    "        dlc_languages.append(';'.join(item_lst))\n",
    "    else:\n",
    "        dlc_languages.append(item)"
   ]
  },
  {
   "cell_type": "code",
   "execution_count": 721,
   "id": "6254171e",
   "metadata": {},
   "outputs": [
    {
     "data": {
      "text/plain": [
       "34632"
      ]
     },
     "execution_count": 721,
     "metadata": {},
     "output_type": "execute_result"
    }
   ],
   "source": [
    "len(dlc_languages)"
   ]
  },
  {
   "cell_type": "code",
   "execution_count": 722,
   "id": "3cd062b6",
   "metadata": {},
   "outputs": [],
   "source": [
    "dlc_detail['languages'] = dlc_languages"
   ]
  },
  {
   "cell_type": "code",
   "execution_count": 724,
   "id": "aef39653",
   "metadata": {},
   "outputs": [],
   "source": [
    "dlc_detail = dlc_detail.drop('supported_languages', axis = 1)"
   ]
  },
  {
   "cell_type": "code",
   "execution_count": 725,
   "id": "30f6441f",
   "metadata": {},
   "outputs": [
    {
     "data": {
      "text/html": [
       "<div>\n",
       "<style scoped>\n",
       "    .dataframe tbody tr th:only-of-type {\n",
       "        vertical-align: middle;\n",
       "    }\n",
       "\n",
       "    .dataframe tbody tr th {\n",
       "        vertical-align: top;\n",
       "    }\n",
       "\n",
       "    .dataframe thead th {\n",
       "        text-align: right;\n",
       "    }\n",
       "</style>\n",
       "<table border=\"1\" class=\"dataframe\">\n",
       "  <thead>\n",
       "    <tr style=\"text-align: right;\">\n",
       "      <th></th>\n",
       "      <th>appid</th>\n",
       "      <th>website</th>\n",
       "      <th>short_description</th>\n",
       "      <th>languages</th>\n",
       "    </tr>\n",
       "  </thead>\n",
       "  <tbody>\n",
       "    <tr>\n",
       "      <th>29</th>\n",
       "      <td>1256</td>\n",
       "      <td>None</td>\n",
       "      <td>The Outbreak Character Pack adds 4 new and uni...</td>\n",
       "      <td>English</td>\n",
       "    </tr>\n",
       "    <tr>\n",
       "      <th>30</th>\n",
       "      <td>1257</td>\n",
       "      <td>http://www.killingfloorthegame.com</td>\n",
       "      <td>The Nightfall Character Pack adds 4 more new a...</td>\n",
       "      <td>English</td>\n",
       "    </tr>\n",
       "    <tr>\n",
       "      <th>162</th>\n",
       "      <td>4856</td>\n",
       "      <td>http://www.gsc-game.com/</td>\n",
       "      <td>This expansion contains four single-player cam...</td>\n",
       "      <td>English;French;German;Russian</td>\n",
       "    </tr>\n",
       "  </tbody>\n",
       "</table>\n",
       "</div>"
      ],
      "text/plain": [
       "     appid                             website  \\\n",
       "29    1256                                None   \n",
       "30    1257  http://www.killingfloorthegame.com   \n",
       "162   4856            http://www.gsc-game.com/   \n",
       "\n",
       "                                     short_description  \\\n",
       "29   The Outbreak Character Pack adds 4 new and uni...   \n",
       "30   The Nightfall Character Pack adds 4 more new a...   \n",
       "162  This expansion contains four single-player cam...   \n",
       "\n",
       "                         languages  \n",
       "29                         English  \n",
       "30                         English  \n",
       "162  English;French;German;Russian  "
      ]
     },
     "execution_count": 725,
     "metadata": {},
     "output_type": "execute_result"
    }
   ],
   "source": [
    "dlc_detail.head(3)"
   ]
  },
  {
   "cell_type": "markdown",
   "id": "541c6440",
   "metadata": {},
   "source": [
    "### Now collect detail information for the steam game"
   ]
  },
  {
   "cell_type": "code",
   "execution_count": 727,
   "id": "402f0dc3",
   "metadata": {},
   "outputs": [],
   "source": [
    "steam_detail = steam_basic.loc[:, ('appid', 'languages', 'short_description', 'website')]"
   ]
  },
  {
   "cell_type": "code",
   "execution_count": 728,
   "id": "2439b661",
   "metadata": {},
   "outputs": [
    {
     "data": {
      "text/html": [
       "<div>\n",
       "<style scoped>\n",
       "    .dataframe tbody tr th:only-of-type {\n",
       "        vertical-align: middle;\n",
       "    }\n",
       "\n",
       "    .dataframe tbody tr th {\n",
       "        vertical-align: top;\n",
       "    }\n",
       "\n",
       "    .dataframe thead th {\n",
       "        text-align: right;\n",
       "    }\n",
       "</style>\n",
       "<table border=\"1\" class=\"dataframe\">\n",
       "  <thead>\n",
       "    <tr style=\"text-align: right;\">\n",
       "      <th></th>\n",
       "      <th>appid</th>\n",
       "      <th>languages</th>\n",
       "      <th>short_description</th>\n",
       "      <th>website</th>\n",
       "    </tr>\n",
       "  </thead>\n",
       "  <tbody>\n",
       "    <tr>\n",
       "      <th>0</th>\n",
       "      <td>10</td>\n",
       "      <td>English, French, German, Italian, Spanish - Sp...</td>\n",
       "      <td>Play the world's number 1 online action game. ...</td>\n",
       "      <td></td>\n",
       "    </tr>\n",
       "    <tr>\n",
       "      <th>1</th>\n",
       "      <td>1000000</td>\n",
       "      <td>English, Korean, Simplified Chinese</td>\n",
       "      <td>ASCENXION is a 2D shoot 'em up game where you ...</td>\n",
       "      <td></td>\n",
       "    </tr>\n",
       "    <tr>\n",
       "      <th>2</th>\n",
       "      <td>1000010</td>\n",
       "      <td>Simplified Chinese, English, Japanese, Traditi...</td>\n",
       "      <td>Enter a labyrinth that moves as you move, wher...</td>\n",
       "      <td></td>\n",
       "    </tr>\n",
       "  </tbody>\n",
       "</table>\n",
       "</div>"
      ],
      "text/plain": [
       "     appid                                          languages  \\\n",
       "0       10  English, French, German, Italian, Spanish - Sp...   \n",
       "1  1000000                English, Korean, Simplified Chinese   \n",
       "2  1000010  Simplified Chinese, English, Japanese, Traditi...   \n",
       "\n",
       "                                   short_description website  \n",
       "0  Play the world's number 1 online action game. ...          \n",
       "1  ASCENXION is a 2D shoot 'em up game where you ...          \n",
       "2  Enter a labyrinth that moves as you move, wher...          "
      ]
     },
     "execution_count": 728,
     "metadata": {},
     "output_type": "execute_result"
    }
   ],
   "source": [
    "steam_detail.head(3)"
   ]
  },
  {
   "cell_type": "markdown",
   "id": "84e8442d",
   "metadata": {},
   "source": [
    "**We clean this dataset so that it has similar format as the dlc dataset in the corresponding columns**"
   ]
  },
  {
   "cell_type": "code",
   "execution_count": 729,
   "id": "8a44b891",
   "metadata": {},
   "outputs": [
    {
     "data": {
      "text/plain": [
       "appid                0\n",
       "languages            0\n",
       "short_description    0\n",
       "website              0\n",
       "dtype: int64"
      ]
     },
     "execution_count": 729,
     "metadata": {},
     "output_type": "execute_result"
    }
   ],
   "source": [
    "steam_detail.isnull().sum()"
   ]
  },
  {
   "cell_type": "markdown",
   "id": "78972383",
   "metadata": {},
   "source": [
    "**Clean 'languages'**"
   ]
  },
  {
   "cell_type": "code",
   "execution_count": 733,
   "id": "f205d178",
   "metadata": {},
   "outputs": [
    {
     "name": "stdout",
     "output_type": "stream",
     "text": [
      "type 'languages': <class 'str'>\n"
     ]
    }
   ],
   "source": [
    "print('type \\'languages\\':', type(steam_detail['languages'][0]))"
   ]
  },
  {
   "cell_type": "code",
   "execution_count": 734,
   "id": "b1f2a475",
   "metadata": {},
   "outputs": [
    {
     "data": {
      "text/plain": [
       "'English, French, German, Italian, Spanish - Spain, Simplified Chinese, Traditional Chinese, Korean'"
      ]
     },
     "execution_count": 734,
     "metadata": {},
     "output_type": "execute_result"
    }
   ],
   "source": [
    "steam_detail['languages'][0]"
   ]
  },
  {
   "cell_type": "code",
   "execution_count": 735,
   "id": "6c970430",
   "metadata": {},
   "outputs": [],
   "source": [
    "cleaned_steam_languages = steam_detail['languages'].str.replace(', ', ';')"
   ]
  },
  {
   "cell_type": "code",
   "execution_count": 736,
   "id": "b58aa978",
   "metadata": {},
   "outputs": [
    {
     "data": {
      "text/plain": [
       "0    English;French;German;Italian;Spanish - Spain;...\n",
       "1                    English;Korean;Simplified Chinese\n",
       "2    Simplified Chinese;English;Japanese;Traditiona...\n",
       "3                                              English\n",
       "4                                   Simplified Chinese\n",
       "Name: languages, dtype: object"
      ]
     },
     "execution_count": 736,
     "metadata": {},
     "output_type": "execute_result"
    }
   ],
   "source": [
    "cleaned_steam_languages[:5]"
   ]
  },
  {
   "cell_type": "markdown",
   "id": "a7ac484c",
   "metadata": {},
   "source": [
    "**Clean 'website'**"
   ]
  },
  {
   "cell_type": "code",
   "execution_count": 737,
   "id": "bfa14261",
   "metadata": {},
   "outputs": [
    {
     "data": {
      "text/plain": [
       "''"
      ]
     },
     "execution_count": 737,
     "metadata": {},
     "output_type": "execute_result"
    }
   ],
   "source": [
    "steam_detail['website'][0]"
   ]
  },
  {
   "cell_type": "code",
   "execution_count": 738,
   "id": "d44f3781",
   "metadata": {},
   "outputs": [],
   "source": [
    "# replace all the '' into 'None'\n",
    "steam_detail.loc[steam_detail['website'] == '', 'website'] = 'None'"
   ]
  },
  {
   "cell_type": "code",
   "execution_count": 742,
   "id": "4b7c90c9",
   "metadata": {},
   "outputs": [
    {
     "data": {
      "text/plain": [
       "0                                 None\n",
       "1                                 None\n",
       "2                                 None\n",
       "3    http://www.cookservedelicious.com\n",
       "4                                 None\n",
       "5                                 None\n",
       "Name: website, dtype: object"
      ]
     },
     "execution_count": 742,
     "metadata": {},
     "output_type": "execute_result"
    }
   ],
   "source": [
    "steam_detail['website'][:6]"
   ]
  },
  {
   "cell_type": "markdown",
   "id": "30f308cf",
   "metadata": {},
   "source": [
    "**Clean 'short_description'** "
   ]
  },
  {
   "cell_type": "code",
   "execution_count": 755,
   "id": "2a9002f1",
   "metadata": {},
   "outputs": [
    {
     "data": {
      "text/plain": [
       "37"
      ]
     },
     "execution_count": 755,
     "metadata": {},
     "output_type": "execute_result"
    }
   ],
   "source": [
    "(steam_detail['short_description'] == '').sum()"
   ]
  },
  {
   "cell_type": "code",
   "execution_count": 753,
   "id": "c5501dd5",
   "metadata": {},
   "outputs": [],
   "source": [
    "steam_detail.loc[steam_detail['short_description'] == '', 'short_description'] = 'None'"
   ]
  },
  {
   "cell_type": "code",
   "execution_count": 756,
   "id": "54b7fe6a",
   "metadata": {},
   "outputs": [
    {
     "data": {
      "text/plain": [
       "0"
      ]
     },
     "execution_count": 756,
     "metadata": {},
     "output_type": "execute_result"
    }
   ],
   "source": [
    "(steam_detail['short_description'] == '').sum()"
   ]
  },
  {
   "cell_type": "markdown",
   "id": "b9a51347",
   "metadata": {},
   "source": [
    "**Switch the 'languages' column of steam_detail into the cleaned one, and then concat the two detail tables to be ready as the complete detail table for both steam game and dlc.**"
   ]
  },
  {
   "cell_type": "code",
   "execution_count": 757,
   "id": "e67d0575",
   "metadata": {},
   "outputs": [],
   "source": [
    "steam_detail = steam_detail.drop('languages', axis = 1)"
   ]
  },
  {
   "cell_type": "code",
   "execution_count": 758,
   "id": "142c9737",
   "metadata": {},
   "outputs": [],
   "source": [
    "steam_detail['languages'] = cleaned_steam_languages"
   ]
  },
  {
   "cell_type": "code",
   "execution_count": 759,
   "id": "08da39d1",
   "metadata": {},
   "outputs": [
    {
     "data": {
      "text/html": [
       "<div>\n",
       "<style scoped>\n",
       "    .dataframe tbody tr th:only-of-type {\n",
       "        vertical-align: middle;\n",
       "    }\n",
       "\n",
       "    .dataframe tbody tr th {\n",
       "        vertical-align: top;\n",
       "    }\n",
       "\n",
       "    .dataframe thead th {\n",
       "        text-align: right;\n",
       "    }\n",
       "</style>\n",
       "<table border=\"1\" class=\"dataframe\">\n",
       "  <thead>\n",
       "    <tr style=\"text-align: right;\">\n",
       "      <th></th>\n",
       "      <th>appid</th>\n",
       "      <th>short_description</th>\n",
       "      <th>website</th>\n",
       "      <th>languages</th>\n",
       "    </tr>\n",
       "  </thead>\n",
       "  <tbody>\n",
       "    <tr>\n",
       "      <th>0</th>\n",
       "      <td>10</td>\n",
       "      <td>Play the world's number 1 online action game. ...</td>\n",
       "      <td>None</td>\n",
       "      <td>English;French;German;Italian;Spanish - Spain;...</td>\n",
       "    </tr>\n",
       "    <tr>\n",
       "      <th>1</th>\n",
       "      <td>1000000</td>\n",
       "      <td>ASCENXION is a 2D shoot 'em up game where you ...</td>\n",
       "      <td>None</td>\n",
       "      <td>English;Korean;Simplified Chinese</td>\n",
       "    </tr>\n",
       "    <tr>\n",
       "      <th>2</th>\n",
       "      <td>1000010</td>\n",
       "      <td>Enter a labyrinth that moves as you move, wher...</td>\n",
       "      <td>None</td>\n",
       "      <td>Simplified Chinese;English;Japanese;Traditiona...</td>\n",
       "    </tr>\n",
       "  </tbody>\n",
       "</table>\n",
       "</div>"
      ],
      "text/plain": [
       "     appid                                  short_description website  \\\n",
       "0       10  Play the world's number 1 online action game. ...    None   \n",
       "1  1000000  ASCENXION is a 2D shoot 'em up game where you ...    None   \n",
       "2  1000010  Enter a labyrinth that moves as you move, wher...    None   \n",
       "\n",
       "                                           languages  \n",
       "0  English;French;German;Italian;Spanish - Spain;...  \n",
       "1                  English;Korean;Simplified Chinese  \n",
       "2  Simplified Chinese;English;Japanese;Traditiona...  "
      ]
     },
     "execution_count": 759,
     "metadata": {},
     "output_type": "execute_result"
    }
   ],
   "source": [
    "steam_detail.head(3)"
   ]
  },
  {
   "cell_type": "code",
   "execution_count": 760,
   "id": "e5ee2b2c",
   "metadata": {},
   "outputs": [
    {
     "data": {
      "text/html": [
       "<div>\n",
       "<style scoped>\n",
       "    .dataframe tbody tr th:only-of-type {\n",
       "        vertical-align: middle;\n",
       "    }\n",
       "\n",
       "    .dataframe tbody tr th {\n",
       "        vertical-align: top;\n",
       "    }\n",
       "\n",
       "    .dataframe thead th {\n",
       "        text-align: right;\n",
       "    }\n",
       "</style>\n",
       "<table border=\"1\" class=\"dataframe\">\n",
       "  <thead>\n",
       "    <tr style=\"text-align: right;\">\n",
       "      <th></th>\n",
       "      <th>appid</th>\n",
       "      <th>website</th>\n",
       "      <th>short_description</th>\n",
       "      <th>languages</th>\n",
       "    </tr>\n",
       "  </thead>\n",
       "  <tbody>\n",
       "    <tr>\n",
       "      <th>29</th>\n",
       "      <td>1256</td>\n",
       "      <td>None</td>\n",
       "      <td>The Outbreak Character Pack adds 4 new and uni...</td>\n",
       "      <td>English</td>\n",
       "    </tr>\n",
       "    <tr>\n",
       "      <th>30</th>\n",
       "      <td>1257</td>\n",
       "      <td>http://www.killingfloorthegame.com</td>\n",
       "      <td>The Nightfall Character Pack adds 4 more new a...</td>\n",
       "      <td>English</td>\n",
       "    </tr>\n",
       "    <tr>\n",
       "      <th>162</th>\n",
       "      <td>4856</td>\n",
       "      <td>http://www.gsc-game.com/</td>\n",
       "      <td>This expansion contains four single-player cam...</td>\n",
       "      <td>English;French;German;Russian</td>\n",
       "    </tr>\n",
       "  </tbody>\n",
       "</table>\n",
       "</div>"
      ],
      "text/plain": [
       "     appid                             website  \\\n",
       "29    1256                                None   \n",
       "30    1257  http://www.killingfloorthegame.com   \n",
       "162   4856            http://www.gsc-game.com/   \n",
       "\n",
       "                                     short_description  \\\n",
       "29   The Outbreak Character Pack adds 4 new and uni...   \n",
       "30   The Nightfall Character Pack adds 4 more new a...   \n",
       "162  This expansion contains four single-player cam...   \n",
       "\n",
       "                         languages  \n",
       "29                         English  \n",
       "30                         English  \n",
       "162  English;French;German;Russian  "
      ]
     },
     "execution_count": 760,
     "metadata": {},
     "output_type": "execute_result"
    }
   ],
   "source": [
    "dlc_detail.head(3)"
   ]
  },
  {
   "cell_type": "code",
   "execution_count": 761,
   "id": "8dc35183",
   "metadata": {},
   "outputs": [],
   "source": [
    "steam_detail = steam_detail[['appid', 'languages', 'short_description', 'website']]\n",
    "dlc_detail = dlc_detail[['appid', 'languages', 'short_description', 'website']]"
   ]
  },
  {
   "cell_type": "code",
   "execution_count": 762,
   "id": "4226d48e",
   "metadata": {},
   "outputs": [
    {
     "data": {
      "text/html": [
       "<div>\n",
       "<style scoped>\n",
       "    .dataframe tbody tr th:only-of-type {\n",
       "        vertical-align: middle;\n",
       "    }\n",
       "\n",
       "    .dataframe tbody tr th {\n",
       "        vertical-align: top;\n",
       "    }\n",
       "\n",
       "    .dataframe thead th {\n",
       "        text-align: right;\n",
       "    }\n",
       "</style>\n",
       "<table border=\"1\" class=\"dataframe\">\n",
       "  <thead>\n",
       "    <tr style=\"text-align: right;\">\n",
       "      <th></th>\n",
       "      <th>appid</th>\n",
       "      <th>languages</th>\n",
       "      <th>short_description</th>\n",
       "      <th>website</th>\n",
       "    </tr>\n",
       "  </thead>\n",
       "  <tbody>\n",
       "    <tr>\n",
       "      <th>0</th>\n",
       "      <td>10</td>\n",
       "      <td>English;French;German;Italian;Spanish - Spain;...</td>\n",
       "      <td>Play the world's number 1 online action game. ...</td>\n",
       "      <td>None</td>\n",
       "    </tr>\n",
       "    <tr>\n",
       "      <th>1</th>\n",
       "      <td>1000000</td>\n",
       "      <td>English;Korean;Simplified Chinese</td>\n",
       "      <td>ASCENXION is a 2D shoot 'em up game where you ...</td>\n",
       "      <td>None</td>\n",
       "    </tr>\n",
       "    <tr>\n",
       "      <th>2</th>\n",
       "      <td>1000010</td>\n",
       "      <td>Simplified Chinese;English;Japanese;Traditiona...</td>\n",
       "      <td>Enter a labyrinth that moves as you move, wher...</td>\n",
       "      <td>None</td>\n",
       "    </tr>\n",
       "  </tbody>\n",
       "</table>\n",
       "</div>"
      ],
      "text/plain": [
       "     appid                                          languages  \\\n",
       "0       10  English;French;German;Italian;Spanish - Spain;...   \n",
       "1  1000000                  English;Korean;Simplified Chinese   \n",
       "2  1000010  Simplified Chinese;English;Japanese;Traditiona...   \n",
       "\n",
       "                                   short_description website  \n",
       "0  Play the world's number 1 online action game. ...    None  \n",
       "1  ASCENXION is a 2D shoot 'em up game where you ...    None  \n",
       "2  Enter a labyrinth that moves as you move, wher...    None  "
      ]
     },
     "execution_count": 762,
     "metadata": {},
     "output_type": "execute_result"
    }
   ],
   "source": [
    "steam_detail.head(3)"
   ]
  },
  {
   "cell_type": "code",
   "execution_count": 764,
   "id": "f2a1a3b4",
   "metadata": {
    "scrolled": true
   },
   "outputs": [
    {
     "data": {
      "text/html": [
       "<div>\n",
       "<style scoped>\n",
       "    .dataframe tbody tr th:only-of-type {\n",
       "        vertical-align: middle;\n",
       "    }\n",
       "\n",
       "    .dataframe tbody tr th {\n",
       "        vertical-align: top;\n",
       "    }\n",
       "\n",
       "    .dataframe thead th {\n",
       "        text-align: right;\n",
       "    }\n",
       "</style>\n",
       "<table border=\"1\" class=\"dataframe\">\n",
       "  <thead>\n",
       "    <tr style=\"text-align: right;\">\n",
       "      <th></th>\n",
       "      <th>appid</th>\n",
       "      <th>languages</th>\n",
       "      <th>short_description</th>\n",
       "      <th>website</th>\n",
       "    </tr>\n",
       "  </thead>\n",
       "  <tbody>\n",
       "    <tr>\n",
       "      <th>29</th>\n",
       "      <td>1256</td>\n",
       "      <td>English</td>\n",
       "      <td>The Outbreak Character Pack adds 4 new and uni...</td>\n",
       "      <td>None</td>\n",
       "    </tr>\n",
       "    <tr>\n",
       "      <th>30</th>\n",
       "      <td>1257</td>\n",
       "      <td>English</td>\n",
       "      <td>The Nightfall Character Pack adds 4 more new a...</td>\n",
       "      <td>http://www.killingfloorthegame.com</td>\n",
       "    </tr>\n",
       "    <tr>\n",
       "      <th>162</th>\n",
       "      <td>4856</td>\n",
       "      <td>English;French;German;Russian</td>\n",
       "      <td>This expansion contains four single-player cam...</td>\n",
       "      <td>http://www.gsc-game.com/</td>\n",
       "    </tr>\n",
       "  </tbody>\n",
       "</table>\n",
       "</div>"
      ],
      "text/plain": [
       "     appid                      languages  \\\n",
       "29    1256                        English   \n",
       "30    1257                        English   \n",
       "162   4856  English;French;German;Russian   \n",
       "\n",
       "                                     short_description  \\\n",
       "29   The Outbreak Character Pack adds 4 new and uni...   \n",
       "30   The Nightfall Character Pack adds 4 more new a...   \n",
       "162  This expansion contains four single-player cam...   \n",
       "\n",
       "                                website  \n",
       "29                                 None  \n",
       "30   http://www.killingfloorthegame.com  \n",
       "162            http://www.gsc-game.com/  "
      ]
     },
     "execution_count": 764,
     "metadata": {},
     "output_type": "execute_result"
    }
   ],
   "source": [
    "dlc_detail.head(3)"
   ]
  },
  {
   "cell_type": "code",
   "execution_count": 766,
   "id": "ba279bbf",
   "metadata": {},
   "outputs": [],
   "source": [
    "detail = pd.concat([steam_detail, dlc_detail], join = 'inner', ignore_index = True)"
   ]
  },
  {
   "cell_type": "code",
   "execution_count": 808,
   "id": "e95116e4",
   "metadata": {},
   "outputs": [
    {
     "data": {
      "text/html": [
       "<div>\n",
       "<style scoped>\n",
       "    .dataframe tbody tr th:only-of-type {\n",
       "        vertical-align: middle;\n",
       "    }\n",
       "\n",
       "    .dataframe tbody tr th {\n",
       "        vertical-align: top;\n",
       "    }\n",
       "\n",
       "    .dataframe thead th {\n",
       "        text-align: right;\n",
       "    }\n",
       "</style>\n",
       "<table border=\"1\" class=\"dataframe\">\n",
       "  <thead>\n",
       "    <tr style=\"text-align: right;\">\n",
       "      <th></th>\n",
       "      <th>appid</th>\n",
       "      <th>languages</th>\n",
       "      <th>short_description</th>\n",
       "      <th>website</th>\n",
       "    </tr>\n",
       "  </thead>\n",
       "  <tbody>\n",
       "    <tr>\n",
       "      <th>0</th>\n",
       "      <td>10</td>\n",
       "      <td>English;French;German;Italian;Spanish - Spain;...</td>\n",
       "      <td>Play the world's number 1 online action game. ...</td>\n",
       "      <td>None</td>\n",
       "    </tr>\n",
       "    <tr>\n",
       "      <th>1</th>\n",
       "      <td>1000000</td>\n",
       "      <td>English;Korean;Simplified Chinese</td>\n",
       "      <td>ASCENXION is a 2D shoot 'em up game where you ...</td>\n",
       "      <td>None</td>\n",
       "    </tr>\n",
       "    <tr>\n",
       "      <th>2</th>\n",
       "      <td>1000010</td>\n",
       "      <td>Simplified Chinese;English;Japanese;Traditiona...</td>\n",
       "      <td>Enter a labyrinth that moves as you move, wher...</td>\n",
       "      <td>None</td>\n",
       "    </tr>\n",
       "    <tr>\n",
       "      <th>3</th>\n",
       "      <td>1000030</td>\n",
       "      <td>English</td>\n",
       "      <td>Cook, serve and manage your food truck as you ...</td>\n",
       "      <td>http://www.cookservedelicious.com</td>\n",
       "    </tr>\n",
       "    <tr>\n",
       "      <th>4</th>\n",
       "      <td>1000040</td>\n",
       "      <td>Simplified Chinese</td>\n",
       "      <td>这是一款打击感十足的细胞主题游戏！操作简单但活下去却不简单，“你”作为侵入人体的细菌病毒，通...</td>\n",
       "      <td>None</td>\n",
       "    </tr>\n",
       "  </tbody>\n",
       "</table>\n",
       "</div>"
      ],
      "text/plain": [
       "     appid                                          languages  \\\n",
       "0       10  English;French;German;Italian;Spanish - Spain;...   \n",
       "1  1000000                  English;Korean;Simplified Chinese   \n",
       "2  1000010  Simplified Chinese;English;Japanese;Traditiona...   \n",
       "3  1000030                                            English   \n",
       "4  1000040                                 Simplified Chinese   \n",
       "\n",
       "                                   short_description  \\\n",
       "0  Play the world's number 1 online action game. ...   \n",
       "1  ASCENXION is a 2D shoot 'em up game where you ...   \n",
       "2  Enter a labyrinth that moves as you move, wher...   \n",
       "3  Cook, serve and manage your food truck as you ...   \n",
       "4  这是一款打击感十足的细胞主题游戏！操作简单但活下去却不简单，“你”作为侵入人体的细菌病毒，通...   \n",
       "\n",
       "                             website  \n",
       "0                               None  \n",
       "1                               None  \n",
       "2                               None  \n",
       "3  http://www.cookservedelicious.com  \n",
       "4                               None  "
      ]
     },
     "execution_count": 808,
     "metadata": {},
     "output_type": "execute_result"
    }
   ],
   "source": [
    "detail.head()"
   ]
  },
  {
   "cell_type": "code",
   "execution_count": 768,
   "id": "1ed7a9fe",
   "metadata": {},
   "outputs": [],
   "source": [
    "detail.to_csv('Data/Detail.csv')"
   ]
  },
  {
   "cell_type": "markdown",
   "id": "b6210070",
   "metadata": {},
   "source": [
    "## Build connection from dlc to steam_game\n",
    "\n",
    "Inside the dlc_table, we decided to add the parent game id for each dlc referring from the dlc table to the steam_game table."
   ]
  },
  {
   "cell_type": "code",
   "execution_count": 769,
   "id": "69d6730b",
   "metadata": {},
   "outputs": [
    {
     "data": {
      "text/html": [
       "<div>\n",
       "<style scoped>\n",
       "    .dataframe tbody tr th:only-of-type {\n",
       "        vertical-align: middle;\n",
       "    }\n",
       "\n",
       "    .dataframe tbody tr th {\n",
       "        vertical-align: top;\n",
       "    }\n",
       "\n",
       "    .dataframe thead th {\n",
       "        text-align: right;\n",
       "    }\n",
       "</style>\n",
       "<table border=\"1\" class=\"dataframe\">\n",
       "  <thead>\n",
       "    <tr style=\"text-align: right;\">\n",
       "      <th></th>\n",
       "      <th>appid</th>\n",
       "      <th>name</th>\n",
       "      <th>release_date</th>\n",
       "      <th>genre</th>\n",
       "      <th>categories</th>\n",
       "      <th>tags</th>\n",
       "      <th>developer_id</th>\n",
       "    </tr>\n",
       "  </thead>\n",
       "  <tbody>\n",
       "    <tr>\n",
       "      <th>0</th>\n",
       "      <td>1256</td>\n",
       "      <td>Killing Floor Outbreak Character Pack</td>\n",
       "      <td>2009-07-24</td>\n",
       "      <td>Action</td>\n",
       "      <td>Single-player;Multi-player;Co-op;Downloadable ...</td>\n",
       "      <td>Action</td>\n",
       "      <td>(6255,)</td>\n",
       "    </tr>\n",
       "    <tr>\n",
       "      <th>1</th>\n",
       "      <td>1257</td>\n",
       "      <td>Killing Floor: Nightfall Character Pack</td>\n",
       "      <td>2010-05-19</td>\n",
       "      <td>Action</td>\n",
       "      <td>Single-player;Multi-player;Co-op;Downloadable ...</td>\n",
       "      <td>Action</td>\n",
       "      <td>(6255,)</td>\n",
       "    </tr>\n",
       "    <tr>\n",
       "      <th>2</th>\n",
       "      <td>4856</td>\n",
       "      <td>Cossacks: Campaign Expansion</td>\n",
       "      <td>2011-01-21</td>\n",
       "      <td>Strategy</td>\n",
       "      <td>Single-player;Downloadable Content</td>\n",
       "      <td>Strategy</td>\n",
       "      <td>(4984,)</td>\n",
       "    </tr>\n",
       "  </tbody>\n",
       "</table>\n",
       "</div>"
      ],
      "text/plain": [
       "   appid                                     name release_date     genre  \\\n",
       "0   1256    Killing Floor Outbreak Character Pack   2009-07-24    Action   \n",
       "1   1257  Killing Floor: Nightfall Character Pack   2010-05-19    Action   \n",
       "2   4856             Cossacks: Campaign Expansion   2011-01-21  Strategy   \n",
       "\n",
       "                                          categories      tags developer_id  \n",
       "0  Single-player;Multi-player;Co-op;Downloadable ...    Action      (6255,)  \n",
       "1  Single-player;Multi-player;Co-op;Downloadable ...    Action      (6255,)  \n",
       "2                 Single-player;Downloadable Content  Strategy      (4984,)  "
      ]
     },
     "execution_count": 769,
     "metadata": {},
     "output_type": "execute_result"
    }
   ],
   "source": [
    "dlc_new.head(3)"
   ]
  },
  {
   "cell_type": "markdown",
   "id": "7dcc0048",
   "metadata": {},
   "source": [
    "We want to add a column called 'parent_appid' in this dataset. In the steam_csv, the column 'fullgame' contains information of the appid and name of its parent game. Therefore, we extract it. "
   ]
  },
  {
   "cell_type": "code",
   "execution_count": 778,
   "id": "2dc51ae7",
   "metadata": {},
   "outputs": [],
   "source": [
    "parent_info = steam_csv.query('type == \"dlc\"').loc[:, ('appid', 'fullgame')]"
   ]
  },
  {
   "cell_type": "code",
   "execution_count": 779,
   "id": "27280401",
   "metadata": {},
   "outputs": [
    {
     "data": {
      "text/html": [
       "<div>\n",
       "<style scoped>\n",
       "    .dataframe tbody tr th:only-of-type {\n",
       "        vertical-align: middle;\n",
       "    }\n",
       "\n",
       "    .dataframe tbody tr th {\n",
       "        vertical-align: top;\n",
       "    }\n",
       "\n",
       "    .dataframe thead th {\n",
       "        text-align: right;\n",
       "    }\n",
       "</style>\n",
       "<table border=\"1\" class=\"dataframe\">\n",
       "  <thead>\n",
       "    <tr style=\"text-align: right;\">\n",
       "      <th></th>\n",
       "      <th>appid</th>\n",
       "      <th>fullgame</th>\n",
       "    </tr>\n",
       "  </thead>\n",
       "  <tbody>\n",
       "    <tr>\n",
       "      <th>29</th>\n",
       "      <td>1256</td>\n",
       "      <td>{'appid': '1250', 'name': 'Killing Floor'}</td>\n",
       "    </tr>\n",
       "    <tr>\n",
       "      <th>30</th>\n",
       "      <td>1257</td>\n",
       "      <td>{'appid': '1250', 'name': 'Killing Floor'}</td>\n",
       "    </tr>\n",
       "    <tr>\n",
       "      <th>162</th>\n",
       "      <td>4856</td>\n",
       "      <td>{'appid': '4850', 'name': 'Cossacks: Back to W...</td>\n",
       "    </tr>\n",
       "  </tbody>\n",
       "</table>\n",
       "</div>"
      ],
      "text/plain": [
       "     appid                                           fullgame\n",
       "29    1256         {'appid': '1250', 'name': 'Killing Floor'}\n",
       "30    1257         {'appid': '1250', 'name': 'Killing Floor'}\n",
       "162   4856  {'appid': '4850', 'name': 'Cossacks: Back to W..."
      ]
     },
     "execution_count": 779,
     "metadata": {},
     "output_type": "execute_result"
    }
   ],
   "source": [
    "parent_info.head(3)"
   ]
  },
  {
   "cell_type": "code",
   "execution_count": 780,
   "id": "96691bc4",
   "metadata": {},
   "outputs": [
    {
     "data": {
      "text/plain": [
       "appid        0\n",
       "fullgame    26\n",
       "dtype: int64"
      ]
     },
     "execution_count": 780,
     "metadata": {},
     "output_type": "execute_result"
    }
   ],
   "source": [
    "parent_info.isnull().sum()"
   ]
  },
  {
   "cell_type": "code",
   "execution_count": 782,
   "id": "9b3b064e",
   "metadata": {},
   "outputs": [
    {
     "name": "stdout",
     "output_type": "stream",
     "text": [
      "type of column 'fullgame' <class 'str'>\n"
     ]
    }
   ],
   "source": [
    "print('type of column \\'fullgame\\'', type(parent_info['fullgame'][29]))"
   ]
  },
  {
   "cell_type": "code",
   "execution_count": 786,
   "id": "7774a426",
   "metadata": {},
   "outputs": [
    {
     "data": {
      "text/html": [
       "<div>\n",
       "<style scoped>\n",
       "    .dataframe tbody tr th:only-of-type {\n",
       "        vertical-align: middle;\n",
       "    }\n",
       "\n",
       "    .dataframe tbody tr th {\n",
       "        vertical-align: top;\n",
       "    }\n",
       "\n",
       "    .dataframe thead th {\n",
       "        text-align: right;\n",
       "    }\n",
       "</style>\n",
       "<table border=\"1\" class=\"dataframe\">\n",
       "  <thead>\n",
       "    <tr style=\"text-align: right;\">\n",
       "      <th></th>\n",
       "      <th>appid</th>\n",
       "      <th>fullgame</th>\n",
       "    </tr>\n",
       "  </thead>\n",
       "  <tbody>\n",
       "    <tr>\n",
       "      <th>1238</th>\n",
       "      <td>50142</td>\n",
       "      <td>NaN</td>\n",
       "    </tr>\n",
       "    <tr>\n",
       "      <th>1929</th>\n",
       "      <td>205093</td>\n",
       "      <td>NaN</td>\n",
       "    </tr>\n",
       "    <tr>\n",
       "      <th>3045</th>\n",
       "      <td>230889</td>\n",
       "      <td>NaN</td>\n",
       "    </tr>\n",
       "  </tbody>\n",
       "</table>\n",
       "</div>"
      ],
      "text/plain": [
       "       appid fullgame\n",
       "1238   50142      NaN\n",
       "1929  205093      NaN\n",
       "3045  230889      NaN"
      ]
     },
     "execution_count": 786,
     "metadata": {},
     "output_type": "execute_result"
    }
   ],
   "source": [
    "parent_info.loc[parent_info['fullgame'].isnull(), :].head(3)"
   ]
  },
  {
   "cell_type": "code",
   "execution_count": 787,
   "id": "85e86bc3",
   "metadata": {},
   "outputs": [],
   "source": [
    "parent_info.loc[parent_info['fullgame'].isnull(), 'fullgame'] = 'Not Available'"
   ]
  },
  {
   "cell_type": "code",
   "execution_count": 797,
   "id": "9d4b07d4",
   "metadata": {},
   "outputs": [
    {
     "data": {
      "text/plain": [
       "appid       0\n",
       "fullgame    0\n",
       "dtype: int64"
      ]
     },
     "execution_count": 797,
     "metadata": {},
     "output_type": "execute_result"
    }
   ],
   "source": [
    "parent_info.isnull().sum()"
   ]
  },
  {
   "cell_type": "code",
   "execution_count": 812,
   "id": "86125aee",
   "metadata": {},
   "outputs": [],
   "source": [
    "parent_info = parent_info.reset_index()"
   ]
  },
  {
   "cell_type": "code",
   "execution_count": 822,
   "id": "5c5b94a5",
   "metadata": {},
   "outputs": [
    {
     "data": {
      "text/html": [
       "<div>\n",
       "<style scoped>\n",
       "    .dataframe tbody tr th:only-of-type {\n",
       "        vertical-align: middle;\n",
       "    }\n",
       "\n",
       "    .dataframe tbody tr th {\n",
       "        vertical-align: top;\n",
       "    }\n",
       "\n",
       "    .dataframe thead th {\n",
       "        text-align: right;\n",
       "    }\n",
       "</style>\n",
       "<table border=\"1\" class=\"dataframe\">\n",
       "  <thead>\n",
       "    <tr style=\"text-align: right;\">\n",
       "      <th></th>\n",
       "      <th>index</th>\n",
       "      <th>appid</th>\n",
       "      <th>fullgame</th>\n",
       "    </tr>\n",
       "  </thead>\n",
       "  <tbody>\n",
       "    <tr>\n",
       "      <th>178</th>\n",
       "      <td>1060</td>\n",
       "      <td>42722</td>\n",
       "      <td>{'appid': '42700', 'name': 'Call of Duty®: Bla...</td>\n",
       "    </tr>\n",
       "    <tr>\n",
       "      <th>179</th>\n",
       "      <td>1061</td>\n",
       "      <td>42800</td>\n",
       "      <td>25930.0</td>\n",
       "    </tr>\n",
       "  </tbody>\n",
       "</table>\n",
       "</div>"
      ],
      "text/plain": [
       "     index  appid                                           fullgame\n",
       "178   1060  42722  {'appid': '42700', 'name': 'Call of Duty®: Bla...\n",
       "179   1061  42800                                            25930.0"
      ]
     },
     "execution_count": 822,
     "metadata": {},
     "output_type": "execute_result"
    }
   ],
   "source": [
    "parent_info.iloc[178:180, :]"
   ]
  },
  {
   "cell_type": "code",
   "execution_count": 818,
   "id": "2fd6b5ef",
   "metadata": {},
   "outputs": [
    {
     "data": {
      "text/plain": [
       "1250"
      ]
     },
     "execution_count": 818,
     "metadata": {},
     "output_type": "execute_result"
    }
   ],
   "source": [
    "int(float('1250.0'))"
   ]
  },
  {
   "cell_type": "code",
   "execution_count": 832,
   "id": "7e017410",
   "metadata": {},
   "outputs": [],
   "source": [
    "parent_id = []\n",
    "for item in parent_info['fullgame']:\n",
    "    if item != 'Not Available':\n",
    "        try:\n",
    "            parent_id.append(int(literal_eval(item)['appid']))\n",
    "        except:\n",
    "            parent_id.append(int(float(item)))\n",
    "    else:\n",
    "        parent_id.append(np.nan)"
   ]
  },
  {
   "cell_type": "code",
   "execution_count": 836,
   "id": "b1c43dfc",
   "metadata": {},
   "outputs": [],
   "source": [
    "dlc_new['parent_id'] = parent_id"
   ]
  },
  {
   "cell_type": "code",
   "execution_count": 837,
   "id": "b09039a9",
   "metadata": {},
   "outputs": [
    {
     "data": {
      "text/html": [
       "<div>\n",
       "<style scoped>\n",
       "    .dataframe tbody tr th:only-of-type {\n",
       "        vertical-align: middle;\n",
       "    }\n",
       "\n",
       "    .dataframe tbody tr th {\n",
       "        vertical-align: top;\n",
       "    }\n",
       "\n",
       "    .dataframe thead th {\n",
       "        text-align: right;\n",
       "    }\n",
       "</style>\n",
       "<table border=\"1\" class=\"dataframe\">\n",
       "  <thead>\n",
       "    <tr style=\"text-align: right;\">\n",
       "      <th></th>\n",
       "      <th>appid</th>\n",
       "      <th>name</th>\n",
       "      <th>release_date</th>\n",
       "      <th>genre</th>\n",
       "      <th>categories</th>\n",
       "      <th>tags</th>\n",
       "      <th>developer_id</th>\n",
       "      <th>parent_id</th>\n",
       "    </tr>\n",
       "  </thead>\n",
       "  <tbody>\n",
       "    <tr>\n",
       "      <th>0</th>\n",
       "      <td>1256</td>\n",
       "      <td>Killing Floor Outbreak Character Pack</td>\n",
       "      <td>2009-07-24</td>\n",
       "      <td>Action</td>\n",
       "      <td>Single-player;Multi-player;Co-op;Downloadable ...</td>\n",
       "      <td>Action</td>\n",
       "      <td>(6255,)</td>\n",
       "      <td>1250.0</td>\n",
       "    </tr>\n",
       "    <tr>\n",
       "      <th>1</th>\n",
       "      <td>1257</td>\n",
       "      <td>Killing Floor: Nightfall Character Pack</td>\n",
       "      <td>2010-05-19</td>\n",
       "      <td>Action</td>\n",
       "      <td>Single-player;Multi-player;Co-op;Downloadable ...</td>\n",
       "      <td>Action</td>\n",
       "      <td>(6255,)</td>\n",
       "      <td>1250.0</td>\n",
       "    </tr>\n",
       "    <tr>\n",
       "      <th>2</th>\n",
       "      <td>4856</td>\n",
       "      <td>Cossacks: Campaign Expansion</td>\n",
       "      <td>2011-01-21</td>\n",
       "      <td>Strategy</td>\n",
       "      <td>Single-player;Downloadable Content</td>\n",
       "      <td>Strategy</td>\n",
       "      <td>(4984,)</td>\n",
       "      <td>4850.0</td>\n",
       "    </tr>\n",
       "  </tbody>\n",
       "</table>\n",
       "</div>"
      ],
      "text/plain": [
       "   appid                                     name release_date     genre  \\\n",
       "0   1256    Killing Floor Outbreak Character Pack   2009-07-24    Action   \n",
       "1   1257  Killing Floor: Nightfall Character Pack   2010-05-19    Action   \n",
       "2   4856             Cossacks: Campaign Expansion   2011-01-21  Strategy   \n",
       "\n",
       "                                          categories      tags developer_id  \\\n",
       "0  Single-player;Multi-player;Co-op;Downloadable ...    Action      (6255,)   \n",
       "1  Single-player;Multi-player;Co-op;Downloadable ...    Action      (6255,)   \n",
       "2                 Single-player;Downloadable Content  Strategy      (4984,)   \n",
       "\n",
       "   parent_id  \n",
       "0     1250.0  \n",
       "1     1250.0  \n",
       "2     4850.0  "
      ]
     },
     "execution_count": 837,
     "metadata": {},
     "output_type": "execute_result"
    }
   ],
   "source": [
    "dlc_new.head(3)"
   ]
  },
  {
   "cell_type": "code",
   "execution_count": 843,
   "id": "8a4e0436",
   "metadata": {},
   "outputs": [],
   "source": [
    "dlc_new.to_csv('Data/dlc.csv')"
   ]
  }
 ],
 "metadata": {
  "kernelspec": {
   "display_name": "Python 3 (ipykernel)",
   "language": "python",
   "name": "python3"
  },
  "language_info": {
   "codemirror_mode": {
    "name": "ipython",
    "version": 3
   },
   "file_extension": ".py",
   "mimetype": "text/x-python",
   "name": "python",
   "nbconvert_exporter": "python",
   "pygments_lexer": "ipython3",
   "version": "3.9.12"
  }
 },
 "nbformat": 4,
 "nbformat_minor": 5
}
